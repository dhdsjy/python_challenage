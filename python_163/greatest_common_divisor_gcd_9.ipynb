{
 "cells": [
  {
   "cell_type": "code",
   "execution_count": 3,
   "metadata": {
    "collapsed": false
   },
   "outputs": [
    {
     "name": "stdout",
     "output_type": "stream",
     "text": [
      "4\n",
      "12\n",
      "4\n"
     ]
    }
   ],
   "source": [
    "\"\"\"给你两个正整数a和b， 输出它们的最大公约数。\"\"\"\n",
    "# my solution 辗转相除法 感觉效率不是很高\n",
    "# a=24\n",
    "# b=7\n",
    "a = input()\n",
    "b = input()\n",
    "c = a%b\n",
    "while c != 0:\n",
    "    a,b = b,c\n",
    "    c = a%b# 让循环持续进行下去的条件，一开始没加\n",
    "if c==0:\n",
    "    print b\n",
    "\n",
    "# 小知识点\n",
    "# 1、4%12=4 推广：任何小数除以大数，模运算结果均为小数 所以这个代码没有判断 a b的大小也是ac的\n",
    "# 2、有两整数a和b：① a%b得余数c ② 若c=0，则b即为两数的最大公约数\n",
    "\n"
   ]
  },
  {
   "cell_type": "code",
   "execution_count": 9,
   "metadata": {
    "collapsed": false
   },
   "outputs": [
    {
     "name": "stdout",
     "output_type": "stream",
     "text": [
      "1\n"
     ]
    }
   ],
   "source": [
    "# method \n",
    "a=7\n",
    "b=24\n",
    "for x in range(1,min(a,b)+1)[::-1]:\n",
    "    if a%x ==0 and b%x ==0:\n",
    "        print x\n",
    "        break\n",
    "\n",
    "# 解决list.reverse() 返回none的问题 使用list[::-1]"
   ]
  },
  {
   "cell_type": "code",
   "execution_count": 6,
   "metadata": {
    "collapsed": false
   },
   "outputs": [
    {
     "name": "stdout",
     "output_type": "stream",
     "text": [
      "2\n",
      "2\n"
     ]
    }
   ],
   "source": [
    "# method 1 穷举法  看思路 代码混在一个cell中了\n",
    "print(max([x for x in range(1,a) if a%x==0 and b%x==0]))\n",
    "\n",
    "# 改进 改进：① i= a(或b) ② 若a，b能同时被i整除，则i即为最大公约数，\n",
    "\n",
    "maxno = max(a,b)\n",
    "for i in range(1,maxno):\n",
    "    if (a % i == 0) & (b % i == 0):\n",
    "        thisnumber = i\n",
    "print thisnumber\n",
    "\n"
   ]
  },
  {
   "cell_type": "code",
   "execution_count": 5,
   "metadata": {
    "collapsed": false
   },
   "outputs": [
    {
     "name": "stdout",
     "output_type": "stream",
     "text": [
      "4\n"
     ]
    }
   ],
   "source": [
    "# method 2 简洁的gcd\n",
    "while b > 0:\n",
    "    a, b = b, a % b\n",
    "print a"
   ]
  },
  {
   "cell_type": "code",
   "execution_count": 10,
   "metadata": {
    "collapsed": false
   },
   "outputs": [
    {
     "name": "stdout",
     "output_type": "stream",
     "text": [
      "1\n"
     ]
    }
   ],
   "source": [
    "# method 3 递归\n",
    "def fun(a,b):\n",
    "    if a%b==0:\n",
    "        return b\n",
    "    else:\n",
    "        return fun(b,a%b)\n",
    "print(fun(a,b))"
   ]
  },
  {
   "cell_type": "code",
   "execution_count": 11,
   "metadata": {
    "collapsed": false
   },
   "outputs": [
    {
     "name": "stdout",
     "output_type": "stream",
     "text": [
      "1\n"
     ]
    }
   ],
   "source": [
    "# method 4 set\n",
    "s = set()\n",
    "t = set()\n",
    "for x in xrange(1,a+1):\n",
    "    if a%x == 0:\n",
    "        s.add(x)\n",
    "for y in xrange(1,b+1):\n",
    "    if b%y == 0:\n",
    "        t.add(y)\n",
    "print max(s&t)"
   ]
  },
  {
   "cell_type": "code",
   "execution_count": null,
   "metadata": {
    "collapsed": true
   },
   "outputs": [],
   "source": [
    "# method 5 一个大神的思路 还没看\n",
    "def gcd(big,small):\n",
    "    remainder = big % small #求余数\n",
    "    if remainder == 0:   #如果两个数相除,余数为0，那么除数就是最大公约数了\n",
    "        print small\n",
    "    else:\n",
    "        gcd(small,remainder) #调用gcd函数，带入最小的数(在这里也就是除数)和余数继续辗转相除运算，（两个数相除，除数肯定大于余数）\n",
    "\n",
    "#接下来就是判断a和b谁的值大，因为求最大公约数是用大值除以小值\n",
    "if a > b:\n",
    "    gcd(a,b)\n",
    "else:\n",
    "    gcd(b,a)"
   ]
  },
  {
   "cell_type": "code",
   "execution_count": 12,
   "metadata": {
    "collapsed": false
   },
   "outputs": [
    {
     "name": "stdout",
     "output_type": "stream",
     "text": [
      "1\n"
     ]
    }
   ],
   "source": [
    "# 列表\n",
    "l=[a,b]\n",
    "l.sort()\n",
    "i=1\n",
    "while(i):\n",
    "    i=l[1]%l[0]\n",
    "    l[1]=l[0]\n",
    "    l[0]=i\n",
    "print l[1]\n",
    "\n",
    "# 列表 更相减损术\n",
    "L=[a,b]\n",
    "L.sort()\n",
    "while L[0]%L[1]<>0 and L[1]%L[0]<>0:\n",
    "    L.append(abs(L[0]-L[1]))\n",
    "    L.sort()\n",
    "    print L\n",
    "print L[0]"
   ]
  },
  {
   "cell_type": "code",
   "execution_count": null,
   "metadata": {
    "collapsed": true
   },
   "outputs": [],
   "source": [
    "# lambda函数法\n",
    "gcd = lambda x,y: gcd(y,x) if x < y else gcd(y,x%y) if x%y else y\n",
    "\n",
    "print gcd(a,b)"
   ]
  },
  {
   "cell_type": "code",
   "execution_count": null,
   "metadata": {
    "collapsed": true
   },
   "outputs": [],
   "source": [
    "# C语言思维版\n",
    "i=2\n",
    "minnumber = min(a,b)\n",
    "if minnumber==1:\n",
    "    print 1\n",
    "else:\n",
    "    while i<=minnumber:\n",
    "        if a%i==0 and b%i==0:\n",
    "            print i\n",
    "            break\n",
    "        else:\n",
    "            i+=1\n",
    "    else:\n",
    "        print 1"
   ]
  }
 ],
 "metadata": {
  "kernelspec": {
   "display_name": "Python 2",
   "language": "python",
   "name": "python2"
  },
  "language_info": {
   "codemirror_mode": {
    "name": "ipython",
    "version": 2
   },
   "file_extension": ".py",
   "mimetype": "text/x-python",
   "name": "python",
   "nbconvert_exporter": "python",
   "pygments_lexer": "ipython2",
   "version": "2.7.12"
  }
 },
 "nbformat": 4,
 "nbformat_minor": 0
}
