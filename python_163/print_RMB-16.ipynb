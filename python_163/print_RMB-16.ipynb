{
 "cells": [
  {
   "cell_type": "markdown",
   "metadata": {},
   "source": [
    "人民币金额打印 \n",
    "讨论此题 | 解题报告 \n",
    "顶(45) (AC/Submit)Ratio(659|4822)13.67%  踩(8)\n",
    "\n",
    "描述:\n",
    "银行在打印票据的时候，常常需要将阿拉伯数字表示的人民币金额转换为大写表示，现在请你来完成这样一个程序。\n",
    "在中文大写方式中，0到10以及100、1000、10000被依次表示为：\n",
    "    零壹贰叁肆伍陆柒捌玖拾佰仟万\n",
    "以下的例子示范了阿拉伯数字到人民币大写的转换规则：\n",
    "\n",
    "1\t壹圆\n",
    "11\t壹拾壹圆\n",
    "111\t壹佰壹拾壹圆\n",
    "101\t壹佰零壹圆\n",
    "-1000\t负壹仟圆\n",
    "1234567\t壹佰贰拾叁万肆仟伍佰陆拾柒圆\n",
    "\n",
    "现在给你一个整数a(|a|<100000000), 打印出人民币大写表示.\n",
    "注意：请以Unicode的形式输出答案。你可以通过decode(\"utf8\")来将utf8格式的字符串解码为Unicode，例如你要输出ans = \"零圆\", print ans.decode(\"utf8\").\n",
    "Note：数据已于2013-11-19日加强，原来通过的代码可能不能再次通过。"
   ]
  },
  {
   "cell_type": "code",
   "execution_count": 3,
   "metadata": {
    "collapsed": false
   },
   "outputs": [
    {
     "name": "stdout",
     "output_type": "stream",
     "text": [
      "10 9 8 7 6 5 4 3 2 g n i r t\n"
     ]
    }
   ],
   "source": [
    "# my solution 没写出自己的代码 只是想到老分两种情况 然而这个用abs就解决 了 根本不用条件判断\n",
    "# 虽然想到了不用分情况讨论 但是就是不知道如何写出来 \n",
    "\n",
    "## my difficult\n",
    "## 读数应该从高位读 所以你得事先确定位数 但是这个怎么循环？\n",
    "\n",
    "## range中的倒序输出\n",
    "for i in range(10,1,-1):\n",
    "    print i,\n",
    "\n",
    "s = 'string'\n",
    "for i in s[:0:-1]:\n",
    "    print i,"
   ]
  },
  {
   "cell_type": "code",
   "execution_count": 43,
   "metadata": {
    "collapsed": false
   },
   "outputs": [
    {
     "name": "stdout",
     "output_type": "stream",
     "text": [
      "壹仟贰佰零叁万肆仟肆佰\n"
     ]
    }
   ],
   "source": [
    "# Discuss\n",
    "## method 1 discuss中的一个解决方法\n",
    "def f(n): # n < 10*8\n",
    "    if n==0: \n",
    "        return '零圆'\n",
    "    w0 = ['零','壹','贰','叁','肆','伍','陆','柒','捌','玖']\n",
    "    w1 = ['圆','拾','佰','仟','万','拾','佰','仟']\n",
    "    # w0 = '零壹贰叁肆伍陆柒捌玖'\n",
    "    # w1 = '圆拾佰仟万拾佰仟'\n",
    "    \n",
    "    r = []\n",
    "    L = [int(i) for i in str(n)]\n",
    "    \n",
    "    t = 0\n",
    "    while t<len(L):\n",
    "        if t>0 and L[t-1]==0: # common\n",
    "            r.append('零')\n",
    "        r.append(w0[L[t]] + w1[len(L)-t-1])\n",
    "        t += 1\n",
    "        while t<len(L) and L[t]==0: # ***while-while***\n",
    "            # fix bug 1000001 \"壹佰零壹圆\"\n",
    "            if t+4==len(L)-1 and L[t]==0:\n",
    "                r.append('万')\n",
    "                L[t]==1\n",
    "            t += 1\n",
    "    return ''.join(r)\n",
    "    \n",
    "\n",
    "def p(n): # n < 10*8\n",
    "    return f(n) if n>=0 else '负'+f(-n)\n",
    "\n",
    "print p(a)"
   ]
  },
  {
   "cell_type": "code",
   "execution_count": null,
   "metadata": {
    "collapsed": true
   },
   "outputs": [],
   "source": [
    "# method\n",
    "Mystring = ''\n",
    "if a<0:\n",
    "    Mystring += '负'\n",
    "    a = -a\n",
    "elif a ==0:\n",
    "    Mystring += '零'\n",
    "NumList1 = ('零','壹','贰','叁','肆','伍','陆','柒','捌','玖')\n",
    "NumList2 = ('','拾','佰','仟')\n",
    "OutEverFlg = 0\n",
    "ZeroFlg = 0\n",
    "thisNum = 0\n",
    "for i in range(8,-1,-1):\n",
    "    thisNum = a / (10**i) % 10\n",
    "    if thisNum > 0:\n",
    "        if ZeroFlg == 0 and OutEverFlg == 1:\n",
    "            Mystring += '零'        \n",
    "        Mystring += NumList1[thisNum]+NumList2[i%4]\n",
    "        ZeroFlg = 1\n",
    "        OutEverFlg = 1\n",
    "    else:\n",
    "        ZeroFlg = 0\n",
    "    if i == 4 and OutEverFlg == 1:\n",
    "        Mystring += '万'\n",
    "Mystring += '圆'\n",
    "print Mystring"
   ]
  },
  {
   "cell_type": "code",
   "execution_count": 42,
   "metadata": {
    "collapsed": false
   },
   "outputs": [
    {
     "name": "stdout",
     "output_type": "stream",
     "text": [
      "壹仟贰佰零叁万肆仟肆佰圆\n"
     ]
    }
   ],
   "source": [
    "## method 2 一个朴素的解法 只能是8位以下啊\n",
    "a = 12034400\n",
    "if a == 0:\n",
    "    result = '零圆'\n",
    "else:\n",
    "    sub_name = ['零', '壹', '贰', '叁', '肆', '伍', '陆', '柒', '捌', '玖']\n",
    "    digits = ['圆', '拾', '佰', '仟', '万', '拾', '佰', '仟']\n",
    "    str_a = str(abs(a))\n",
    "    # 初步转大写\n",
    "    f_result = list(map(lambda x: sub_name[x], [int(x) for x in str_a]))[::-1]\n",
    "    # 完全转化\n",
    "    s_result = ''.join(list(map(lambda x: f_result[x] + digits[x], [int(x) for x in range(len(str_a))]))[::-1])\n",
    "    s_result = s_result.replace('零仟', '零')\n",
    "    s_result = s_result.replace('零佰', '零')\n",
    "    s_result = s_result.replace('零拾', '零')\n",
    "    s_result = s_result.replace('零零零', '零')\n",
    "    s_result = s_result.replace('零零', '零')\n",
    "    s_result = s_result.replace('零万', '万')\n",
    "    s_result = s_result.replace('零圆', '圆')\n",
    "    # 正负\n",
    "    result = (s_result if a >= 0  else \"负\" + s_result)\n",
    "print(result)"
   ]
  },
  {
   "cell_type": "code",
   "execution_count": 39,
   "metadata": {
    "collapsed": false
   },
   "outputs": [
    {
     "name": "stdout",
     "output_type": "stream",
     "text": [
      "壹亿贰仟零叁拾肆万贰仟肆佰零壹圆\n"
     ]
    }
   ],
   "source": [
    "## method 3 思路：先按位读出，然后对包含零的字段做判断，什么时候读1个0等\n",
    "\n",
    "a = 120342401\n",
    "d1={'0':'零','1':'壹','2':'贰','3':'叁','4':'肆','5':'伍','6':'陆','7':'柒','8':'捌','9':'玖'}\n",
    "d2={9:'亿',8:'仟',7:'佰',6:'拾',5:'万',4:'仟',3:'佰',2:'拾',1:'圆'}\n",
    "flag=1 if a<0 else 0\n",
    "a=str(abs(a))\n",
    "n=len(a)\n",
    "c=1\n",
    "s=''\n",
    "while n>0:\n",
    "\ts=d1[a[n-1]]+d2[c]+s\n",
    "\tc+=1\n",
    "\tn-=1\n",
    "for k in range(3):\n",
    "\tm=len(s)\n",
    "\tfor i in range(m/3):\n",
    "\t\tif s[3*i:3*(i+1)]=='零':\n",
    "\t\t\tif s[3*(i+1):3*(i+2)]=='仟' or s[3*(i+1):3*(i+2)]=='佰' or s[3*(i+1):3*(i+2)]=='拾' or s[3*(i+1):3*(i+2)]=='零':\n",
    "\t\t\t\ts=s[0:3*(i+1)]+s[3*(i+2):m]\n",
    "\t\telif s[3*i:3*(i+1)]=='万' and s[3*(i-1):3*i]=='零':\n",
    "\t\t\ts=s[0:3*(i-1)]+s[3*i:m]\n",
    "\t\telif s[3*i:3*(i+1)]=='圆' and s[3*(i-1):3*i]=='零' and m!=6:\n",
    "\t\t\ts=s[0:3*(i-1)]+s[3*i:m]\n",
    "if flag==1:\n",
    "\ts='负'+s \n",
    "print s"
   ]
  },
  {
   "cell_type": "code",
   "execution_count": 37,
   "metadata": {
    "collapsed": false
   },
   "outputs": [
    {
     "ename": "UnicodeDecodeError",
     "evalue": "'utf8' codec can't decode byte 0xcb in position 0: invalid continuation byte",
     "output_type": "error",
     "traceback": [
      "\u001b[0;31m---------------------------------------------------------------------------\u001b[0m",
      "\u001b[0;31mUnicodeDecodeError\u001b[0m                        Traceback (most recent call last)",
      "\u001b[0;32m<ipython-input-37-ec079a38c03e>\u001b[0m in \u001b[0;36m<module>\u001b[0;34m()\u001b[0m\n\u001b[1;32m     19\u001b[0m             \u001b[0;32mif\u001b[0m \u001b[0mj\u001b[0m \u001b[0;34m>\u001b[0m \u001b[0;36m0\u001b[0m\u001b[0;34m:\u001b[0m\u001b[0;34m\u001b[0m\u001b[0m\n\u001b[1;32m     20\u001b[0m                 \u001b[0mans\u001b[0m\u001b[0;34m.\u001b[0m\u001b[0mappend\u001b[0m\u001b[0;34m(\u001b[0m\u001b[0mcarry\u001b[0m\u001b[0;34m[\u001b[0m\u001b[0mj\u001b[0m\u001b[0;34m-\u001b[0m\u001b[0;36m1\u001b[0m\u001b[0;34m]\u001b[0m\u001b[0;34m.\u001b[0m\u001b[0mdecode\u001b[0m\u001b[0;34m(\u001b[0m\u001b[0;34m\"utf8\"\u001b[0m\u001b[0;34m)\u001b[0m\u001b[0;34m)\u001b[0m\u001b[0;34m\u001b[0m\u001b[0m\n\u001b[0;32m---> 21\u001b[0;31m             \u001b[0mans\u001b[0m\u001b[0;34m.\u001b[0m\u001b[0mappend\u001b[0m\u001b[0;34m(\u001b[0m\u001b[0mnum\u001b[0m\u001b[0;34m[\u001b[0m\u001b[0ma\u001b[0m\u001b[0;34m%\u001b[0m\u001b[0;36m10\u001b[0m\u001b[0;34m]\u001b[0m\u001b[0;34m.\u001b[0m\u001b[0mdecode\u001b[0m\u001b[0;34m(\u001b[0m\u001b[0;34m\"utf8\"\u001b[0m\u001b[0;34m)\u001b[0m\u001b[0;34m)\u001b[0m\u001b[0;34m\u001b[0m\u001b[0m\n\u001b[0m\u001b[1;32m     22\u001b[0m             \u001b[0mneedAddZero\u001b[0m \u001b[0;34m=\u001b[0m \u001b[0mTrue\u001b[0m\u001b[0;34m\u001b[0m\u001b[0m\n\u001b[1;32m     23\u001b[0m         \u001b[0;32melse\u001b[0m\u001b[0;34m:\u001b[0m\u001b[0;34m\u001b[0m\u001b[0m\n",
      "\u001b[0;32m/home/lee/anaconda2/lib/python2.7/encodings/utf_8.pyc\u001b[0m in \u001b[0;36mdecode\u001b[0;34m(input, errors)\u001b[0m\n\u001b[1;32m     14\u001b[0m \u001b[0;34m\u001b[0m\u001b[0m\n\u001b[1;32m     15\u001b[0m \u001b[0;32mdef\u001b[0m \u001b[0mdecode\u001b[0m\u001b[0;34m(\u001b[0m\u001b[0minput\u001b[0m\u001b[0;34m,\u001b[0m \u001b[0merrors\u001b[0m\u001b[0;34m=\u001b[0m\u001b[0;34m'strict'\u001b[0m\u001b[0;34m)\u001b[0m\u001b[0;34m:\u001b[0m\u001b[0;34m\u001b[0m\u001b[0m\n\u001b[0;32m---> 16\u001b[0;31m     \u001b[0;32mreturn\u001b[0m \u001b[0mcodecs\u001b[0m\u001b[0;34m.\u001b[0m\u001b[0mutf_8_decode\u001b[0m\u001b[0;34m(\u001b[0m\u001b[0minput\u001b[0m\u001b[0;34m,\u001b[0m \u001b[0merrors\u001b[0m\u001b[0;34m,\u001b[0m \u001b[0mTrue\u001b[0m\u001b[0;34m)\u001b[0m\u001b[0;34m\u001b[0m\u001b[0m\n\u001b[0m\u001b[1;32m     17\u001b[0m \u001b[0;34m\u001b[0m\u001b[0m\n\u001b[1;32m     18\u001b[0m \u001b[0;32mclass\u001b[0m \u001b[0mIncrementalEncoder\u001b[0m\u001b[0;34m(\u001b[0m\u001b[0mcodecs\u001b[0m\u001b[0;34m.\u001b[0m\u001b[0mIncrementalEncoder\u001b[0m\u001b[0;34m)\u001b[0m\u001b[0;34m:\u001b[0m\u001b[0;34m\u001b[0m\u001b[0m\n",
      "\u001b[0;31mUnicodeDecodeError\u001b[0m: 'utf8' codec can't decode byte 0xcb in position 0: invalid continuation byte"
     ]
    }
   ],
   "source": [
    "#-*- coding:utf-8 -*-\n",
    "# 4位数一读\n",
    "a = 12034\n",
    "carry = u'拾佰仟万亿'\n",
    "num = u'零壹贰叁肆伍陆柒捌玖'\n",
    "ans = [u'圆']\n",
    "carryTime = 0\n",
    "lowerZero = False\n",
    "if a < 0:\n",
    "    lowerZero = True\n",
    "    a = -a\n",
    "if a == 0:\n",
    "    ans.append(u'零')\n",
    "while a:\n",
    "    j = 0\n",
    "    needAddZero = False\n",
    "    while a and j < 4:\n",
    "        if a%10: \n",
    "            if j > 0:\n",
    "                ans.append(carry[j-1].decode(\"utf8\"))\n",
    "            ans.append(num[a%10].decode(\"utf8\"))\n",
    "            needAddZero = True\n",
    "        else:\n",
    "            if needAddZero:\n",
    "                ans.append(num[0].decode(\"utf8\"))\n",
    "                needAddZero = False\n",
    "        j += 1\n",
    "        a /= 10\n",
    "    carryTime += 1\n",
    "    if a:\n",
    "        ans.append(carry[2 + carryTime])\n",
    "if lowerZero:\n",
    "    ans.append(u'负')\n",
    "ans.reverse()\n",
    "print ''.join(ans).decode(\"utf8\")"
   ]
  },
  {
   "cell_type": "code",
   "execution_count": 13,
   "metadata": {
    "collapsed": false
   },
   "outputs": [
    {
     "name": "stdout",
     "output_type": "stream",
     "text": [
      "please enter a number:1204\n"
     ]
    },
    {
     "ename": "UnicodeDecodeError",
     "evalue": "'utf8' codec can't decode byte 0xb7 in position 4: invalid start byte",
     "output_type": "error",
     "traceback": [
      "\u001b[0;31m---------------------------------------------------------------------------\u001b[0m",
      "\u001b[0;31mUnicodeDecodeError\u001b[0m                        Traceback (most recent call last)",
      "\u001b[0;32m<ipython-input-13-c8726205f432>\u001b[0m in \u001b[0;36m<module>\u001b[0;34m()\u001b[0m\n\u001b[1;32m     29\u001b[0m         \u001b[0;32mprint\u001b[0m \u001b[0;34mu'负'\u001b[0m\u001b[0;34m+\u001b[0m\u001b[0mS\u001b[0m\u001b[0;34m.\u001b[0m\u001b[0mdecode\u001b[0m\u001b[0;34m(\u001b[0m\u001b[0;34m'utf8'\u001b[0m\u001b[0;34m)\u001b[0m\u001b[0;34m\u001b[0m\u001b[0m\n\u001b[1;32m     30\u001b[0m     \u001b[0;32melse\u001b[0m\u001b[0;34m:\u001b[0m\u001b[0;34m\u001b[0m\u001b[0m\n\u001b[0;32m---> 31\u001b[0;31m         \u001b[0;32mprint\u001b[0m \u001b[0mS\u001b[0m\u001b[0;34m.\u001b[0m\u001b[0mdecode\u001b[0m\u001b[0;34m(\u001b[0m\u001b[0;34m'utf8'\u001b[0m\u001b[0;34m)\u001b[0m\u001b[0;34m\u001b[0m\u001b[0m\n\u001b[0m",
      "\u001b[0;32m/home/lee/anaconda2/lib/python2.7/encodings/utf_8.pyc\u001b[0m in \u001b[0;36mdecode\u001b[0;34m(input, errors)\u001b[0m\n\u001b[1;32m     14\u001b[0m \u001b[0;34m\u001b[0m\u001b[0m\n\u001b[1;32m     15\u001b[0m \u001b[0;32mdef\u001b[0m \u001b[0mdecode\u001b[0m\u001b[0;34m(\u001b[0m\u001b[0minput\u001b[0m\u001b[0;34m,\u001b[0m \u001b[0merrors\u001b[0m\u001b[0;34m=\u001b[0m\u001b[0;34m'strict'\u001b[0m\u001b[0;34m)\u001b[0m\u001b[0;34m:\u001b[0m\u001b[0;34m\u001b[0m\u001b[0m\n\u001b[0;32m---> 16\u001b[0;31m     \u001b[0;32mreturn\u001b[0m \u001b[0mcodecs\u001b[0m\u001b[0;34m.\u001b[0m\u001b[0mutf_8_decode\u001b[0m\u001b[0;34m(\u001b[0m\u001b[0minput\u001b[0m\u001b[0;34m,\u001b[0m \u001b[0merrors\u001b[0m\u001b[0;34m,\u001b[0m \u001b[0mTrue\u001b[0m\u001b[0;34m)\u001b[0m\u001b[0;34m\u001b[0m\u001b[0m\n\u001b[0m\u001b[1;32m     17\u001b[0m \u001b[0;34m\u001b[0m\u001b[0m\n\u001b[1;32m     18\u001b[0m \u001b[0;32mclass\u001b[0m \u001b[0mIncrementalEncoder\u001b[0m\u001b[0;34m(\u001b[0m\u001b[0mcodecs\u001b[0m\u001b[0;34m.\u001b[0m\u001b[0mIncrementalEncoder\u001b[0m\u001b[0;34m)\u001b[0m\u001b[0;34m:\u001b[0m\u001b[0;34m\u001b[0m\u001b[0m\n",
      "\u001b[0;31mUnicodeDecodeError\u001b[0m: 'utf8' codec can't decode byte 0xb7 in position 4: invalid start byte"
     ]
    }
   ],
   "source": [
    "# method 5 虽然代码比较简洁 但没考虑中间有0的情况\n",
    "#-*- coding:utf-8 -*-\n",
    "\n",
    "N = {0:'零',1:'壹',2:'贰',3:'叁',4:'肆',5:'伍',6:'陆',7:'柒',8:'捌',9:'玖'}\n",
    "\n",
    "M = ['亿','仟','佰','拾','萬','仟','佰','拾','圆']\n",
    "while True:\n",
    "    a = int(raw_input('please enter a number:'))\n",
    "    if len(str(a))>9:\n",
    "        print 'the number is to long'\n",
    "        break\n",
    "    b = abs(a)\n",
    "    New =[]\n",
    "    for st in str(b):\n",
    "        if int(st) in  N.keys():\n",
    "           New.append(N[int(st)])\n",
    "    L=M[-len(New):]\n",
    "    S =''\n",
    "    for (x,y) in zip(New,L):\n",
    "#         if x == u'零':\n",
    "#             y==''\n",
    "        S+=x+y\n",
    "#     S = S.replace(u'零仟',u'零')\n",
    "#     S = S.replace(u'零佰',u'零')\n",
    "#     S = S.replace(u'零拾',u'零')\n",
    "#     S = S.replace(u'零零',u'零')\n",
    "#     S = S.rstrip(u'零')\n",
    "    if a<0:    \n",
    "        print u'负'+S.decode('utf8')\n",
    "    else:\n",
    "        print S.decode('utf8')"
   ]
  },
  {
   "cell_type": "code",
   "execution_count": 35,
   "metadata": {
    "collapsed": false
   },
   "outputs": [
    {
     "name": "stdout",
     "output_type": "stream",
     "text": [
      "伍仟\n",
      "壹亿零壹佰零叁萬壹仟贰佰叁拾肆圆\n"
     ]
    }
   ],
   "source": [
    "a =101031234\n",
    "bigFormat={'0':u'零','1':u\"壹\",'2':u\"贰\",'3':u'叁','4':u'肆','5':u'伍','6':u'陆','7':u'柒','8':u'捌','9':u'玖'}  \n",
    "unit =[u'仟',u'佰',u'拾','']  \n",
    "def getFournum(n):\n",
    "    if n == '0':\n",
    "        return u'零'\n",
    "    r = ''\n",
    "    for i,j in enumerate(str(n)):\n",
    "        j = bigFormat[j] + unit[i - len(str(n))]  # 改成unit[i]是不是更好理解？\n",
    "        #j = bigFormat[j] + unit[i]\n",
    "        r += j\n",
    "    r = r.replace(u'零仟',u'零')\n",
    "    r = r.replace(u'零佰',u'零')\n",
    "    r = r.replace(u'零拾',u'零')\n",
    "    r = r.replace(u'零零',u'零')\n",
    "    r = r.rstrip(u'零')\n",
    "    return r\n",
    "print getFournum(5000)\n",
    "    \n",
    "#从左到右拆分数字 4个一组 并倒序\n",
    "def getdigitlist(n):\n",
    "    l = []\n",
    "    for i in range(0,len(n),4):\n",
    "        l.append(n[i:i+4][::-1])\n",
    "    return l[::-1]\n",
    "#     return l\n",
    "    \n",
    "#输出结果\n",
    "def result(n,l,elem):\n",
    "    if n == 1:\n",
    "        r = getFournum(elem)\n",
    "        return r\n",
    "    if n == 3:\n",
    "        r = getFournum(elem) + u'亿'\n",
    "        r += result(n-1,l,l[1])\n",
    "        return r\n",
    "    if n == 2:\n",
    "        r = getFournum(elem) + u'萬'\n",
    "        r += result(n-1,l,l[-1])\n",
    "        return r\n",
    " \n",
    "if __name__ == '__main__':\n",
    "    n = str(a)\n",
    "    flag = 0\n",
    "    if int(n) < 0:\n",
    "        flag = -1\n",
    "        n = abs(int(n))\n",
    "    elemlist = getdigitlist(n[::-1])\n",
    "    #elemlist = getdigitlist(n)\n",
    "    n = len(elemlist)\n",
    "    for item in elemlist:\n",
    "        if flag == -1:\n",
    "            print u'负' + result(n,elemlist,item) + u'圆'\n",
    "        else:\n",
    "            print result(n,elemlist,item) + u'圆'\n",
    "        break"
   ]
  },
  {
   "cell_type": "code",
   "execution_count": 29,
   "metadata": {
    "collapsed": false
   },
   "outputs": [
    {
     "name": "stdout",
     "output_type": "stream",
     "text": [
      "0\n",
      "['4567']\n",
      "4\n",
      "['4567', '123']\n"
     ]
    },
    {
     "data": {
      "text/plain": [
       "['123', '4567']"
      ]
     },
     "execution_count": 29,
     "metadata": {},
     "output_type": "execute_result"
    }
   ],
   "source": [
    "def getdigitlist(n):\n",
    "    l = []\n",
    "    for i in range(0,len(n),4):\n",
    "        print i\n",
    "        l.append(n[i:i+4][::-1])\n",
    "        print l\n",
    "    return l[::-1]\n",
    "n = 7654321\n",
    "getdigitlist(str(n))"
   ]
  }
 ],
 "metadata": {
  "kernelspec": {
   "display_name": "Python [conda root]",
   "language": "python",
   "name": "conda-root-py"
  },
  "language_info": {
   "codemirror_mode": {
    "name": "ipython",
    "version": 2
   },
   "file_extension": ".py",
   "mimetype": "text/x-python",
   "name": "python",
   "nbconvert_exporter": "python",
   "pygments_lexer": "ipython2",
   "version": "2.7.12"
  }
 },
 "nbformat": 4,
 "nbformat_minor": 1
}
