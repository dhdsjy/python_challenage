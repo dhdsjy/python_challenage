{
 "cells": [
  {
   "cell_type": "markdown",
   "metadata": {},
   "source": [
    "## 未解决的题目\n",
    "\n",
    "+ 18\n",
    "\n",
    "逆解最大公约数与最小公倍数 \n",
    "讨论此题 | 解题报告 \n",
    "顶(14) (AC/Submit)Ratio(724|2286)31.67%  踩(8)\n",
    "\n",
    "描述:\n",
    "我们经常遇到的问题是给你两个数，要你求最大公约数和最小公倍数。\n",
    "今天我们反其道而行之，给你两个数a和b，计算出它们分别是哪两个数的最大公约数和最小公倍数。\n",
    "输出这两个数，小的在前，大的在后，以空格隔开。若有多组解，输出它们之和最小的那组。\n",
    "注：所给数据都有解，不用考虑无解的情况。\n",
    "\n",
    "+ 24 不知道这个最少怎么求 感觉可能要用到递归  不争气的看老下discuss 提到广度优先\n",
    "\n",
    "一马当先 \n",
    "讨论此题 | 解题报告 \n",
    "顶(35) (AC/Submit)Ratio(439|1686)26.04%  踩(1)\n",
    "\n",
    "描述:\n",
    "下过象棋的人都知道，马只能走'日'字形（包括旋转90°的日），现在想象一下，给你一个n行m列网格棋盘，\n",
    "棋盘的左下角有一匹马，请你计算至少需要几步可以将它移动到棋盘的右上角，若无法走到，则输出-1.\n",
    "如n=1，m=2,则至少需要1步；若n=1，m=3,则输出-1。\n",
    "\n",
    "+ 33\n",
    "\n",
    "大幂次运算 \n",
    "讨论此题 | 解题报告 \n",
    "顶(4) (AC/Submit)Ratio(529|1780)29.72%  踩(3)\n",
    "\n",
    "描述:\n",
    "给你两个正整数a(0 < a < 100000)和n(0 <= n <=100000000000)，计算(a^n) % 20132013并输出结果\n",
    "\n",
    "### solution \n",
    "print(pow(a,n,20132013)) 这个可以 为什么a**n%20132013不行\n",
    "\n",
    "+ 34 密码生成　无限的小数在ｐｙｔｈｏｎ中怎么搞？\n",
    "密码生成 \n",
    "讨论此题 | 解题报告 \n",
    "顶(7) (AC/Submit)Ratio(173|2134)8.11%  踩(10)\n",
    "\n",
    "描述:\n",
    "生活在当代社会，我们要记住很多密码，银行卡，qq，人人，微博，邮箱等等。小P经过一番思索之后，发明了下面这种生成密码方法：\n",
    "给定两个正整数a和b, 利用a / b我们会到的一个长度无限的小数(若a / b不是无限小数，\n",
    "比如1/2=0.5,我们认为0.5是0.5000000...，同样将其看做无限长的小数），小P将该小数点后第x位到第y位的数字\n",
    "当做密码，这样，无论密码有多长，小P只要记住a,b,x,y四个数字就可以了，牢记密码再也不是那么困难的事情了。\n",
    "现在告诉你a,b,x,y（0 < a,b <= 20132013, 0 < x <= y < 100000000000),请你输出密码。\n",
    "例如：a = 1, b = 2, x = 1, y = 4, 则 a / b = 0.5000000..., 输出小数点后第1到4位数字，即5000\n",
    "\n",
    "discuss solution 控制不住，看了一版\n",
    "def divide(a,b,c,d):\n",
    "    result=\"\"\n",
    "    a=(a*pow(10,c-1,b))%b\n",
    "    for i in range(0,d-c+1):\n",
    "        a=(a%b)*10\n",
    "        result=result+str(a/b)\n",
    "    return result\n",
    "print divide(a,b,x,y)\n",
    "\n",
    "+ 35 discuss说这是动态规划入门题\n",
    "最大连续子序列 \n",
    "讨论此题 | 解题报告 \n",
    "顶(4) (AC/Submit)Ratio(475|1255)37.85%  踩(3)\n",
    "\n",
    "描述:\n",
    "给你一个整数list L, 如 L=[2,-3,3,50], 求L的一个连续子序列，使其和最大，输出最大子序列的和。\n",
    "例如，对于L=[2,-3,3,50]， 输出53（分析：很明显，该列表最大连续子序列为[3,50]).\n",
    "\n",
    "+ 36 最大非连续子序列 \n",
    "讨论此题 | 解题报告 \n",
    "顶(6) (AC/Submit)Ratio(312|764)40.84%  踩(3)\n",
    "\n",
    "描述:\n",
    "给你一个整数list L, 如 L=[2,-3,3,50], 求L的一个非连续子序列，使其和最大，输出最大子序列的和。\n",
    "这里非连续子序列的定义是，子序列中任意相邻的两个数在原序列里都不相邻。\n",
    "例如，对于L=[2,-3,3,50]， 输出52（分析：很明显，该列表最大非连续子序列为[2,50]).\n",
    "\n",
    "+ 41 进制转换程序\n",
    "```python\n",
    "def makenum(a,z):\n",
    "    lst=[]\n",
    "    while a!=0:\n",
    "        lst.append(a%z)\n",
    "        a=a/z\n",
    "    return lst\n",
    "    \n",
    "if sum(makenum(n,10))==sum(makenum(n,16)) and sum(makenum(n,10))==sum(makenum(n,12)):\n",
    "    print 'Yes'\n",
    "else:\n",
    "    print 'No'\n",
    "``` \n",
    "+ 44 超级楼梯  完全没看出来是斐波那契数列 也没想到动态规划 二叉树遍历 当时朝着概率方向走了\n",
    "讨论此题 | 解题报告 \n",
    "顶(3) (AC/Submit)Ratio(384|795)48.30%  踩(0)\n",
    "\n",
    "描述:\n",
    "有一楼梯共n级，刚开始时你在第一级，若每次只能跨上一级或二级，要走上第n级，共有多少种走法？ \n",
    "现在给你一个正整数n（0\n",
    "    \n"
   ]
  },
  {
   "cell_type": "code",
   "execution_count": 43,
   "metadata": {
    "collapsed": false
   },
   "outputs": [
    {
     "name": "stdout",
     "output_type": "stream",
     "text": [
      "Help on built-in function pow in module __builtin__:\n",
      "\n",
      "pow(...)\n",
      "    pow(x, y[, z]) -> number\n",
      "    \n",
      "    With two arguments, equivalent to x**y.  With three arguments,\n",
      "    equivalent to (x**y) % z, but may be more efficient (e.g. for longs).\n",
      "\n"
     ]
    }
   ],
   "source": [
    "help(pow)"
   ]
  },
  {
   "cell_type": "markdown",
   "metadata": {},
   "source": [
    "公约数的个数 \n",
    "讨论此题 | 解题报告 \n",
    "顶(8) (AC/Submit)Ratio(1168|3112)37.53%  踩(0)\n",
    "\n",
    "描述:\n",
    "给你两个正整数a,b,  输出它们公约数的个数。"
   ]
  },
  {
   "cell_type": "code",
   "execution_count": null,
   "metadata": {
    "collapsed": true
   },
   "outputs": [],
   "source": [
    "# my solution\n",
    "n=0\n",
    "for e in range(1,min(a,b)+1):\n",
    "    if a%e==0 and b%e==0:\n",
    "        n=n+1\n",
    "print n"
   ]
  },
  {
   "cell_type": "markdown",
   "metadata": {},
   "source": [
    "单身情歌 \n",
    "讨论此题 | 解题报告 \n",
    "顶(6) (AC/Submit)Ratio(1424|3110)45.79%  踩(10)\n",
    "\n",
    "描述:\n",
    "抓不住爱情的我 \n",
    "总是眼睁睁看它溜走 \n",
    "...\n",
    "\n",
    "现在来练习一下发现爱的能力，给你一个字符串a,如果其中包含\"LOVE\"（love不区分大小写)则输出LOVE，否则输出SINGLE。"
   ]
  },
  {
   "cell_type": "code",
   "execution_count": null,
   "metadata": {
    "collapsed": true
   },
   "outputs": [],
   "source": []
  },
  {
   "cell_type": "code",
   "execution_count": null,
   "metadata": {
    "collapsed": true
   },
   "outputs": [],
   "source": [
    "## 为什么find不行？\n",
    "\n",
    "# if a.lower().find('love')==0:\n",
    "#     print \"LOVE\"\n",
    "# else:\n",
    "#     print \"SINGLE\"\n",
    "    \n",
    "if 'love' in a.lower():\n",
    "    print \"LOVE\"\n",
    "else:\n",
    "    print \"SINGLE\""
   ]
  },
  {
   "cell_type": "markdown",
   "metadata": {},
   "source": [
    "信息加密 \n",
    "讨论此题 | 解题报告 \n",
    "顶(10) (AC/Submit)Ratio(1053|2659)39.60%  踩(3)\n",
    "\n",
    "描述:\n",
    "给你个小写英文字符串a和一个非负数b(0<=b<26), 将a中的每个小写字符替换成字母表中比它大b的字母。\n",
    "这里将字母表的z和a相连，如果超过了z就回到了a。例如a=\"cagy\",b=3, 则输出 fdjb"
   ]
  },
  {
   "cell_type": "code",
   "execution_count": 2,
   "metadata": {
    "collapsed": false
   },
   "outputs": [
    {
     "name": "stdout",
     "output_type": "stream",
     "text": [
      "['f', 'd', 'j', '\\x02']\n",
      "fdj\u0002\n"
     ]
    }
   ],
   "source": [
    "a=\"cagy\"\n",
    "b=3\n",
    "c = []\n",
    "for i in a:\n",
    "    if ord(i)+b < ord('z'):\n",
    "        c.append(chr(ord(i)+b))\n",
    "    else:\n",
    "        more = ord(i)+b -ord('z')\n",
    "        c.append(chr(more))\n",
    "print c\n",
    "code = ''.join(c)\n",
    "print code"
   ]
  },
  {
   "cell_type": "code",
   "execution_count": null,
   "metadata": {
    "collapsed": true
   },
   "outputs": [],
   "source": [
    "# debug 要记得是从a开始的\n",
    "c = []\n",
    "for i in a:\n",
    "    if ord(i)+b < ord('z'):\n",
    "        c.append(chr(ord(i)+b))\n",
    "    else:\n",
    "        more = ord('a')+ ord(i)+b -ord('z')-1\n",
    "        c.append(chr(more))\n",
    "code = ''.join(c)\n",
    "print code"
   ]
  },
  {
   "cell_type": "code",
   "execution_count": null,
   "metadata": {
    "collapsed": true
   },
   "outputs": [],
   "source": [
    "# 错误版本一  多个输出\n",
    "if len(a)<n:\n",
    "    print \"NO\"\n",
    "else:\n",
    "    for i in range(len(a)-n+1):\n",
    "#         print a[i:i+n:1]\n",
    "#         print a[n+i-1:i-1:-1]\n",
    "        str_ = a[i:i+n:1]\n",
    "        if str_==str_[::-1]:\n",
    "            \n",
    "            print \"YES\"\n",
    "            continue\n",
    "        else:\n",
    "            print \"NO\""
   ]
  },
  {
   "cell_type": "code",
   "execution_count": 20,
   "metadata": {
    "collapsed": false
   },
   "outputs": [],
   "source": [
    "# 错误版本二  没有的时候没有输出\n",
    "a = 'abccba'\n",
    "#print a[3:]\n",
    "n =5\n",
    "if len(a)<n:\n",
    "    print \"NO\"\n",
    "else:\n",
    "    for i in range(len(a)-n+1):\n",
    "#         print a[i:i+n:1]\n",
    "#         print a[n+i-1:i-1:-1]\n",
    "        str_ = a[i:i+n:1]\n",
    "        if str_!=str_[::-1]:\n",
    "            \n",
    "            \n",
    "            continue\n",
    "            \n",
    "        elif str_==str_[::-1]:\n",
    "            print \"YES\"\n",
    "        else:\n",
    "            print 'NO'\n",
    "    \n",
    "    "
   ]
  },
  {
   "cell_type": "code",
   "execution_count": 25,
   "metadata": {
    "collapsed": false
   },
   "outputs": [
    {
     "name": "stdout",
     "output_type": "stream",
     "text": [
      "NO\n"
     ]
    }
   ],
   "source": [
    "# 终于正确了！！ break 找到就截止！！ 厉害啊\n",
    "a = 'abccbaasdas'\n",
    "#print a[3:]\n",
    "n =4\n",
    "if len(a)<n:\n",
    "    print \"NO\"\n",
    "else:\n",
    "    for i in range(len(a)-n+1):\n",
    "#         print a[i:i+n:1]\n",
    "#         print a[n+i-1:i-1:-1]\n",
    "        str_ = a[i:i+n:1]\n",
    "            \n",
    "        if str_==str_[::-1]:\n",
    "            print \"YES\"\n",
    "            break\n",
    "        else:\n",
    "            print 'NO'\n",
    "            break\n",
    "        "
   ]
  },
  {
   "cell_type": "markdown",
   "metadata": {},
   "source": [
    "时间就是金钱 \n",
    "讨论此题 | 解题报告 \n",
    "顶(5) (AC/Submit)Ratio(904|1883)48.01%  踩(1)\n",
    "\n",
    "描述:\n",
    "给你两个时间st和et(00:00:00<=st <= et<=23:59:59), 请你给出这两个时间间隔的秒数。\n",
    "如：st=\"00:00:00\", et=\"00:00:10\", 则输出10."
   ]
  },
  {
   "cell_type": "code",
   "execution_count": null,
   "metadata": {
    "collapsed": true
   },
   "outputs": [],
   "source": [
    "# my solution 想到了用函数 有那么一丢丢进步 继续加油\n",
    "def trans(st):\n",
    "    sts = int(st[:2])*3600 + int(st[3:5])*60 + int(st[6:8])\n",
    "    return sts\n",
    "\n",
    "gap = abs(trans(st)-trans(et))\n",
    "print gap"
   ]
  },
  {
   "cell_type": "markdown",
   "metadata": {},
   "source": [
    "365 Or 366？ \n",
    "讨论此题 | 解题报告 \n",
    "顶(1) (AC/Submit)Ratio(915|2726)33.57%  踩(9)\n",
    "\n",
    "描述:\n",
    "一年有多少天，这是个大问题，很值得思考。现在给你一个年份year(year为四位数字的字符串，如\"2008\",\"0012\"),\n",
    "你输出这一年的天数。如year=\"2013\", 则输出365。"
   ]
  },
  {
   "cell_type": "code",
   "execution_count": null,
   "metadata": {
    "collapsed": true
   },
   "outputs": [],
   "source": [
    "# my solution 明白润年的概念就没什么难度\n",
    "if int(year)%100==0 and int(year)%400==0:\n",
    "    print 366\n",
    "elif int(year)%100 != 0 and int(year)%4 == 0:\n",
    "    print 366\n",
    "else:\n",
    "    print 365"
   ]
  },
  {
   "cell_type": "markdown",
   "metadata": {},
   "source": [
    "格式化时间 \n",
    "讨论此题 | 解题报告 \n",
    "顶(5) (AC/Submit)Ratio(676|1677)40.31%  踩(5)\n",
    "\n",
    "描述:\n",
    "给你一个时间t（t是一个字典，共有六个字符串key(year,month,day,hour,minute,second),值为每个值为数字组成的字符串，\n",
    "如t={'year':'2013','month':'9','day':'30','hour':'16','minute':'45','second':'2'}\n",
    "请将其按照以下格式输出， 格式:XXXX-XX-XX XX:XX:XX。如上例应该输出： 2013-09-30 16:45:02。"
   ]
  },
  {
   "cell_type": "code",
   "execution_count": 27,
   "metadata": {
    "collapsed": false
   },
   "outputs": [
    {
     "name": "stdout",
     "output_type": "stream",
     "text": [
      "2013-9-30 16:45:2\n"
     ]
    }
   ],
   "source": [
    "t={'year':'2013','month':'9','day':'30','hour':'16','minute':'45','second':'2'}\n",
    "key = ['year','month','day','hour','minute','second']\n",
    "date = []\n",
    "time = []\n",
    "for i in range(len(key)):\n",
    "    if i <=2:\n",
    "        date.append(t[key[i]])\n",
    "    else:\n",
    "        time.append(t[key[i]])\n",
    "print '-'.join(date)+ ' ' + ':'.join(time)"
   ]
  },
  {
   "cell_type": "code",
   "execution_count": 28,
   "metadata": {
    "collapsed": false
   },
   "outputs": [
    {
     "ename": "SyntaxError",
     "evalue": "invalid syntax (<ipython-input-28-46bf0feaa77a>, line 8)",
     "output_type": "error",
     "traceback": [
      "\u001b[0;36m  File \u001b[0;32m\"<ipython-input-28-46bf0feaa77a>\"\u001b[0;36m, line \u001b[0;32m8\u001b[0m\n\u001b[0;31m    time.append(t[key[i]]))\u001b[0m\n\u001b[0m                          ^\u001b[0m\n\u001b[0;31mSyntaxError\u001b[0m\u001b[0;31m:\u001b[0m invalid syntax\n"
     ]
    }
   ],
   "source": [
    "key = ['year','month','day','hour','minute','second']# 好蠢的写法啊 t.keys()啊 无序啊\n",
    "date = []\n",
    "time = []\n",
    "for i in range(len(key)):\n",
    "    if i <=2:\n",
    "        date.append(str(t[key[i]]))\n",
    "    else:\n",
    "        time.append(t[key[i]]))\n",
    "print '-'.join(date)+ ' ' + ':'.join(time)"
   ]
  },
  {
   "cell_type": "code",
   "execution_count": null,
   "metadata": {
    "collapsed": true
   },
   "outputs": [],
   "source": [
    "# my solution 感觉解法有点low\n",
    "key = ['year','month','day','hour','minute','second']\n",
    "# key = t.keys()\n",
    "while len(t[key[0]]) <4:\n",
    "    t[key[0]]= '0'+t[key[0]]\n",
    "\n",
    "for i in range(1,6):\n",
    "    while len(t[key[i]]) <2:\n",
    "        t[key[i]]= '0'+t[key[i]]\n",
    "    \n",
    "# while len(t[key[1]]) <2:\n",
    "#     t[key[1]]= '0'+t[key[1]]\n",
    "    \n",
    "# while len(t[key[2]]) <2:\n",
    "#     t[key[2]]= '0'+t[key[2]]\n",
    "    \n",
    "# while len(t[key[3]]) <2:\n",
    "#     t[key[3]]= '0'+t[key[3]]\n",
    "    \n",
    "# while len(t[key[4]]) <2:\n",
    "#     t[key[4]]= '0'+t[key[4]]\n",
    "    \n",
    "# while len(t[key[5]]) <2:\n",
    "#     t[key[5]]= '0'+t[key[5]]\n",
    "\n",
    "    \n",
    "date = []\n",
    "time = []\n",
    "for i in range(len(key)):\n",
    "    if i <=2:\n",
    "        date.append(t[key[i]])\n",
    "    else:\n",
    "        time.append(t[key[i]])\n",
    "print '-'.join(date)+ ' ' + ':'.join(time)"
   ]
  },
  {
   "cell_type": "code",
   "execution_count": 32,
   "metadata": {
    "collapsed": false
   },
   "outputs": [
    {
     "name": "stdout",
     "output_type": "stream",
     "text": [
      "['hour', 'month', 'second', 'year', 'day', 'minute']\n",
      "hour 16\n",
      "month 9\n",
      "second 2\n",
      "year 2013\n",
      "day 30\n",
      "minute 45\n"
     ]
    }
   ],
   "source": [
    "t={'year':'2013','month':'9','day':'30','hour':'16','minute':'45','second':'2'}\n",
    "print t.keys()\n",
    "\n",
    "# zip 还是不行滴\n",
    "# for key,value in zip(*t):\n",
    "#     print key,value\n",
    "\n",
    "# 但是无序啊\n",
    "for key,value in t.items():\n",
    "    print key,value"
   ]
  },
  {
   "cell_type": "code",
   "execution_count": 33,
   "metadata": {
    "collapsed": false
   },
   "outputs": [
    {
     "name": "stdout",
     "output_type": "stream",
     "text": [
      "Help on built-in function sorted in module __builtin__:\n",
      "\n",
      "sorted(...)\n",
      "    sorted(iterable, cmp=None, key=None, reverse=False) --> new sorted list\n",
      "\n"
     ]
    }
   ],
   "source": [
    "help(sorted)"
   ]
  },
  {
   "cell_type": "markdown",
   "metadata": {},
   "source": [
    "序列判断 \n",
    "讨论此题 | 解题报告 \n",
    "顶(7) (AC/Submit)Ratio(799|2250)35.51%  踩(9)\n",
    "\n",
    "描述:\n",
    "给你一个整数组成的列表L，按照下列条件输出：\n",
    "若L是升序排列的,则输出\"UP\";\n",
    "若L是降序排列的,则输出\"DOWN\";\n",
    "若L无序，则输出\"WRONG\"。"
   ]
  },
  {
   "cell_type": "code",
   "execution_count": null,
   "metadata": {
    "collapsed": true
   },
   "outputs": [],
   "source": [
    "if sorted(L,reverse = True) == L:\n",
    "    print 'DOWN'\n",
    "elif sorted(L) == L:\n",
    "    print \"UP\"\n",
    "else:\n",
    "    print 'WRONG'"
   ]
  },
  {
   "cell_type": "markdown",
   "metadata": {},
   "source": [
    "相同数字 \n",
    "讨论此题 | 解题报告 \n",
    "顶(5) (AC/Submit)Ratio(834|2161)38.59%  踩(0)\n",
    "\n",
    "描述:\n",
    "给你一个整数列表L,判断L中是否存在相同的数字，\n",
    "若存在，输出YES，否则输出NO。"
   ]
  },
  {
   "cell_type": "code",
   "execution_count": null,
   "metadata": {
    "collapsed": true
   },
   "outputs": [],
   "source": [
    "if len(L) == len(set(L)): \n",
    "    print \"NO\"\n",
    "    \n",
    "else:\n",
    "    print 'YES'"
   ]
  },
  {
   "cell_type": "markdown",
   "metadata": {},
   "source": [
    "判断三角形 \n",
    "讨论此题 | 解题报告 \n",
    "顶(0) (AC/Submit)Ratio(774|1350)57.33%  踩(2)\n",
    "\n",
    "描述:\n",
    "给你三个整数a,b,c,  判断能否以它们为三个边长构成三角形。\n",
    "若能，输出YES，否则输出NO。\n"
   ]
  },
  {
   "cell_type": "code",
   "execution_count": null,
   "metadata": {
    "collapsed": true
   },
   "outputs": [],
   "source": [
    "l = [a,b,c]\n",
    "sorted_l = sorted(l)\n",
    "if sorted_l[0]+sorted_l[1] >sorted_l[2] :\n",
    "    print 'YES'\n",
    "else:\n",
    "    print 'NO'\n"
   ]
  },
  {
   "cell_type": "markdown",
   "metadata": {},
   "source": [
    "山峰的个数 \n",
    "讨论此题 | 解题报告 \n",
    "顶(6) (AC/Submit)Ratio(620|1565)39.62%  踩(2)\n",
    "\n",
    "描述:\n",
    "十一假期,小P出去爬山,爬山的过程中每隔10米他都会记录当前点的海拔高度(以一个浮点数表示),\n",
    "这些值序列保存在一个由浮点数组成的列表h中。回到家中，小P想研究一下自己经过了几个山峰，请你帮他计算一下，输出结果。\n",
    "例如：h=[0.9,1.2,1.22,1.1,1.6,0.99], 将这些高度顺序连线，会发现有两个山峰，故输出一个2(序列两端不算山峰)"
   ]
  },
  {
   "cell_type": "code",
   "execution_count": 36,
   "metadata": {
    "collapsed": false
   },
   "outputs": [
    {
     "name": "stdout",
     "output_type": "stream",
     "text": [
      "2\n"
     ]
    }
   ],
   "source": [
    "# my solution 这个山峰定义不明确啊  我去 那是1.22啊 按题目的理解就是我写的if条件\n",
    "h=[0.9,1.2,1.22,1.1,1.6,0.99]\n",
    "count = 0\n",
    "for i in range(1,len(h)-1):\n",
    "    if h[i]> h[i-1] and h[i]> h[i+1]:\n",
    "        count+=1\n",
    "print count"
   ]
  },
  {
   "cell_type": "markdown",
   "metadata": {},
   "source": [
    "三角形形状 \n",
    "讨论此题 | 解题报告 \n",
    "顶(1) (AC/Submit)Ratio(579|1657)34.94%  踩(4)\n",
    "\n",
    "描述:\n",
    "给以一个三角形的三边长a,b和c(边长是浮点数),请你判断三角形的形状。\n",
    "若是锐角三角形，输出R,\n",
    "若是直角三角形，输出Z，\n",
    "若是钝角三角形，输出D，\n",
    "若三边长不能构成三角形，输出W.\n",
    "\n",
    "3、若有a2+b2＞c2，则△ABC为锐角三角形；  若有a2+b2＝c2，则△ABC为直角三角形； 若有a2+b2＜c2，则△ABC为钝角三角形。\n",
    "\n",
    "余弦定理：cosC = (a^2 + b^2 - c^2) / (2·a·b) \n",
    "            cosB = (a^2 + c^2 -b^2) / (2·a·c)             cosA = (c^2 + b^2 - a^2) / (2·b·c)"
   ]
  },
  {
   "cell_type": "code",
   "execution_count": 42,
   "metadata": {
    "collapsed": false
   },
   "outputs": [
    {
     "name": "stdout",
     "output_type": "stream",
     "text": [
      "Z\n"
     ]
    }
   ],
   "source": [
    "a=11\n",
    "b=7\n",
    "c=5\n",
    "l = [a,b,c]\n",
    "ll = sorted(l)\n",
    "\n",
    "if ll[0]+ll[1]>ll[2]:\n",
    "    cosin = (ll[2]**2-ll[0]**2-ll[1]**2)/(2*ll[0]*ll[1])\n",
    "    if cosin>0: # 唉 数学公式记错了 数学能力是编程能力的一部分啊 把这个改成小于0就行老\n",
    "        print 'R'\n",
    "    elif cosin==0:\n",
    "        print 'Z'\n",
    "    else:\n",
    "        print 'D'\n",
    "else:\n",
    "    print 'W'"
   ]
  },
  {
   "cell_type": "markdown",
   "metadata": {},
   "source": [
    "## 动态规划入门题\n",
    "\n",
    "最大连续子序列 \n",
    "讨论此题 | 解题报告 \n",
    "顶(4) (AC/Submit)Ratio(475|1255)37.85%  踩(3)\n",
    "\n",
    "描述:\n",
    "给你一个整数list L, 如 L=[2,-3,3,50], 求L的一个连续子序列，使其和最大，输出最大子序列的和。\n",
    "例如，对于L=[2,-3,3,50]， 输出53（分析：很明显，该列表最大连续子序列为[3,50])."
   ]
  },
  {
   "cell_type": "code",
   "execution_count": 13,
   "metadata": {
    "collapsed": false
   },
   "outputs": [
    {
     "name": "stdout",
     "output_type": "stream",
     "text": [
      "this is a for looped sub -3\n",
      "[-3]\n",
      "this is a for looped sub 3\n",
      "[-3, 3]\n",
      "this is sub1 3\n",
      "3\n"
     ]
    }
   ],
   "source": [
    "# 这个逻辑怎么就写不出来啊\n",
    "\n",
    "L=[2,-3,3,50]\n",
    "sum1 =[]\n",
    "#sub_sum = 0\n",
    "for i in range(len(L)-1):\n",
    "    sub_sum = 0\n",
    "    if L[i]<L[i+1] and L[i]>0:\n",
    "        sub_sum += L[i]\n",
    "        print 'this is sub1',sub_sum\n",
    "        continue\n",
    "    sub_sum += L[i+1]\n",
    "    print 'this is a for looped sub',sub_sum\n",
    "    sum1.append(sub_sum)\n",
    "    print sum1\n",
    "print max(sum1)"
   ]
  },
  {
   "cell_type": "markdown",
   "metadata": {
    "collapsed": true
   },
   "source": [
    "简单题之勾股定理 \n",
    "讨论此题 | 解题报告 \n",
    "顶(0) (AC/Submit)Ratio(524|1165)44.98%  踩(3)\n",
    "\n",
    "描述:\n",
    "给你直角三角形的两个直角边的边长a,b,请你求出其斜边边长，结果保留小数点后三位小数。\n",
    "如a=3, b =4, 则输出5.000。"
   ]
  },
  {
   "cell_type": "code",
   "execution_count": null,
   "metadata": {
    "collapsed": true
   },
   "outputs": [],
   "source": [
    "from math import sqrt\n",
    "c = sqrt(a*a + b*b)\n",
    "print '%.3f'%c"
   ]
  },
  {
   "cell_type": "markdown",
   "metadata": {},
   "source": [
    "38/39 简单题之列表转换 \n",
    "讨论此题 | 解题报告 \n",
    "顶(2) (AC/Submit)Ratio(578|828)69.81%  踩(0)\n",
    "\n",
    "描述:\n",
    "给你一个字符串列表L，请用一行代码将列表所有元素拼接成一个字符串并输出。\n",
    "如L=['abc','d','efg'], 则输出abcdefg。"
   ]
  },
  {
   "cell_type": "code",
   "execution_count": null,
   "metadata": {
    "collapsed": true
   },
   "outputs": [],
   "source": [
    "print ''.join(L)"
   ]
  },
  {
   "cell_type": "markdown",
   "metadata": {},
   "source": [
    "分拆素数和 \n",
    "讨论此题 | 解题报告 \n",
    "顶(0) (AC/Submit)Ratio(350|1064)32.89%  踩(0)\n",
    "\n",
    "描述:\n",
    "把一个偶数拆成两个不同素数的和，有几种拆法呢？\n",
    "现在来考虑考虑这个问题，给你一个不超过10000的正的偶数n，\n",
    "计算将该数拆成两个不同的素数之和的方法数，并输出。\n",
    "如n=10，可以拆成3+7，只有这一种方法，因此输出1."
   ]
  },
  {
   "cell_type": "code",
   "execution_count": 4,
   "metadata": {
    "collapsed": false
   },
   "outputs": [
    {
     "name": "stdout",
     "output_type": "stream",
     "text": [
      "1\n",
      "[2, 3, 5, 7]\n"
     ]
    }
   ],
   "source": [
    "# my solution\n",
    "n=10\n",
    "nonprime=[]\n",
    "prime=[]\n",
    "for i in range(2,n):\n",
    "    for j in range(2,i):\n",
    "        if i != j and i%j==0:\n",
    "            nonprime.append(i)\n",
    "            continue \n",
    "    if i not in nonprime:\n",
    "        prime.append(i)\n",
    "count = 0\n",
    "for i in prime:\n",
    "    if n-i in prime and (n-i)%2!=0:\n",
    "        count += 1\n",
    "print count/2\n",
    "print prime"
   ]
  },
  {
   "cell_type": "markdown",
   "metadata": {},
   "source": [
    "[9中方法写递归](http://www.cnblogs.com/figure9/archive/2010/08/30/1812927.html#undefined)\n",
    "\n",
    "斐波那契数列 \n",
    "讨论此题 | 解题报告 \n",
    "顶(5) (AC/Submit)Ratio(445|1248)35.66%  踩(1)\n",
    "\n",
    "描述:\n",
    "斐波那契数列为1,1,2,3,5,8...。数列从第三项起满足，该项的数是其前面两个数之和。\n",
    "现在给你一个正整数n（n < 10000), 请你求出第n个斐波那契数取模20132013的值（斐波那契数列的编号从1开始）。"
   ]
  },
  {
   "cell_type": "code",
   "execution_count": 14,
   "metadata": {
    "collapsed": false
   },
   "outputs": [
    {
     "name": "stdout",
     "output_type": "stream",
     "text": [
      "[1, 1, 2, 3, 5, 8, 13, 21, 34, 55]\n"
     ]
    }
   ],
   "source": [
    "# 超时 Python递归的深度有限制啊 思维定势 谁说斐波那契数列数列一定要递归了、、\n",
    "fib_num = []\n",
    "def fib(n):\n",
    "    if n <= 1:\n",
    "        return n\n",
    "        #return\n",
    "    else:\n",
    "        return fib(n-1)+fib(n-2)\n",
    "        #return\n",
    "#print fib_num\n",
    "for i in range(1,n+1):\n",
    "    fib_num.append(fib(i))\n",
    "\n",
    "value = fib_num[-1]%20132013\n",
    "\n",
    "print value"
   ]
  },
  {
   "cell_type": "code",
   "execution_count": null,
   "metadata": {
    "collapsed": true
   },
   "outputs": [],
   "source": [
    "# 简洁的discuss\n",
    "a=[1,1]\n",
    "for i in range(2,n):\n",
    "    a.append(a[i-2]+a[i-1])\n",
    "print a[n-1]%20132013"
   ]
  }
 ],
 "metadata": {
  "anaconda-cloud": {},
  "kernelspec": {
   "display_name": "Python 2",
   "language": "python",
   "name": "python2"
  },
  "language_info": {
   "codemirror_mode": {
    "name": "ipython",
    "version": 2
   },
   "file_extension": ".py",
   "mimetype": "text/x-python",
   "name": "python",
   "nbconvert_exporter": "python",
   "pygments_lexer": "ipython2",
   "version": "2.7.12"
  }
 },
 "nbformat": 4,
 "nbformat_minor": 1
}
