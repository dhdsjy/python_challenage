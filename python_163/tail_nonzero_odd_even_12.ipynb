{
 "cells": [
  {
   "cell_type": "markdown",
   "metadata": {},
   "source": [
    "## 结尾非零数的奇偶性 \n",
    "讨论此题 | 解题报告 \n",
    "顶(19) (AC/Submit)Ratio(1609|4473)35.97%  踩(5)\n",
    "\n",
    "描述:\n",
    "给你一个正整数列表 L, 如 L=[2,8,3,50], 判断列表内所有数字乘积的最后一个非零数字的奇偶性,\n",
    "奇数输出1,偶数输出0. 如样例输出应为0"
   ]
  },
  {
   "cell_type": "code",
   "execution_count": 7,
   "metadata": {
    "collapsed": false
   },
   "outputs": [
    {
     "name": "stdout",
     "output_type": "stream",
     "text": [
      "1\n"
     ]
    }
   ],
   "source": [
    "#### my solution 建立在count_tail_zero的基础上，且最终连乘了列表中的数 复杂度高 不健壮\n",
    "L=[2,5,5]\n",
    "count2, count5 = 0, 0\n",
    "prod_sum = 1\n",
    "for i in L:\n",
    "    while i > 0 and (i % 2 == 0 or i % 5 == 0):\n",
    "        if i % 2 == 0:\n",
    "            count2 += 1\n",
    "            i /= 2\n",
    "        if i % 5 == 0:\n",
    "            count5 += 1\n",
    "            i /= 5\n",
    "for i in L:\n",
    "    prod_sum  = prod_sum * i\n",
    "\n",
    "num = str(prod_sum)[-(min(count2, count5)+1)]\n",
    "    \n",
    "print int(num)%2"
   ]
  },
  {
   "cell_type": "code",
   "execution_count": 8,
   "metadata": {
    "collapsed": false
   },
   "outputs": [
    {
     "name": "stdout",
     "output_type": "stream",
     "text": [
      "1\n",
      "1\n"
     ]
    }
   ],
   "source": [
    "# Discuss\n",
    "## method 1 2多 为 0 5多为1 这是什么理论？\n",
    "L = [2,5,5]\n",
    "m=0\n",
    "n=0\n",
    "for i in L:\n",
    "    t=i\n",
    "    while t%2==0:\n",
    "        t/=2\n",
    "        m+=1\n",
    "    while t%5==0:\n",
    "        t/=5\n",
    "        n+=1\n",
    "if m>n:\n",
    "    print 0\n",
    "else:\n",
    "    print 1\n",
    "\n",
    "    \n",
    "## method 1 简洁版\n",
    "def dig(n,a):\n",
    "    return 0 if n%a!=0 else 1+dig(n/a,a)\n",
    "print 0 if sum([dig(x,2) for x in L]) > sum([dig(x,5) for x in L]) else 1\n",
    "\n",
    "## method 1 比较正规的写法 这道题的坑点在：求出了5的个数和2的个数后，5比2 多的话很容易想到结果是基数，但是5和2相等的时候也是基数的~\n",
    "def fun5(x):\n",
    "\n",
    "    re = 0\n",
    "    while 1:\n",
    "        if x % 5 != 0 or x == 0:\n",
    "            break\n",
    "        else:\n",
    "            re = re + 1\n",
    "            x = x / 5\n",
    "    return re\n",
    "\n",
    "\n",
    "def fun2(x):\n",
    "    re = 0\n",
    "    while 1:\n",
    "        if x % 2 != 0 or x == 0:\n",
    "            break\n",
    "        else:\n",
    "            re = re + 1\n",
    "            x = x / 2\n",
    "    return re\n",
    "a = 0\n",
    "b = 0\n",
    "\n",
    "\n",
    "for i in range(len(L)):\n",
    "    a = a + fun5(L[i])\n",
    "    b = b + fun2(L[i])\n",
    "if a > b or a == b:\n",
    "    print 1\n",
    "else:\n",
    "    print 0\n",
    "    \n",
    "## method 1 看来这个思路是正确的\n",
    "amountOf2 = 0\n",
    "amountOf5 = 0\n",
    "for value in L: # 因为只有 2 * 5 或者 x * 0 的情况才能产生结尾为 0 的\n",
    "    if value != 0:\n",
    "        while value%2 == 0:\n",
    "            amountOf2 += 1\n",
    "            value /= 2\n",
    "        while  value%5 == 0:\n",
    "            amountOf5 += 1\n",
    "            value /= 5\n",
    "    else :\n",
    "        amountOf2 = 1\n",
    "        amountOf5 = 0\n",
    " \n",
    "print '%d'%(0 if amountOf2 > amountOf5 else 1)"
   ]
  },
  {
   "cell_type": "code",
   "execution_count": null,
   "metadata": {
    "collapsed": true
   },
   "outputs": [],
   "source": [
    "# method 2 非健壮解法 只是看看别人怎么用reduce\n",
    "def _product( x , y ) :\n",
    "    p = x * y\n",
    "    while p % 10 == 0 :\n",
    "        p /= 10\n",
    "    return p % 10\n",
    "#L = [1,3,5,73,72]\n",
    "print reduce( _product , L ) % 2"
   ]
  }
 ],
 "metadata": {
  "kernelspec": {
   "display_name": "Python 2",
   "language": "python",
   "name": "python2"
  },
  "language_info": {
   "codemirror_mode": {
    "name": "ipython",
    "version": 2
   },
   "file_extension": ".py",
   "mimetype": "text/x-python",
   "name": "python",
   "nbconvert_exporter": "python",
   "pygments_lexer": "ipython2",
   "version": "2.7.12"
  }
 },
 "nbformat": 4,
 "nbformat_minor": 0
}
