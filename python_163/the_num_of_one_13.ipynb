{
 "cells": [
  {
   "cell_type": "markdown",
   "metadata": {},
   "source": [
    "## 光棍的悲伤 \n",
    "讨论此题 | 解题报告 \n",
    "顶(13) (AC/Submit)Ratio(1933|3658)52.84%  踩(6)\n",
    "\n",
    "描述:\n",
    "光棍们对1总是那么敏感，因此每年的11.11被戏称为光棍节。\n",
    "鄙人光棍几十载，光棍自有光棍的快乐。让我们勇敢面对光棍的身份吧，\n",
    "现在就证明自己：给你一个整数a，数出a在二进制表示下1的个数，并输出。"
   ]
  },
  {
   "cell_type": "code",
   "execution_count": 1,
   "metadata": {
    "collapsed": false
   },
   "outputs": [
    {
     "ename": "ValueError",
     "evalue": "unsupported format character 'b' (0x62) at index 1",
     "output_type": "error",
     "traceback": [
      "\u001b[1;31m---------------------------------------------------------------------------\u001b[0m",
      "\u001b[1;31mValueError\u001b[0m                                Traceback (most recent call last)",
      "\u001b[1;32m<ipython-input-1-ad30a8e98d81>\u001b[0m in \u001b[0;36m<module>\u001b[1;34m()\u001b[0m\n\u001b[0;32m      1\u001b[0m \u001b[0ma\u001b[0m \u001b[1;33m=\u001b[0m \u001b[1;36m10\u001b[0m\u001b[1;33m\u001b[0m\u001b[0m\n\u001b[1;32m----> 2\u001b[1;33m \u001b[1;32mprint\u001b[0m \u001b[1;34m'%b'\u001b[0m\u001b[1;33m%\u001b[0m\u001b[0ma\u001b[0m\u001b[1;33m\u001b[0m\u001b[0m\n\u001b[0m",
      "\u001b[1;31mValueError\u001b[0m: unsupported format character 'b' (0x62) at index 1"
     ]
    }
   ],
   "source": [
    "# 想尝试一下直接输出二进制没过\n",
    "a = 10\n",
    "print '%b'%a\n",
    "\n",
    "# Python中转化为二进制的方法是什么？平常根本也不记着啊 "
   ]
  },
  {
   "cell_type": "code",
   "execution_count": 3,
   "metadata": {
    "collapsed": false
   },
   "outputs": [
    {
     "name": "stdout",
     "output_type": "stream",
     "text": [
      "10\n"
     ]
    }
   ],
   "source": [
    "# my solution \n",
    "a = 112323\n",
    "bin_a = str(bin(a).replace('0b',''))\n",
    "count = 0\n",
    "for i in bin_a:\n",
    "    if int(i)==1:\n",
    "        count += 1\n",
    "print count\n",
    "\n",
    "## 优化下\n",
    "bin(a).count('1')"
   ]
  },
  {
   "cell_type": "code",
   "execution_count": null,
   "metadata": {
    "collapsed": true
   },
   "outputs": [],
   "source": [
    "# Discuss\n",
    "## method 1 l列表生成式\n",
    "x = bin(a)\n",
    "L = [y for y in x if y == '1']\n",
    "print len(L)"
   ]
  },
  {
   "cell_type": "code",
   "execution_count": null,
   "metadata": {
    "collapsed": true
   },
   "outputs": [],
   "source": [
    "## method 2 根据定义做\n",
    "l=[]\n",
    "while a>0:\n",
    " i=a%2\n",
    " a=a/2\n",
    " l.insert(0,i)\n",
    "\n",
    "num=l.count(1)\n",
    "print num\n",
    "\n",
    "## 这个是通不过的 超时 有时间研究下\n",
    "count=0\n",
    "while a!=1:\n",
    "    count+=a%2\n",
    "    a=a//2\n",
    "count+=1\n",
    "print count"
   ]
  },
  {
   "cell_type": "code",
   "execution_count": 8,
   "metadata": {
    "collapsed": false
   },
   "outputs": [
    {
     "name": "stdout",
     "output_type": "stream",
     "text": [
      "10\n"
     ]
    }
   ],
   "source": [
    "## method 3 这是什么黑科技？ 非常强的字符格式化函数\n",
    "print \"{0:b}\".format(a).count(\"1\")\n"
   ]
  },
  {
   "cell_type": "code",
   "execution_count": null,
   "metadata": {
    "collapsed": true
   },
   "outputs": [],
   "source": [
    "## method 4 filter 解法\n",
    "print len(filter(lambda x: x == '1', bin(a)[::]))\n",
    "\n",
    "print(len(filter(lambda x:int(x)==1,str(bin(a))[2:])))"
   ]
  },
  {
   "cell_type": "code",
   "execution_count": 9,
   "metadata": {
    "collapsed": false
   },
   "outputs": [
    {
     "name": "stdout",
     "output_type": "stream",
     "text": [
      "10\n"
     ]
    }
   ],
   "source": [
    "## method 5 \n",
    "def count(a):\n",
    "    sum = 0\n",
    "    while(a >= 1):\n",
    "        a, b = divmod(a, 2)\n",
    "        if b != 0:\n",
    "            sum = sum + 1\n",
    "    return sum\n",
    "print(count(a))"
   ]
  },
  {
   "cell_type": "code",
   "execution_count": 10,
   "metadata": {
    "collapsed": false
   },
   "outputs": [
    {
     "name": "stdout",
     "output_type": "stream",
     "text": [
      "10\n"
     ]
    }
   ],
   "source": [
    "## method 6 啥米黑科技 又没懂\n",
    "count = 0;\n",
    "while (a != 0):\n",
    "    count += 1\n",
    "    a = a & (a - 1)\n",
    "print count"
   ]
  },
  {
   "cell_type": "code",
   "execution_count": null,
   "metadata": {
    "collapsed": true
   },
   "outputs": [],
   "source": [
    "## method 7 \n",
    "counter = 0\n",
    "while a:\n",
    "    a , res = a/2 , a%2\n",
    "    counter = counter + res\n",
    "print counter  "
   ]
  },
  {
   "cell_type": "code",
   "execution_count": null,
   "metadata": {
    "collapsed": true
   },
   "outputs": [],
   "source": [
    "## method 8 递归\n",
    "def fun(x,count):\n",
    "    if x%2==1:\n",
    "        count=count+1\n",
    "    if x==0:\n",
    "        return count\n",
    "    else:\n",
    "        x = x//2\n",
    "        return fun(x,count)\n",
    "print(fun(a,0))"
   ]
  },
  {
   "cell_type": "markdown",
   "metadata": {},
   "source": [
    "## 收获\n",
    "\n",
    "### 1、Python中的进制转换\n",
    "\n",
    "+ **10进制转其他进制**\n",
    "  + 10to2 bin()函数是讲整数转换成二进制字符串\n",
    "  ```python\n",
    "  #十进制转二进制,其中int（4,10）表示4是一个十进制整数\n",
    "    bin(int('4',10))\n",
    "    #或者,直接输入一个十进制\n",
    "    bin(4)\n",
    "    #结果是：0b100\n",
    "  ```\n",
    "  + 10to8 oct(4)\n",
    "  + 10to16 hex(4)\n",
    "\n",
    "+ **其他进制转10进制** 主要使用一个int()函数即可 语法为 int('其他进制数'，2/8/10) 后一个参数用来显示知名你的进制数\n",
    "\n",
    "[python format教程](https://m.runoob.com/python/att-string-format.html)\n"
   ]
  },
  {
   "cell_type": "code",
   "execution_count": 2,
   "metadata": {
    "collapsed": false
   },
   "outputs": [
    {
     "data": {
      "text/plain": [
       "'0b100'"
      ]
     },
     "execution_count": 2,
     "metadata": {},
     "output_type": "execute_result"
    }
   ],
   "source": [
    "bin(int('4',10))"
   ]
  },
  {
   "cell_type": "code",
   "execution_count": null,
   "metadata": {
    "collapsed": true
   },
   "outputs": [],
   "source": [
    "## 大小写转化的其他几种思路\n",
    "# method 1\n",
    "b=list(a)\n",
    "for i in range(len(b)):\n",
    "    if ord(b[i])>=65 and ord(b[i])<=90:\n",
    "        b[i] = chr(ord(b[i])+32)\n",
    "print (''.join(b))\n",
    "\n",
    "\n",
    "## method 2\n",
    "s=''\n",
    "for ch in a:\n",
    "    if 'A' <= ch <= 'Z':\n",
    "        ch = chr(ord(ch) + 32)\n",
    "    s = s + ch\n",
    "print s\n",
    "\n",
    "## 正则思路\n",
    "import re\n",
    "def translateUpperWord(a):\n",
    "    s = ''\n",
    "    for i in range(len(a)):\n",
    "        temp = a[i]\n",
    "        if(re.match('^[A-Z]$',temp)):\n",
    "            s += temp.lower()\n",
    "        else:\n",
    "            s += temp\n",
    "    print s\n",
    "    \n",
    "#a = 'aBcd'       \n",
    "translateUpperWord(a)"
   ]
  }
 ],
 "metadata": {
  "kernelspec": {
   "display_name": "Python 2",
   "language": "python",
   "name": "python2"
  },
  "language_info": {
   "codemirror_mode": {
    "name": "ipython",
    "version": 2
   },
   "file_extension": ".py",
   "mimetype": "text/x-python",
   "name": "python",
   "nbconvert_exporter": "python",
   "pygments_lexer": "ipython2",
   "version": "2.7.12"
  }
 },
 "nbformat": 4,
 "nbformat_minor": 0
}
