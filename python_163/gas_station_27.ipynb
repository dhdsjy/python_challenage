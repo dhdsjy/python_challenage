{
 "cells": [
  {
   "cell_type": "markdown",
   "metadata": {},
   "source": [
    "加油站 \n",
    "讨论此题 | 解题报告 \n",
    "顶(7) (AC/Submit)Ratio(406|1357)29.92%  踩(2)\n",
    "\n",
    "描述:\n",
    "一个环形的公路上有n个加油站，编号为0,1,2,...n-1,\n",
    "每个加油站加油都有一个上限，保存在列表limit中，即limit[i]为第i个加油站加油的上限，\n",
    "而从第i个加油站开车开到第(i+1)%n个加油站需要cost[i]升油,cost为一个列表。\n",
    "现在有一辆开始时没有油的车，要从一个加油站出发绕这个公路跑一圈回到起点。\n",
    "给你整数n，列表limit和列表cost,你来判断能否完成任务。\n",
    "如果能够完成任务，输出起始的加油站编号，如果有多个,输出编号最小的。\n",
    "如果不能完成任务，输出-1。"
   ]
  },
  {
   "cell_type": "code",
   "execution_count": null,
   "metadata": {
    "collapsed": true
   },
   "outputs": [],
   "source": [
    "# my solution  不完整的代码 想不出来了 又回到起点这个怎么表示出来？走过n个加油站就行啊 怎么通过循环表示这n？？？\n",
    "gas_station_num = []\n",
    "for i in range(n):\n",
    "    for j in range(i,i+n):\n",
    "        \n",
    "        if limit[j]>cost[j]:\n",
    "\n",
    "            limit[j] = limit[j]-cost[j] + limit[j+1]\n",
    "            j += 1\n",
    "            continue\n",
    "            \n",
    "    if j-i == n-1:\n",
    "        gas_station_num.append(j)\n",
    "        print min(gas_station_num)\n",
    "    else:\n",
    "        print -1"
   ]
  },
  {
   "cell_type": "code",
   "execution_count": null,
   "metadata": {
    "collapsed": true
   },
   "outputs": [],
   "source": [
    "# discuss\n",
    "## method 1 现金流模型？第一次听说\n",
    "\"\"\"\"\"\"算法：\n",
    "车无加油上限，故可应用分年现金流量模型。、\n",
    "limit即为年收入，cost即为年支出，所求即为验证各年盈余累计是否为正值\n",
    "环形道路，为计算方便，可将0～n-1节点的数据复制到n~2n-1节点\n",
    "\"\"\"\"\"\"\n",
    "rest=[limit[i]-cost[i] for i in range(n)]\n",
    "\n",
    "rest = rest[:]+rest[:]# 这个用的相当漂亮啊 比你的什么双层for循环 2n out of range 强大而且正确啊\n",
    "\n",
    "\n",
    "for i in range(n):\n",
    "\tsign = True\n",
    "\ttotal = 0\n",
    "\tfor j in range(n):\n",
    "\t\ttotal += rest[i+j]# 太美！\n",
    "\t\tif total < 0:\n",
    "\t\t\tsign = False\n",
    "\t\t\tbreak           # 学会用break\n",
    "\tif sign == True: # 无论如何 到这一步 肯定执行了一轮for循环 如果sign还是True 那就跑了一圈老\n",
    "\t\tpos = i\n",
    "\t\tbreak\n",
    "\n",
    "\n",
    "if sign == True:\n",
    "\tprint pos\n",
    "else:\n",
    "\tprint -1"
   ]
  },
  {
   "cell_type": "code",
   "execution_count": null,
   "metadata": {
    "collapsed": true
   },
   "outputs": [],
   "source": [
    "## method 2 模块化编程 非常值得学习 好好研究下思路\n",
    "def finishTask(n,limit,cost):   #判断给定n,每站供油量limit,每站耗油量cost后能否跑完一圈\n",
    "\n",
    "    gasRemain = 0\n",
    "    for i in xrange(len(limit)):\n",
    "        gasRemain += limit[i] - cost[i]\n",
    "        if gasRemain < 0:\n",
    "            return False\n",
    "    return True\n",
    "    \n",
    "def listCombination(l): # 生成n个元素列表的不同出发站的列表并返还\n",
    "    lists = []\n",
    "    for i in xrange(len(l)):\n",
    "        lists.append(l[i:]+l[:i])\n",
    "    return lists\n",
    "\n",
    "\n",
    "def printNum(n,limit,cost):  #判断不同的出发站能否跑完一圈，同时找出给定n、limit、cost后可以跑完一圈的最小出发站\n",
    "\ttest = False\n",
    "\tlimits = []\n",
    "\tcosts = []\n",
    "\tlimits = listCombination(limit)\n",
    "\tcosts = listCombination(cost)\n",
    "\tnumber = 0\n",
    "\tfor i in xrange(n):\n",
    "\t\tif finishTask(n,limits[i],costs[i]):\n",
    "\t\t\tnumber = i\n",
    "\t\t\ttest = True\n",
    "\t\t\tbreak\n",
    "\tif test == False:\n",
    "\t\treturn False\n",
    "\telse:\n",
    "\t\treturn number\n",
    "\t\t\n",
    "\n",
    "if printNum(n,limit,cost):\n",
    "\tprint printNum(n,limit,cost)\n",
    "else:\n",
    "\tprint -1"
   ]
  },
  {
   "cell_type": "code",
   "execution_count": null,
   "metadata": {
    "collapsed": true
   },
   "outputs": [],
   "source": [
    "## method 3 坊间传闻的for else 语句 值得揣摩\n",
    "from __future__ import print_function\n",
    "\n",
    "for i in range(n):\n",
    "    you = limit[i]\n",
    "    for k in range(1, n+1):\n",
    "        you -= cost[(i+k-1)%n]\n",
    "        if you < 0:\n",
    "            break\n",
    "        else:\n",
    "            you += limit[(i+k)%n]\n",
    "    else:\n",
    "        print(i)\n",
    "        break\n",
    "else:\n",
    "    print(-1)"
   ]
  },
  {
   "cell_type": "code",
   "execution_count": null,
   "metadata": {
    "collapsed": true
   },
   "outputs": [],
   "source": [
    "## method 4 又是一个非常棒的解法\n",
    "net=map(lambda x,y:x-y,limit,cost)\n",
    "def test(val,arr):\n",
    "    if val<0:return False\n",
    "    if len(arr)==0: return True\n",
    "    return False if val+arr[0]<0 else test(val+arr[0],arr[1:])\n",
    "for i in range(0,n):\n",
    "    if(test(net[0],net[1:])):\n",
    "        print i\n",
    "        break\n",
    "    if(i==n-1):\n",
    "        print -1\n",
    "    net.append(net.pop(0))"
   ]
  }
 ],
 "metadata": {
  "kernelspec": {
   "display_name": "Python 2",
   "language": "python",
   "name": "python2"
  },
  "language_info": {
   "codemirror_mode": {
    "name": "ipython",
    "version": 2
   },
   "file_extension": ".py",
   "mimetype": "text/x-python",
   "name": "python",
   "nbconvert_exporter": "python",
   "pygments_lexer": "ipython2",
   "version": "2.7.12"
  }
 },
 "nbformat": 4,
 "nbformat_minor": 1
}
