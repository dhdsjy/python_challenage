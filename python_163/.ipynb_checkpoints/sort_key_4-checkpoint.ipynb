{
 "cells": [
  {
   "cell_type": "code",
   "execution_count": 1,
   "metadata": {
    "collapsed": false
   },
   "outputs": [
    {
     "name": "stdout",
     "output_type": "stream",
     "text": [
      "1,\n",
      "2,\n",
      "3\n",
      "1, 2, 3\n"
     ]
    }
   ],
   "source": [
    "\"\"\"\n",
    "题目：给你一字典a，如a={1:1,2:2,3:3}，输出字典a的key，以','连接，如‘1,2,3'。要求key通过字典序升序排列(注意key\n",
    "可能是字符串）。\n",
    "例如：a={1:1,2:2,3:3}, 则输出：1,2,3\n",
    "\"\"\"\n",
    "\n",
    "# my first solution:\n",
    "a={1:1,2:2,3:3}\n",
    "keyss = []\n",
    "for key in a:\n",
    "    keyss.append(key)\n",
    "list_sort = sorted(keyss)\n",
    "for i in list_sort:\n",
    "    if i != list_sort[-1]:\n",
    "        print str(i) + ','\n",
    "    else:\n",
    "        print str(i)\n",
    "        \n",
    "# 修改后\n",
    "keys = []\n",
    "for key in a:\n",
    "    keys.append(key)\n",
    "list_sort = sorted(keys)\n",
    "for i in list_sort:\n",
    "    if i != list_sort[-1]:\n",
    "        print str(i) + ',',\n",
    "    else:\n",
    "        print str(i),\n"
   ]
  },
  {
   "cell_type": "code",
   "execution_count": 12,
   "metadata": {
    "collapsed": false,
    "scrolled": true
   },
   "outputs": [
    {
     "name": "stdout",
     "output_type": "stream",
     "text": [
      "1.2.3\n"
     ]
    }
   ],
   "source": [
    "# Discuss\n",
    "# method 1 列表推导式\n",
    "a={1:1,2:2,3:3}\n",
    "print '.'.join([str(i) for i in a.keys()])\n",
    "print '.'.join([str(i) for i in list(a)])"
   ]
  },
  {
   "cell_type": "code",
   "execution_count": 13,
   "metadata": {
    "collapsed": false
   },
   "outputs": [
    {
     "name": "stdout",
     "output_type": "stream",
     "text": [
      "1,2,3\n"
     ]
    }
   ],
   "source": [
    "# method 2 map\n",
    "print(','.join(map(str,a.keys())))"
   ]
  },
  {
   "cell_type": "code",
   "execution_count": null,
   "metadata": {
    "collapsed": true
   },
   "outputs": [],
   "source": [
    "# 收获：\n",
    "# 1.list的方法 ，常见的sort reverse 通过list本身调用一般都会返回None，不知道怎么回事 但是通过变量调用a.sort()就能返回相应的值\n",
    "# 2.通过discuss 学会了 join的使用方法 string.join(seq) tuple list 转化为字符串都会用到这个方法\n",
    "# 3.字典取键、值 、键值对的方法  a.keys() a.values() a.items() 返回值以列表的形式\n",
    "# 4."
   ]
  }
 ],
 "metadata": {
  "kernelspec": {
   "display_name": "Python 2",
   "language": "python",
   "name": "python2"
  },
  "language_info": {
   "codemirror_mode": {
    "name": "ipython",
    "version": 2
   },
   "file_extension": ".py",
   "mimetype": "text/x-python",
   "name": "python",
   "nbconvert_exporter": "python",
   "pygments_lexer": "ipython2",
   "version": "2.7.12"
  }
 },
 "nbformat": 4,
 "nbformat_minor": 0
}
