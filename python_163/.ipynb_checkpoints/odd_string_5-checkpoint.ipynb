{
 "cells": [
  {
   "cell_type": "code",
   "execution_count": 2,
   "metadata": {
    "collapsed": false
   },
   "outputs": [
    {
     "name": "stdout",
     "output_type": "stream",
     "text": [
      "135\n"
     ]
    }
   ],
   "source": [
    "\"\"\"给你一个字符串 a， 输出字符奇数位置的字符串。如a=‘12345’，则输出135。\"\"\"\n",
    "# my solution\n",
    "a='12345'\n",
    "r=[]\n",
    "for i in range(1,len(a)+1):\n",
    "    if i%2==1:\n",
    "        r.append(a[i-1])\n",
    "print ''.join(r)"
   ]
  },
  {
   "cell_type": "code",
   "execution_count": 5,
   "metadata": {
    "collapsed": false
   },
   "outputs": [
    {
     "data": {
      "text/plain": [
       "'12345'"
      ]
     },
     "execution_count": 5,
     "metadata": {},
     "output_type": "execute_result"
    }
   ],
   "source": [
    "# for depth ,just a think\n",
    "def select_odd(a):\n",
    "    r=[]\n",
    "    for i in range(1,len(a)+1):\n",
    "        if i%2==1:\n",
    "            r.append(a[i-1])\n",
    "    return r\n",
    "filter(select_odd,a)"
   ]
  },
  {
   "cell_type": "code",
   "execution_count": 6,
   "metadata": {
    "collapsed": false
   },
   "outputs": [
    {
     "name": "stdout",
     "output_type": "stream",
     "text": [
      "135\n"
     ]
    }
   ],
   "source": [
    "# discuss\n",
    "# method 1 类似的方法\n",
    "li = []\n",
    "for i in range(len(a)):\n",
    "    if i%2 == 0:\n",
    "        li.append(a[i])\n",
    "print ''.join(li)\n",
    "\n",
    "# 更严谨一点\n",
    "l = list(a)\n",
    "l2 = []\n",
    "for i in range(0,len(l)):\n",
    "    if i % 2 ==0:\n",
    "        l2.append(l[i])\n",
    "    else:\n",
    "        pass\n",
    "print ''.join(l2)"
   ]
  },
  {
   "cell_type": "code",
   "execution_count": 7,
   "metadata": {
    "collapsed": false
   },
   "outputs": [
    {
     "name": "stdout",
     "output_type": "stream",
     "text": [
      "135\n"
     ]
    }
   ],
   "source": [
    "#method 2 分片 6666 字符串逆序也是这个原理啊\n",
    "print(a[::2])"
   ]
  },
  {
   "cell_type": "code",
   "execution_count": 9,
   "metadata": {
    "collapsed": false
   },
   "outputs": [
    {
     "name": "stdout",
     "output_type": "stream",
     "text": [
      "135\n"
     ]
    }
   ],
   "source": [
    "# method 3 列表推导式\n",
    "b = range(0,len(a),2)\n",
    "l = [a[x] for x in b]\n",
    "print ''.join(l)"
   ]
  },
  {
   "cell_type": "code",
   "execution_count": 16,
   "metadata": {
    "collapsed": false
   },
   "outputs": [
    {
     "name": "stdout",
     "output_type": "stream",
     "text": [
      "135\n",
      "135\n"
     ]
    }
   ],
   "source": [
    "# method 4 列表推导式 for循环+判断\n",
    "print(int(''.join([i for i in a if int(i) % 2 != 0])))\n",
    "print ''.join([ a[x] for x in range(len(a)) if x % 2 == 0])"
   ]
  },
  {
   "cell_type": "code",
   "execution_count": 11,
   "metadata": {
    "collapsed": false
   },
   "outputs": [
    {
     "name": "stdout",
     "output_type": "stream",
     "text": [
      "135\n"
     ]
    }
   ],
   "source": [
    "# method 5 enumerate\n",
    "print ( ''.join([ c for i, c in enumerate(a) if i % 2 == 0]) )"
   ]
  },
  {
   "cell_type": "code",
   "execution_count": 8,
   "metadata": {
    "collapsed": false
   },
   "outputs": [
    {
     "name": "stdout",
     "output_type": "stream",
     "text": [
      "135\n"
     ]
    }
   ],
   "source": [
    "# method 6 有点像c的思路\n",
    "a='12345'\n",
    "i=0\n",
    "r=''\n",
    "while i <len(a):\n",
    "    if (i+1)%2 == 1:\n",
    "        r = r+a[i]\n",
    "    i+=1\n",
    "print r"
   ]
  },
  {
   "cell_type": "code",
   "execution_count": null,
   "metadata": {
    "collapsed": true
   },
   "outputs": [],
   "source": [
    "# 收获\n",
    "# 1.切片真是太强大了! 这个方法处理字符串 list特别好\n",
    "# 2、 总的来说，处理字符串问题，一般从字符串位置和字符串本身入手（可以转化为list取出其中每一个元素，也可以使用enumerate直接取出位置和内容）"
   ]
  }
 ],
 "metadata": {
  "kernelspec": {
   "display_name": "Python 2",
   "language": "python",
   "name": "python2"
  },
  "language_info": {
   "codemirror_mode": {
    "name": "ipython",
    "version": 2
   },
   "file_extension": ".py",
   "mimetype": "text/x-python",
   "name": "python",
   "nbconvert_exporter": "python",
   "pygments_lexer": "ipython2",
   "version": "2.7.12"
  }
 },
 "nbformat": 4,
 "nbformat_minor": 0
}
