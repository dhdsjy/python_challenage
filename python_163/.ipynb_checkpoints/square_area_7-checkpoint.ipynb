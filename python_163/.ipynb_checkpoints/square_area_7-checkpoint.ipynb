{
 "cells": [
  {
   "cell_type": "code",
   "execution_count": 1,
   "metadata": {
    "collapsed": false
   },
   "outputs": [
    {
     "name": "stdout",
     "output_type": "stream",
     "text": [
      "15 16\n"
     ]
    }
   ],
   "source": [
    "\"\"\"已知矩形长a,宽b,输出其面积和周长，面积和周长以一个空格隔开\"\"\"\n",
    "a=5\n",
    "b=3\n",
    "ls=[]\n",
    "l =  (a+b)*2 \n",
    "s = a*b\n",
    "ls.append(s)\n",
    "ls.append(l)\n",
    "\n",
    "print ' '.join(map(str,ls))"
   ]
  },
  {
   "cell_type": "code",
   "execution_count": 4,
   "metadata": {
    "collapsed": false
   },
   "outputs": [
    {
     "name": "stdout",
     "output_type": "stream",
     "text": [
      "15 16\n",
      "15 16\n",
      "(15, ' ', 16)\n"
     ]
    }
   ],
   "source": [
    "# discuss\n",
    "# method 1 简单解法\n",
    "print(str(a * b) + ' '  + str(2 * (a + b)))\n",
    "# Python中逗号就相当于一个空格\n",
    "print a*b,(a+b)*2 \n",
    "# print(a*b,' ',(a+b)*2)"
   ]
  },
  {
   "cell_type": "code",
   "execution_count": null,
   "metadata": {
    "collapsed": true
   },
   "outputs": [],
   "source": [
    "# 收获\n",
    "#1、题目本身非常简单，但在输出形式的时候犯了2个错误：第一个，先输出面积，要注意审题；\n",
    "#第二个，直接将int（float）转化为str后直接' '.join()，这会导致最终结果每隔一个字符就有一个空格 而不是只有一个空格"
   ]
  }
 ],
 "metadata": {
  "kernelspec": {
   "display_name": "Python 2",
   "language": "python",
   "name": "python2"
  },
  "language_info": {
   "codemirror_mode": {
    "name": "ipython",
    "version": 2
   },
   "file_extension": ".py",
   "mimetype": "text/x-python",
   "name": "python",
   "nbconvert_exporter": "python",
   "pygments_lexer": "ipython2",
   "version": "2.7.12"
  }
 },
 "nbformat": 4,
 "nbformat_minor": 0
}
