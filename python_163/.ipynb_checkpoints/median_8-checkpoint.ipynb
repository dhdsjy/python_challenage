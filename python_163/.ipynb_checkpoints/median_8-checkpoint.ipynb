{
 "cells": [
  {
   "cell_type": "code",
   "execution_count": 1,
   "metadata": {
    "collapsed": false
   },
   "outputs": [
    {
     "name": "stdout",
     "output_type": "stream",
     "text": [
      "2.0\n"
     ]
    }
   ],
   "source": [
    "\"\"\"给你一个list L, 如 L=[0,1,2,3,4], 输出L的中位数（若结果为小数，则保留一位小数）。\"\"\"\n",
    "L=[0,1,2,3,4]\n",
    "med = L[len(L)/2-1] + L[len(L)/2]\n",
    "if len(L)==0:\n",
    "    print 'no num'\n",
    "if len(L)==1:\n",
    "    print \"%.1f\"%L[0]\n",
    "if len(L)%2 == 0:\n",
    "    print \"%.1f\"%L[med/2] # 这个的确错了\n",
    "else:\n",
    "    print \"%.1f\"%L[len(L)/2]\n",
    "    \n",
    "    "
   ]
  },
  {
   "cell_type": "code",
   "execution_count": null,
   "metadata": {
    "collapsed": true
   },
   "outputs": [],
   "source": [
    "# discuss\n",
    "# method 1\n",
    "L = sorted(L)\n",
    "print (L[len(L)/2] if len(L)%2==1 else \"%.1f\"%(0.5*(L[len(L)/2-1]+L[len(L)/2])))"
   ]
  },
  {
   "cell_type": "code",
   "execution_count": 2,
   "metadata": {
    "collapsed": false
   },
   "outputs": [
    {
     "name": "stdout",
     "output_type": "stream",
     "text": [
      "2\n"
     ]
    }
   ],
   "source": [
    "#method 2\n",
    "L.sort()\n",
    "length = len(L)\n",
    "if length%2 == 0:\n",
    "    print (L[length/2]+L[length/2-1])/2.0\n",
    "else:\n",
    "    print L[length/2]"
   ]
  },
  {
   "cell_type": "code",
   "execution_count": null,
   "metadata": {
    "collapsed": true
   },
   "outputs": [],
   "source": [
    "# 修改后 终于被AC的代码\n",
    "#L.sort()\n",
    "# L = L.sort() 错误\n",
    "L=sorted(L)\n",
    "med = L[len(L)/2-1] + L[len(L)/2]\n",
    "if len(L)%2 == 0:\n",
    "    print \"%.1f\" % (med/2.0) # 必须要加括号，且必须除以2.0 不然Python默认向下取整\n",
    "else:\n",
    "    print L[len(L)/2]"
   ]
  },
  {
   "cell_type": "code",
   "execution_count": null,
   "metadata": {
    "collapsed": true
   },
   "outputs": [],
   "source": [
    "# 收获\n",
    "# 1、 竟然忘记了中位数的概念 要排序啊 \n",
    "# 2、一定要注意Python的细节 整除 整体加括号啊"
   ]
  }
 ],
 "metadata": {
  "kernelspec": {
   "display_name": "Python 2",
   "language": "python",
   "name": "python2"
  },
  "language_info": {
   "codemirror_mode": {
    "name": "ipython",
    "version": 2
   },
   "file_extension": ".py",
   "mimetype": "text/x-python",
   "name": "python",
   "nbconvert_exporter": "python",
   "pygments_lexer": "ipython2",
   "version": "2.7.12"
  }
 },
 "nbformat": 4,
 "nbformat_minor": 0
}
