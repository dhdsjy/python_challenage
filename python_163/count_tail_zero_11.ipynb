{
 "cells": [
  {
   "cell_type": "code",
   "execution_count": 4,
   "metadata": {
    "collapsed": false
   },
   "outputs": [
    {
     "name": "stdout",
     "output_type": "stream",
     "text": [
      "3\n"
     ]
    }
   ],
   "source": [
    "\"\"\"给你一个正整数列表 L, 如 L=[2,8,3,50], 输出L内所有数字的乘积末尾0的个数,\n",
    "如样例L的结果为2.(提示:不要直接相乘,数字很多,可能溢出)\"\"\"\n",
    "\n",
    "# 比较朴素而且没有ac的代码  只是通过了几个简单的测试而已\n",
    "L=[2,8,3,50,5]\n",
    "even_count = 0\n",
    "five_count = 0\n",
    "zero_tail_count = 0\n",
    "for i in L:                \n",
    "    if i % 2 == 0:\n",
    "        even_count += 1\n",
    "    if i % 5 == 0:\n",
    "        five_count += 1\n",
    "    \n",
    "    if i % 10 == 0:\n",
    "        i = str(i)\n",
    "        i = list(i)\n",
    "        \n",
    "        for x in i[::-1]:\n",
    "            if x=='0':\n",
    "                zero_tail_count += 1\n",
    "    \n",
    "            \n",
    "print (min(even_count,five_count) + zero_tail_count)\n",
    "\n",
    "# 和我的思路一样 但是代码非常简洁 虽然答案是错误的\n",
    "stringl = ''.join([str(i) for i in L])    #将数字列表转为数字字符串\n",
    "n = stringl.count('0')+min(stringl.count('2'),stringl.count('5'))\n",
    "print n"
   ]
  },
  {
   "cell_type": "code",
   "execution_count": 6,
   "metadata": {
    "collapsed": false
   },
   "outputs": [
    {
     "name": "stdout",
     "output_type": "stream",
     "text": [
      "3\n",
      "3\n",
      "2\n"
     ]
    }
   ],
   "source": [
    "# Discuss  这种题目要花时间整理\n",
    "# method 1  这个程序逻辑还是比较好理解的 比阶乘中0的个数好理解 参考链接：http://blog.csdn.net/zhzz2012/article/details/51694266\n",
    "#程序逻辑： 将10分解为2*5，注意这里只能分解为2*5，所以我们可以将列表L内的数字分解为因数2和5的个数。\n",
    "#则2和5各自个数到最小值就是最终的乘积的0的个数。而如果2到个数大于5，那最终到乘积到最后一个非0数字就是偶数\n",
    "twoNo = 0\n",
    "fiveNo = 0\n",
    "for i in L:\n",
    "    while i % 2 == 0:\n",
    "        twoNo += 1\n",
    "        i /= 2\n",
    "    while i % 5 == 0:\n",
    "        fiveNo += 1\n",
    "        i /= 5\n",
    "if twoNo < fiveNo :\n",
    "    print twoNo \n",
    "else :\n",
    "    print fiveNo\n",
    "\n",
    "# 更健壮的 method 1\n",
    "count2, count5 = 0, 0\n",
    "for i in L:\n",
    "    while i > 0 and (i % 2 == 0 or i % 5 == 0):\n",
    "        if i % 2 == 0:\n",
    "            count2 += 1\n",
    "            i /= 2\n",
    "        if i % 5 == 0:\n",
    "            count5 += 1\n",
    "            i /= 5\n",
    "print min(count2, count5)\n",
    "\n",
    "# flag 方法 尝试学习\n",
    "L = [2,8,3,50]\n",
    "def count(L):\n",
    "    count2 = count5 = 0    # 分别保存list中各个元素中包含2和5的因子数目\n",
    "    flag2 = flag5 = True\n",
    "    l = len(L)\n",
    "    for i in range(0, l):\n",
    "        while flag2 or flag5:\n",
    "            while L[i] % 2 == 0:    # 计算保存list中各个元素中包含2的因子数目\n",
    "                count2 = count2 + 1\n",
    "                L[i] = L[i] / 2\n",
    "            flag2 = False\n",
    "            while L[i] % 5 == 0:    # 计算list中各个元素中包含5的因子数目\n",
    "                count5 = count5 + 1\n",
    "                L[i] = L[i] / 5\n",
    "            flag5 = False\n",
    "        flag2 = flag5 = True\n",
    "    num = (count2 if count2 < count5 else count5)\n",
    "    return num\n",
    "print(count(L))"
   ]
  },
  {
   "cell_type": "code",
   "execution_count": null,
   "metadata": {
    "collapsed": true
   },
   "outputs": [],
   "source": [
    "# 收获\n",
    "# 1、问题的解决思路可能有很多，但如何选择一个简洁的思路才是一种能力。这题我的思路是： 先统计偶数和5的倍数 ，谁比较少就用谁\n",
    "# 作为第一阶段末尾0的统计个数；第二阶段再统计末尾直接带0的（而且这里竟然将其转化为字符串，然后倒序输出 正常的思路不是除以10吗）\n",
    "# 但是这种方法是存在先天缺陷的 有重复也会有没统计到的  比如10这个数字，在两个阶段都统计了一次，即使在第一阶段将10的倍数都给去掉\n",
    "# 你只统计末尾0的个数，但是倒数第二位是偶数和5的倍数，对最终的统计也是有影响的 比如[2,4,5,150] 按程序的思路应该有2个0 但是4 150\n",
    "# 也会增加一个0的 这样，再来推倒第几位就没办法解答了 而且25 4 还有2个0\n",
    "\n",
    "# 2.求阶乘末尾0的个数 http://www.w2bc.com/article/122672 根据算法复杂度反推解决方案 这个思路很好\n",
    "# 3 求任意阶乘末尾0的个数"
   ]
  },
  {
   "cell_type": "code",
   "execution_count": null,
   "metadata": {
    "collapsed": true
   },
   "outputs": [],
   "source": [
    "# 拓展\n",
    "# ①求n!一共有多少位。比如，10! == 3628800.那么有7位。\n",
    "\n",
    "# ②求n!后面第一个非零的数。比如10!后面第一个非零数为8。\n",
    "\n",
    "# 求N！的二进制表示中最低位1的位置  http://blog.csdn.net/luchenqun/article/details/6376775 求二进制中1的个数"
   ]
  },
  {
   "cell_type": "code",
   "execution_count": null,
   "metadata": {
    "collapsed": true
   },
   "outputs": [],
   "source": [
    "# 阶乘问题的一个归纳 http://blog.sina.com.cn/s/blog_5b15897401012jrl.html\n",
    "# 求阶乘末尾0的个数 学好数学的重要性！！\n",
    "# c 版\n",
    "int numOfZero(int n)  \n",
    "{  \n",
    "    int num = 0, i;  \n",
    "    for(i=5; i<=n; i*=5)  \n",
    "    {  \n",
    "        num += n/i;  \n",
    "    }  \n",
    "    return num;  \n",
    "}  \n",
    "\n",
    "# Java版\n",
    "public class Solution {\n",
    "\n",
    "    /*\n",
    "     * param n: As desciption return: An integer, denote the number of trailing\n",
    "     * zeros in n!\n",
    "     */\n",
    "    public long trailingZeros(long n) {\n",
    "        // write your code here\n",
    "        long count = 0;\n",
    "        long temp=n/5;\n",
    "        while (temp!=0) {\n",
    "            count+=temp;\n",
    "            temp/=5;\n",
    "        }\n",
    "        return count;\n",
    "    }\n",
    "}"
   ]
  },
  {
   "cell_type": "markdown",
   "metadata": {},
   "source": []
  }
 ],
 "metadata": {
  "kernelspec": {
   "display_name": "Python 2",
   "language": "python",
   "name": "python2"
  },
  "language_info": {
   "codemirror_mode": {
    "name": "ipython",
    "version": 2
   },
   "file_extension": ".py",
   "mimetype": "text/x-python",
   "name": "python",
   "nbconvert_exporter": "python",
   "pygments_lexer": "ipython2",
   "version": "2.7.12"
  }
 },
 "nbformat": 4,
 "nbformat_minor": 0
}
