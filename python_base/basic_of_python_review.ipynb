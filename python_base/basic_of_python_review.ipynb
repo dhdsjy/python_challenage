{
 "cells": [
  {
   "cell_type": "markdown",
   "metadata": {
    "collapsed": true
   },
   "source": [
    "## python基本语法巩固 为刷题做准备 基于廖雪峰教程\n",
    "[另一本非常有参考价值的Python书籍](http://www.cnblogs.com/vamei/archive/2012/12/15/2772451.html)"
   ]
  },
  {
   "cell_type": "code",
   "execution_count": 54,
   "metadata": {
    "collapsed": false
   },
   "outputs": [
    {
     "name": "stdout",
     "output_type": "stream",
     "text": [
      "the 18.1 %\n"
     ]
    }
   ],
   "source": [
    "# 捋一捋ASCII编码和Unicode编码的区别：ASCII编码是1个字节，而Unicode编码通常是2个字节\n",
    "# UTF-8编码把一个Unicode字符根据不同的数字大小编码成1-6个字节，常用的英文字母被编码成1个字节，汉字通常是3个字节，\n",
    "#只有很生僻的字符才会被编码成4-6个字节。如果你要传输的文本包含大量英文字符，用UTF-8编码就能节省空间：\n",
    "# 在计算机内存中，统一使用Unicode编码，当需要保存到硬盘或者需要传输的时候，就转换为UTF-8编码。\n",
    "#申明了UTF-8编码并不意味着你的.py文件就是UTF-8编码的，必须并且要确保文本编辑器正在使用UTF-8 without BOM编码\n",
    "#如果.py文件本身使用UTF-8编码，并且也申明了# -*- coding: utf-8 -*-，打开命令提示符测试就可以正常显示中文：\n",
    "\n",
    "# 格式化字符串\n",
    "'%2d-%02d' % (3, 1)\n",
    "'%.2f' % 3.1415926\n",
    "'growth rate: %d %%' % 7\n",
    "\n",
    "s1=72\n",
    "s2=85\n",
    "r = (s2-s1)/float(s1)*100\n",
    "print('the %.1f %%' % r)"
   ]
  },
  {
   "cell_type": "code",
   "execution_count": 56,
   "metadata": {
    "collapsed": false
   },
   "outputs": [
    {
     "name": "stdout",
     "output_type": "stream",
     "text": [
      "dd dd\n"
     ]
    }
   ],
   "source": [
    "# raw_input input\n",
    "# 一行有多个输入\n",
    "n = raw_input().split().strip() # 返回的是列表，且列表的每个元素是str\n",
    "x,y = raw_input().split().strip()\n",
    "# 输入多行\n",
    "x = raw_input()\n",
    "y = raw_input()\n",
    "# 通过循环输入\n",
    "\n"
   ]
  },
  {
   "cell_type": "code",
   "execution_count": 2,
   "metadata": {
    "collapsed": false
   },
   "outputs": [
    {
     "data": {
      "text/plain": [
       "{1, 2, 3}"
      ]
     },
     "execution_count": 2,
     "metadata": {},
     "output_type": "execute_result"
    }
   ],
   "source": [
    "# set list\n",
    "#set和dict类似，也是一组key的集合，但不存储value。由于key不能重复，所以，在set中，没有重复的key。\n",
    "#要创建一个set，需要提供一个list作为输入集合：\n",
    "#通过add(key)方法可以添加元素到set中，可以重复添加，但不会有效果：\n",
    "#通过remove(key)方法可以删除元素：\n",
    "\n",
    "s = set([1, 1, 2, 2, 3, 3])\n",
    "s.add(4)\n",
    "s.remove(4)"
   ]
  },
  {
   "cell_type": "code",
   "execution_count": 10,
   "metadata": {
    "collapsed": false
   },
   "outputs": [
    {
     "data": {
      "text/plain": [
       "['a', 'b', 'c']"
      ]
     },
     "execution_count": 10,
     "metadata": {},
     "output_type": "execute_result"
    }
   ],
   "source": [
    "# 不可变对象与可变对象 str是不变对象，而list是可变对象。\n",
    "# 不变对象的好处 为什么要设计str、None这样的不变对象呢？因为不变对象一旦创建，对象内部的数据就不能修改，这样就减少了由于修改数据导致的错误。此外，由于对象不变，多任务环境下同时读取对象不需要加锁，同时读一点问题都没有。我们在编写程序时，如果可以设计一个不变对象，那就尽量设计成不变对象。\n",
    "#所以，对于不变对象来说，调用对象自身的任意方法，也不会改变该对象自身的内容。相反，这些方法会创建新的对象并返回，这样，就保证了不可变对象本身永远是不可变的\n",
    "a = 'abc'\n",
    "a.replace('a', 'A') # 输出Abc\n",
    "a\n",
    "\n",
    "b = ['c', 'b', 'a']\n",
    "\n",
    "b\n",
    "b.sort()\n",
    "b"
   ]
  },
  {
   "cell_type": "code",
   "execution_count": 15,
   "metadata": {
    "collapsed": false
   },
   "outputs": [
    {
     "ename": "TypeError",
     "evalue": "unhashable type: 'list'",
     "output_type": "error",
     "traceback": [
      "\u001b[1;31m---------------------------------------------------------------------------\u001b[0m",
      "\u001b[1;31mTypeError\u001b[0m                                 Traceback (most recent call last)",
      "\u001b[1;32m<ipython-input-15-c0ac87b23c90>\u001b[0m in \u001b[0;36m<module>\u001b[1;34m()\u001b[0m\n\u001b[0;32m      5\u001b[0m \u001b[0ma\u001b[0m\u001b[1;33m\u001b[0m\u001b[0m\n\u001b[0;32m      6\u001b[0m \u001b[0ma\u001b[0m \u001b[1;33m=\u001b[0m \u001b[1;33m(\u001b[0m\u001b[1;36m1\u001b[0m\u001b[1;33m,\u001b[0m \u001b[1;33m[\u001b[0m\u001b[1;36m2\u001b[0m\u001b[1;33m,\u001b[0m \u001b[1;36m3\u001b[0m\u001b[1;33m]\u001b[0m\u001b[1;33m)\u001b[0m\u001b[1;33m\u001b[0m\u001b[0m\n\u001b[1;32m----> 7\u001b[1;33m \u001b[0mb\u001b[0m \u001b[1;33m=\u001b[0m \u001b[0mset\u001b[0m\u001b[1;33m(\u001b[0m\u001b[0ma\u001b[0m\u001b[1;33m)\u001b[0m\u001b[1;33m\u001b[0m\u001b[0m\n\u001b[0m\u001b[0;32m      8\u001b[0m \u001b[0mb\u001b[0m\u001b[1;33m\u001b[0m\u001b[0m\n",
      "\u001b[1;31mTypeError\u001b[0m: unhashable type: 'list'"
     ]
    }
   ],
   "source": [
    "# 可变对象与不可变对象练习\n",
    "a = (1, 2, 3,3)\n",
    "b = set(a)\n",
    "b\n",
    "a\n",
    "a = (1, [2, 3])\n",
    "b = set(a)\n",
    "b\n"
   ]
  },
  {
   "cell_type": "code",
   "execution_count": 17,
   "metadata": {
    "collapsed": false
   },
   "outputs": [
    {
     "data": {
      "text/plain": [
       "'0xff'"
      ]
     },
     "execution_count": 17,
     "metadata": {},
     "output_type": "execute_result"
    }
   ],
   "source": [
    "# 内减函数的使用\n",
    "n1 = 255\n",
    "n2 = hex(n1)\n",
    "n2\n",
    "# isinstance() 感觉是编写程序时一个重要的函数，进行参数检查\n",
    "#添加了参数检查后，如果传入错误的参数类型，函数就可以抛出一个错误：\n",
    "def my_abs(x):\n",
    "    if not isinstance(x, (int, float)):\n",
    "        raise TypeError('bad operand type')\n",
    "    if x >= 0:\n",
    "        return x\n",
    "    else:\n",
    "        return -x"
   ]
  },
  {
   "cell_type": "code",
   "execution_count": null,
   "metadata": {
    "collapsed": true
   },
   "outputs": [],
   "source": [
    "# 函数\n",
    "# 请注意，函数体内部的语句在执行时，一旦执行到return时，函数就执行完毕，并将结果返回。因此，函数内部通过条件判断和循环可以实现非常复杂的逻辑。\n",
    "#如果没有return语句，函数执行完毕后也会返回结果，只是结果为None。\n",
    "# 空函数的作用\n",
    "# pass语句什么都不做，那有什么用？实际上pass可以用来作为占位符，比如现在还没想好怎么写函数的代码，就可以先放一个pass，让代码能运行起来。\n"
   ]
  },
  {
   "cell_type": "code",
   "execution_count": 19,
   "metadata": {
    "collapsed": false
   },
   "outputs": [
    {
     "name": "stdout",
     "output_type": "stream",
     "text": [
      "(151.96152422706632, 70.0)\n",
      "(151.96152422706632, 70.0)\n"
     ]
    }
   ],
   "source": [
    "# 函数返回多个值\n",
    "# 在语法上，返回一个tuple可以省略括号，而多个变量可以同时接收一个tuple，按位置赋给对应的值，所以，Python的函数返回多值其实就是返回一个tuple，但写起来更方便。\n",
    "import math\n",
    "\n",
    "def move(x, y, step, angle=0):\n",
    "    nx = x + step * math.cos(angle)\n",
    "    ny = y - step * math.sin(angle)\n",
    "    return nx, ny\n",
    "x, y = move(100, 100, 60, math.pi / 6)\n",
    "print(x, y)\n",
    "\n",
    "r = move(100, 100, 60, math.pi / 6)\n",
    "print(r)"
   ]
  },
  {
   "cell_type": "code",
   "execution_count": 60,
   "metadata": {
    "collapsed": false
   },
   "outputs": [
    {
     "name": "stdout",
     "output_type": "stream",
     "text": [
      "(-0.1139990636706174, -4.386000936329383)\n",
      "the x is everything\n"
     ]
    }
   ],
   "source": [
    "# homework\n",
    "# 感觉这有点像是自己第一次AC啊 return直接退出函数 print 会继续执行，要注意这个区别\n",
    "import math\n",
    "def q(a,b,c):\n",
    "    def condition(x):\n",
    "        if not isinstance(x,(int,float)):\n",
    "            raise TypeError(\"bad open and type\") \n",
    "            \n",
    "    for i in [a,b,c]:\n",
    "        condition(i)\n",
    "#     if not isinstance(a,(int,float)):# 这个地方其实还可以写成一个函数\n",
    "#         raise TypeError(\"bad open and type\")\n",
    "#     if not isinstance(b,(int,float)):\n",
    "#         raise TypeError(\"bad open and type\")\n",
    "#     if not isinstance(c,(int,float)):\n",
    "#         raise TypeError(\"bad open and type\")\n",
    "        \n",
    "    m = b**2-4*a*c\n",
    "    n = math.sqrt(m)\n",
    "    \n",
    "    if a==0:\n",
    "        if b==0:\n",
    "            if c==0:\n",
    "                return \"the x is everything\"\n",
    "            else:\n",
    "                return \"there  is no x \"\n",
    "        else:\n",
    "            x = -c/float(b)\n",
    "    else:\n",
    "        if m==0:\n",
    "            x = -b/float((2*a))\n",
    "        if m > 0:\n",
    "            x = (-b+n)/float((2*a)),(-b-n)/float((2*a))\n",
    "        else:\n",
    "            print \"no answer\"\n",
    "    return x\n",
    "\n",
    "print(q(2, 9, 1)) \n",
    "print(q(0, 0, 0))\n",
    "\n",
    "# def condition(x):\n",
    "#     if not isinstance(x,(int,float)):\n",
    "#         raise TypeError(\"bad open and type\") \n",
    "# for i in [a,b,c]:\n",
    "#     condition(x)\n",
    "        "
   ]
  },
  {
   "cell_type": "code",
   "execution_count": 30,
   "metadata": {
    "collapsed": false
   },
   "outputs": [
    {
     "data": {
      "text/plain": [
       "125"
      ]
     },
     "execution_count": 30,
     "metadata": {},
     "output_type": "execute_result"
    }
   ],
   "source": [
    "# 函数参数\n",
    "# 位置参数 power(x, n)函数有两个参数：x和n，这两个参数都是位置参数，调用函数时，传入的两个值按照位置顺序依次赋给参数x和n。\n",
    "def power(x, n):\n",
    "    s = 1\n",
    "    while n > 0:\n",
    "        n = n - 1\n",
    "        s = s * x\n",
    "    return s\n",
    "power(5, 3)"
   ]
  },
  {
   "cell_type": "code",
   "execution_count": null,
   "metadata": {
    "collapsed": true
   },
   "outputs": [],
   "source": [
    "# 默认参数 所以，定义默认参数要牢记一点：默认参数必须指向不变对象！\n",
    "# 默认参数可以简化函数的调用。设置默认参数时，有几点要注意：\n",
    "\n",
    "# 一是必选参数在前，默认参数在后，否则Python的解释器会报错（思考一下为什么默认参数不能放在必选参数前面）；\n",
    "\n",
    "# 二是如何设置默认参数。当函数有多个参数时，把变化大的参数放前面，变化小的参数放后面。变化小的参数就可以作为默认参数。\n",
    "\n",
    "# 默认参数降低了函数调用的难度，而一旦需要更复杂的调用时，又可以传递更多的参数来实现。无论是简单调用还是复杂调用，函数只需要定义一个。\n",
    "\n",
    "# 也可以不按顺序提供部分默认参数。当不按顺序提供部分默认参数时，需要把参数名写上。比如调用enroll('Adam', 'M', city='Tianjin')，意思是，city参数用传进去的值，其他默认参数继续使用默认值。\n",
    "def power(x, n=2):\n",
    "    s = 1\n",
    "    while n > 0:\n",
    "        n = n - 1\n",
    "        s = s * x\n",
    "    return s\n",
    "def enroll(name, gender, age=6, city='Beijing'):\n",
    "    print('name:', name)\n",
    "    print('gender:', gender)\n",
    "    print('age:', age)\n",
    "    print('city:', city)\n"
   ]
  },
  {
   "cell_type": "code",
   "execution_count": 32,
   "metadata": {
    "collapsed": false
   },
   "outputs": [
    {
     "data": {
      "text/plain": [
       "14"
      ]
     },
     "execution_count": 32,
     "metadata": {},
     "output_type": "execute_result"
    }
   ],
   "source": [
    "# 可变参数\n",
    "# 在Python函数中，还可以定义可变参数。顾名思义，可变参数就是传入的参数个数是可变的，可以是1个、2个到任意个，还可以是0个。\n",
    "# 定义可变参数和定义一个list或tuple参数相比，仅仅在参数前面加了一个*号。在函数内部，参数numbers接收到的是一个tuple，因此，函数代码完全不变。但是，调用该函数时，可以传入任意个参数，包括0个参数：\n",
    "def calc(*numbers):\n",
    "    sum = 0\n",
    "    for n in numbers:\n",
    "        sum = sum + n * n\n",
    "    return sum\n",
    "calc(1, 2)\n",
    "calc()\n",
    "\n",
    "# 非常有用的一个写法 *nums表示把nums这个list的所有元素作为可变参数传进去。这种写法相当有用，而且很常见\n",
    "nums = [1, 2, 3]\n",
    "calc(*nums)\n"
   ]
  },
  {
   "cell_type": "code",
   "execution_count": 36,
   "metadata": {
    "collapsed": false
   },
   "outputs": [
    {
     "name": "stdout",
     "output_type": "stream",
     "text": [
      "('name:', 'Michael', 'age:', 30, 'other:', {})\n",
      "('name:', 'Bob', 'age:', 35, 'other:', {'city': 'Beijing'})\n",
      "('name:', 'Adam', 'age:', 45, 'other:', {'gender': 'M', 'job': 'Engineer'})\n",
      "('name:', 'Jack', 'age:', 24, 'other:', {'city': 'Beijing', 'job': 'Engineer'})\n"
     ]
    }
   ],
   "source": [
    "# 关键字参数 可以扩展函数的功能\n",
    "# 可变参数允许你传入0个或任意个参数，这些可变参数在函数调用时自动组装为一个tuple。\n",
    "#而关键字参数允许你传入0个或任意个含参数名的参数，这些关键字参数在函数内部自动组装为一个dict。\n",
    "#在person函数里，我们保证能接收到name和age这两个参数，但是，如果调用者愿意提供更多的参数，我们也能收到。\n",
    "#试想你正在做一个用户注册的功能，除了用户名和年龄是必填项外，其他都是可选项，利用关键字参数来定义这个函数就能满足注册的需求。\n",
    "def person(name, age, **kw):\n",
    "    print('name:', name, 'age:', age, 'other:', kw)\n",
    "person('Michael', 30)\n",
    "person('Bob', 35, city='Beijing')\n",
    "person('Adam', 45, gender='M', job='Engineer')\n",
    "\n",
    "extra = {'city': 'Beijing', 'job': 'Engineer'}\n",
    "person('Jack', 24, **extra)"
   ]
  },
  {
   "cell_type": "code",
   "execution_count": 40,
   "metadata": {
    "collapsed": false
   },
   "outputs": [
    {
     "ename": "SyntaxError",
     "evalue": "invalid syntax (<ipython-input-40-fad8ba2f5a03>, line 7)",
     "output_type": "error",
     "traceback": [
      "\u001b[1;36m  File \u001b[1;32m\"<ipython-input-40-fad8ba2f5a03>\"\u001b[1;36m, line \u001b[1;32m7\u001b[0m\n\u001b[1;33m    def person(name, age, *, city, job):\u001b[0m\n\u001b[1;37m                           ^\u001b[0m\n\u001b[1;31mSyntaxError\u001b[0m\u001b[1;31m:\u001b[0m invalid syntax\n"
     ]
    }
   ],
   "source": [
    "# 命名关键字参数 在这里一直报语法错误。。\n",
    "# 和关键字参数**kw不同，命名关键字参数需要一个特殊分隔符*，*后面的参数被视为命名关键字参数。\n",
    "# def person(name, age,*, city, job):\n",
    "#     print(name, age, city, job)\n",
    "# person('Jack', 24, city='Beijing', job='Engineer')\n",
    "\n",
    "# def person(name, age, *, city, job):\n",
    "#     print(name, age, city, job)\n",
    "# person(\"李金旭\", 11, city = ['Neu','Swun'], job = 'China')\n",
    "\n",
    "# 如果函数定义中已经有了一个可变参数，后面跟着的命名关键字参数就不再需要一个特殊分隔符*了\n",
    "def person(name, age, *args, city, job):\n",
    "    print(name, age, args, city, job)"
   ]
  },
  {
   "cell_type": "code",
   "execution_count": 47,
   "metadata": {
    "collapsed": false
   },
   "outputs": [
    {
     "name": "stdout",
     "output_type": "stream",
     "text": [
      "a = 1 b = 2 c = 0 args = () kw = {}\n",
      "a = 1 b = 2 c = 3 args = () kw = {}\n",
      "a = 1 b = 2 c = 3 args = ('a', 'b') kw = {}\n",
      "a = 1 b = 2 c = 3 args = ('a', 'b') kw = {'x': 99}\n",
      "a = 1 b = 2 c = 0 args = () kw = {'ext': None, 'd': 99}\n"
     ]
    }
   ],
   "source": [
    "#参数组合\n",
    "\n",
    "#在Python中定义函数，可以用必选参数、默认参数、可变参数、关键字参数和命名关键字参数，这5种参数都可以组合使用。\n",
    "#但是请注意，参数定义的顺序必须是：必选参数、默认参数、可变参数、命名关键字参数和关键字参数。\n",
    "def f1(a, b, c=0, *args, **kw):\n",
    "    print 'a =',a, 'b =', b, 'c =', c, 'args =', args, 'kw =', kw\n",
    "f1(1, 2)\n",
    "f1(1, 2, c=3)\n",
    "f1(1, 2, 3, 'a', 'b')\n",
    "f1(1, 2, 3, 'a', 'b', x=99)\n",
    "f1(1, 2, d=99, ext=None)"
   ]
  },
  {
   "cell_type": "markdown",
   "metadata": {
    "collapsed": true
   },
   "source": [
    "### 函数小结\n",
    "Python的函数具有非常灵活的参数形态，既可以实现简单的调用，又可以传入非常复杂的参数。\n",
    "\n",
    "默认参数一定要用不可变对象，如果是可变对象，程序运行时会有逻辑错误！\n",
    "\n",
    "要注意定义可变参数和关键字参数的语法：\n",
    "\n",
    "*args是可变参数，args接收的是一个tuple；\n",
    "\n",
    "**kw是关键字参数，kw接收的是一个dict。\n",
    "\n",
    "以及调用函数时如何传入可变参数和关键字参数的语法：\n",
    "\n",
    "可变参数既可以直接传入：func(1, 2, 3)，又可以先组装list或tuple，再通过*args传入：func(*(1, 2, 3))；\n",
    "\n",
    "关键字参数既可以直接传入：func(a=1, b=2)，又可以先组装dict，再通过**kw传入：func(**{'a': 1, 'b': 2})。\n",
    "\n",
    "使用*args和**kw是Python的习惯写法，当然也可以用其他参数名，但最好使用习惯用法。\n",
    "\n",
    "命名的关键字参数是为了限制调用者可以传入的参数名，同时可以提供默认值。\n",
    "\n",
    "定义命名的关键字参数在没有可变参数的情况下不要忘了写分隔符*，否则定义的将是位置参数。\n"
   ]
  },
  {
   "cell_type": "code",
   "execution_count": 61,
   "metadata": {
    "collapsed": false
   },
   "outputs": [
    {
     "data": {
      "text/plain": [
       "1124000727777607680000L"
      ]
     },
     "execution_count": 61,
     "metadata": {},
     "output_type": "execute_result"
    }
   ],
   "source": [
    "# 递归函数\n",
    "# 递归函数的优点是定义简单，逻辑清晰。理论上，所有的递归函数都可以写成循环的方式，但循环的逻辑不如递归清晰。\n",
    "def fact(n):\n",
    "    if n==1:\n",
    "        return 1\n",
    "    return n * fact(n - 1)\n",
    "fact(22)\n",
    "\n",
    "# 尾递归 一个解释的非常好的链接，还没有看懂 https://segmentfault.com/a/1190000007641519\n",
    "def fact(n):\n",
    "    return fact_iter(n, 1)\n",
    "\n",
    "def fact_iter(num, product):\n",
    "    if num == 1:\n",
    "        return product\n",
    "    return fact_iter(num - 1, num * product)\n"
   ]
  },
  {
   "cell_type": "code",
   "execution_count": 65,
   "metadata": {
    "collapsed": false
   },
   "outputs": [
    {
     "name": "stdout",
     "output_type": "stream",
     "text": [
      "A-->C\n",
      "A-->B\n",
      "C-->B\n",
      "A-->C\n",
      "B-->A\n",
      "B-->C\n",
      "A-->C\n",
      "7\n"
     ]
    }
   ],
   "source": [
    "# 递归练习 汉诺塔 想不出来，看了discuss\n",
    "# def move(n,a,b,c):\n",
    "#     if n==1:\n",
    "#         return \"A-->C\"\n",
    "#     else:\n",
    "#         move(n-1,a,b,c)\n",
    "\n",
    "# 这个代码写的真是太漂亮了！\n",
    "i = 0\n",
    "def move(n,a,b,c):\n",
    "    global i\n",
    "    if n==1:\n",
    "        print a+\"-->\"+c\n",
    "        i +=1\n",
    "    else:\n",
    "        move (n-1,a,c,b)\n",
    "        move (1,a,b,c)\n",
    "        move (n-1,b,a,c)\n",
    "    \n",
    "move(3,'A','B','C')\n",
    "print i"
   ]
  },
  {
   "cell_type": "code",
   "execution_count": 68,
   "metadata": {
    "collapsed": false
   },
   "outputs": [
    {
     "data": {
      "text/plain": [
       "'ACEG'"
      ]
     },
     "execution_count": 68,
     "metadata": {},
     "output_type": "execute_result"
    }
   ],
   "source": [
    "# Python的高级特性\n",
    "\n",
    "# 1 切片 有了切片操作，很多地方循环就不再需要了。Python的切片非常灵活，一行代码就可以实现很多行循环才能完成的操作。\n",
    "# list tuple str均可以进行切片操作\n",
    "L = list(range(100))\n",
    "L[:10:2]\n",
    "(0, 1, 2, 3, 4, 5)[:3]\n",
    "'ABCDEFG'[::2]\n"
   ]
  },
  {
   "cell_type": "code",
   "execution_count": 78,
   "metadata": {
    "collapsed": false
   },
   "outputs": [
    {
     "name": "stdout",
     "output_type": "stream",
     "text": [
      "a\n",
      "c\n",
      "b\n",
      "1\n",
      "3\n",
      "2\n",
      "a 1\n",
      "c 3\n",
      "b 2\n",
      "('a', 1)\n",
      "('c', 3)\n",
      "('b', 2)\n",
      "(0, 'A')\n",
      "(1, 'B')\n",
      "(2, 'C')\n",
      "1 1\n",
      "2\n",
      "2 4\n",
      "6\n",
      "3 9\n",
      "12\n"
     ]
    }
   ],
   "source": [
    "# 迭代 如果给定一个list或tuple，我们可以通过for循环来遍历这个list或tuple，这种遍历我们称为迭代（Iteration）\n",
    "# Python的for循环抽象程度要高于Java的for循环，因为Python的for循环不仅可以用在list或tuple上，还可以作用在其他可迭代对象上\n",
    "#很多其他数据类型是没有下标的，但是，只要是可迭代对象，无论有无下标，都可以迭代\n",
    "# 所以，当我们使用for循环时，只要作用于一个可迭代对象，for循环就可以正常运行，而我们不太关心该对象究竟是list还是其他数据类型。\n",
    "d = {'a': 1, 'b': 2, 'c': 3}\n",
    "for key in d:\n",
    "    print key\n",
    "    \n",
    "for value in d.values():\n",
    "    print value\n",
    "    \n",
    "for k, v in d.items():\n",
    "    print k,v\n",
    "\n",
    "for item in d.items():\n",
    "    print item\n",
    "\n",
    "# 可迭代对象的判定\n",
    "from collections import Iterable\n",
    "isinstance('abc', Iterable)\n",
    "isinstance(123, Iterable)\n",
    "\n",
    "# 如果要对list实现类似Java那样的下标循环怎么办？\n",
    "#Python内置的enumerate函数可以把一个list变成索引-元素对，这样就可以在for循环中同时迭代索引和元素本身\n",
    "for i, value in enumerate(['A', 'B', 'C']):\n",
    "    print(i, value)\n",
    "# 同时循环两个参数    \n",
    "for x, y in [(1, 1), (2, 4), (3, 9)]:\n",
    "    print x,y\n",
    "    print x+y\n"
   ]
  },
  {
   "cell_type": "code",
   "execution_count": 85,
   "metadata": {
    "collapsed": false
   },
   "outputs": [
    {
     "name": "stdout",
     "output_type": "stream",
     "text": [
      "[1, 4, 9, 16, 25, 36, 49, 64, 81, 100]\n"
     ]
    },
    {
     "data": {
      "text/plain": [
       "['y=B', 'x=A', 'z=C']"
      ]
     },
     "execution_count": 85,
     "metadata": {},
     "output_type": "execute_result"
    }
   ],
   "source": [
    "# 列表生成式 是Python内置的非常简单却强大的可以用来创建list的生成式\n",
    "L = []\n",
    "for x in range(1, 11):\n",
    "    L.append(x * x)\n",
    "print L\n",
    "[x * x for x in range(1, 11)]\n",
    "\n",
    "# for循环后面还可以加上if判断，这样我们就可以筛选出仅偶数的平方\n",
    "[x * x for x in range(1, 11) if x % 2 == 0]\n",
    "# 双层循环\n",
    "[m + n for m in 'ABC' for n in 'XYZ']\n",
    "d = {'x': 'A', 'y': 'B', 'z': 'C' }\n",
    "[k + '=' + v for k, v in d.items()]\n"
   ]
  },
  {
   "cell_type": "code",
   "execution_count": 86,
   "metadata": {
    "collapsed": false
   },
   "outputs": [
    {
     "data": {
      "text/plain": [
       "['hello', 'world', 'apple']"
      ]
     },
     "execution_count": 86,
     "metadata": {},
     "output_type": "execute_result"
    }
   ],
   "source": [
    "# 列表表达式练习\n",
    "L1 = ['Hello', 'World', 18, 'Apple', None]\n",
    "L2 = [s.lower() for s in L1 if isinstance(s,str)]\n",
    "L2"
   ]
  },
  {
   "cell_type": "code",
   "execution_count": 153,
   "metadata": {
    "collapsed": false
   },
   "outputs": [
    {
     "name": "stdout",
     "output_type": "stream",
     "text": [
      "0\n",
      "1\n",
      "4\n",
      "9\n",
      "16\n",
      "25\n",
      "36\n",
      "49\n",
      "64\n",
      "81\n"
     ]
    },
    {
     "data": {
      "text/plain": [
       "<generator object fib at 0x0000000006209360>"
      ]
     },
     "execution_count": 153,
     "metadata": {},
     "output_type": "execute_result"
    }
   ],
   "source": [
    "# 比较重要，还需要看一遍 还可以参考http://python.jobbole.com/87613/  与http://www.cnblogs.com/linxiyue/p/3916386.html\n",
    " #生成器 通过循环打印生成器中的元素\n",
    "# 所以，如果列表元素可以按照某种算法推算出来，那我们是否可以在循环的过程中不断推算出后续的元素呢？\n",
    "# 这样就不必创建完整的list，从而节省大量的空间。在Python中，这种一边循环一边计算的机制，称为生成器：generator。\n",
    "# generator保存的是算法，每次调用next(g)，就计算出g的下一个元素的值，直到计算到最后一个元素，没有更多的元素时，抛出StopIteration的错误\n",
    "\n",
    "# 生成器创建方法一\n",
    "# 第一种方法很简单，只要把一个列表生成式的[]改成()，就创建了一个generator\n",
    "g = (x * x for x in range(10))\n",
    "g\n",
    "# 使用next逐渐打印出生成器的元素\n",
    "next(g)\n",
    "next(g)\n",
    "\n",
    "# 我们创建了一个generator后，基本上永远不会调用next()，而是通过for循环来迭代它，并且不需要关心StopIteration的错误\n",
    "g = (x * x for x in range(10))\n",
    "for n in g:\n",
    "    \n",
    "    print(n)\n",
    "\n",
    "# 生成器创建方法二 yield\n",
    "# 如果一个函数定义中包含yield关键字，那么这个函数就不再是一个普通函数，而是一个generator：\n",
    "\n",
    "# 普通函数\n",
    "# def fib(max):\n",
    "    \n",
    "#     n, a, b = 0, 0, 1\n",
    "#     while n < max:\n",
    "        \n",
    "#         print(b)\n",
    "#         a, b = b, a + b\n",
    "#         n = n + 1\n",
    "#     return \"none\"\n",
    "    \n",
    "    \n",
    "\n",
    "# 生成器函数\n",
    "# def gfib(max):\n",
    "#     n, a, b = 0, 0, 1\n",
    "#     while n < max:\n",
    "#         yield b\n",
    "#         a, b = b, a + b\n",
    "#         n = n + 1\n",
    "#     return 'done'\n",
    "# #fib(6)\n",
    "# gfib(6)\n",
    "\n",
    "# 生成器函数尽量不要用return\n",
    "def fib(max):\n",
    "    n, a, b = 0, 0, 1\n",
    "    while n < max:\n",
    "        yield b\n",
    "        a, b = b, a + b\n",
    "        n = n + 1\n",
    "    print 'done'\n",
    "# 调用 fab(6) 不会执行 fab 函数，而是返回一个 iterable 对象！    fab fab(6)相当于类和实例的关系\n",
    "f = fib(6)\n",
    "f\n",
    "#在 for 循环执行时，每次循环都会执行 fab 函数内部的代码，执行到 yield b 时，fab 函数就返回一个迭代值，\n",
    "#下次迭代时，代码从 yield b 的下一条语句继续执行，而函数的本地变量看起来和上次中断执行前是完全一样的，\n",
    "#于是函数继续执行，直到再次遇到 yield。\n",
    "for n in fib(6):\n",
    "    print n\n",
    "    \n",
    "# yield总结\n",
    "#一个带有 yield 的函数就是一个 generator，它和普通函数不同，生成一个 generator 看起来像函数调用，\n",
    "#但不会执行任何函数代码，直到对其调用 next()（在 for 循环中会自动调用 next()）才开始执行。\n",
    "#虽然执行流程仍按函数的流程执行，但每执行到一个 yield 语句就会中断，并返回一个迭代值，\n",
    "#下次执行时从 yield 的下一个语句继续执行。看起来就好像一个函数在正常执行的过程中被 yield 中断了数次，\n",
    "#每次中断都会通过 yield 返回当前的迭代值。"
   ]
  },
  {
   "cell_type": "code",
   "execution_count": 114,
   "metadata": {
    "collapsed": false
   },
   "outputs": [
    {
     "name": "stdout",
     "output_type": "stream",
     "text": [
      "[1]\n",
      "[1, 1]\n",
      "[1, 2, 1]\n",
      "[1, 3, 3, 1]\n",
      "[1, 4, 6, 4, 1]\n",
      "[1, 5, 10, 10, 5, 1]\n",
      "[1, 6, 15, 20, 15, 6, 1]\n",
      "[1, 7, 21, 35, 35, 21, 7, 1]\n",
      "[1, 8, 28, 56, 70, 56, 28, 8, 1]\n",
      "[1, 9, 36, 84, 126, 126, 84, 36, 9, 1]\n"
     ]
    }
   ],
   "source": [
    "# 生成器作业 又没想到，感觉自己好菜 要多想想啊 \n",
    "def triangles():\n",
    "    L = [1]\n",
    "    while True:\n",
    "        yield L\n",
    "        L = [L[0]] + [L[i]+L[i+1] for i in range(len(L) - 1)] + [L[0]]\n",
    "\n",
    "n = 0\n",
    "for t in triangles():\n",
    "    print(t)\n",
    "    n = n + 1\n",
    "    if n == 10:\n",
    "        break"
   ]
  },
  {
   "cell_type": "code",
   "execution_count": 123,
   "metadata": {
    "collapsed": false
   },
   "outputs": [
    {
     "name": "stdout",
     "output_type": "stream",
     "text": [
      "    1\n",
      "   1 1\n",
      "  1 2 1\n",
      " 1 3 3 1\n",
      "1 4 6 4 1\n",
      "             1             \n",
      "            1 1            \n",
      "           1 2 1           \n",
      "          1 3 3 1          \n",
      "         1 4 6 4 1         \n",
      "       1 5 10 10 5 1       \n",
      "      1 6 15 20 15 6 1     \n",
      "    1 7 21 35 35 21 7 1    \n",
      "   1 8 28 56 70 56 28 8 1  \n",
      "1 9 36 84 126 126 84 36 9 1\n",
      "[1]\n",
      "[1, 1]\n",
      "[1, 2, 1]\n",
      "[1, 3, 3, 1]\n",
      "[1, 4, 6, 4, 1]\n",
      "[1, 5, 10, 10, 5, 1]\n",
      "[1, 6, 15, 20, 15, 6, 1]\n",
      "[1, 7, 21, 35, 35, 21, 7, 1]\n",
      "[1, 8, 28, 56, 70, 56, 28, 8, 1]\n",
      "[1, 9, 36, 84, 126, 126, 84, 36, 9, 1]\n"
     ]
    }
   ],
   "source": [
    "# 打印杨辉三角 这思维能力根本不行啊\n",
    "# 方法一\n",
    "NUM = 5\n",
    "def printLine(lineList):\n",
    "    \n",
    "    lineList = [str(tmpNum) for tmpNum in lineList]\n",
    "    print(\"%s%s\" % (\" \" * (NUM - len(lineList)), \" \".join(lineList)))\n",
    " \n",
    "for i in range(NUM):\n",
    "    if i < 2:\n",
    "        yhList = [1] * (i + 1)\n",
    "    else:\n",
    "        yhList[1:-1] = [(tmpNum + yhList[j]) for j, tmpNum in enumerate(yhList[1:])]\n",
    "    printLine(yhList)\n",
    "    \n",
    "# 方法二\n",
    "def row(x):\n",
    "    return ' '.join(map(str, reduce(lambda x,y: map(sum,zip([0]+x,x+[0])),range(x),[1])))\n",
    " \n",
    "def pascal(x):\n",
    "    return '\\n'.join(row(i).center(len(row(x-1))) for i in range(x))\n",
    " \n",
    "print pascal(10)\n",
    "\n",
    "# 方法三\n",
    "def rectangle(m):\n",
    "    n, b = 0, [1]\n",
    "    while n < m:\n",
    "        yield b\n",
    "        b = [1] + [b[i] + b[i + 1] for i in range(len(b) - 1)] + [1]\n",
    "        n += 1\n",
    "\n",
    "\n",
    "for x in rectangle(10):\n",
    "    print(x)\n",
    "         \n",
    "     "
   ]
  },
  {
   "cell_type": "code",
   "execution_count": 132,
   "metadata": {
    "collapsed": false
   },
   "outputs": [
    {
     "name": "stdout",
     "output_type": "stream",
     "text": [
      "True\n",
      "True\n",
      "False\n",
      "True\n",
      "True\n",
      "('x\\xe5\\x9c\\xa8\\xe5\\x87\\xbd\\xe6\\x95\\xb0\\xe4\\xb8\\xad\\xe6\\x98\\xaf:', 4)\n",
      "('y\\xe5\\x9c\\xa8\\xe5\\x87\\xbd\\xe6\\x95\\xb0\\xe4\\xb8\\xad\\xe6\\x98\\xaf:', [1, 2, 1])\n",
      "('x\\xe5\\x9c\\xa8\\xe5\\x87\\xbd\\xe6\\x95\\xb0\\xe5\\xa4\\x96\\xe6\\x98\\xaf:', 2)\n",
      "('y\\xe5\\x9c\\xa8\\xe5\\x87\\xbd\\xe6\\x95\\xb0\\xe5\\xa4\\x96\\xe6\\x98\\xaf:', [1, 2, 1])\n"
     ]
    }
   ],
   "source": [
    "# 迭代器 可以被next()函数调用并不断返回下一个值的对象称为迭代器：Iterator\n",
    "# http://python.jobbole.com/87613/\n",
    "\n",
    "# 我们已经知道，可以直接作用于for循环的数据类型有以下几种：\n",
    "# 一类是集合数据类型，如list、tuple、dict、set、str等；\n",
    "# 一类是generator，包括生成器和带yield的generator function。\n",
    "#这些可以直接作用于for循环的对象统称为可迭代对象：Iterable。\n",
    "\n",
    "# 使用isinstance()判断一个对象是否是Iterable对象\n",
    "from collections import Iterable\n",
    "print isinstance([], Iterable)\n",
    "print isinstance((x for x in range(10)), Iterable)\n",
    "\n",
    "# 使用isinstance()判断一个对象是否是Iterator对象\n",
    "# 生成器都是Iterator对象，但list、dict、str虽然是Iterable，却不是Iterator\n",
    "# 把list、dict、str等Iterable变成Iterator可以使用iter()函数\n",
    "# 因为Python的Iterator对象表示的是一个数据流，Iterator对象可以被next()函数调用并不断返回下一个数据，\n",
    "#直到没有数据时抛出StopIteration错误。可以把这个数据流看做是一个有序序列，但我们却不能提前知道序列的长度，\n",
    "#只能不断通过next()函数实现按需计算下一个数据，所以Iterator的计算是惰性的，只有在需要返回下一个数据时它才会计算。\n",
    "from collections import Iterator\n",
    "print isinstance([], Iterator)\n",
    "print isinstance((x for x in range(10)), Iterator)\n",
    "print isinstance(iter([]), Iterator)\n",
    "\n",
    "# is 和 == 的区别\n",
    "# == 是判断他们两个变量的值是否相等\n",
    "# is 是判断两个变量是否指向同一个对象, 也可以理解是是否是同一个地址存放\n",
    "# 数值和列表存放的区别\n",
    "#数值的调用是通过在内存中划分出一个叫栈的东西, 每次使用的时候都会被存入栈中,使用完毕后就会被销毁\n",
    "# 而列表类型的对象是直接在内存中开辟一快空间, 不会在使用后被销毁. \n",
    "\n",
    "def test(x, y):\n",
    "    x = x + 2\n",
    "    y[2] = 1\n",
    "    print(\"x在函数中是:\",x)\n",
    "    print(\"y在函数中是:\",y)\n",
    "\n",
    "x = 2\n",
    "y = [1, 2, 3]\n",
    "test(x,y)\n",
    "print(\"x在函数外是:\",x)\n",
    "print(\"y在函数外是:\",y)\n",
    "\n",
    "#iter('abd')是函数，你调用一次返回一个迭代器。\n",
    "#next(iter('abc'))实际上是每次产生一个新的迭代器，然后执行next，所以你每次都看到'a'\n",
    "\n",
    "#g=iter('abc'),g是一个迭代器，你应该使用next(g)\n",
    "\n",
    "# 生成器 和迭代器\n",
    "# 生成器本质上就是迭代器，只不过在用户不可见的层面上被优化了，本意是让你写迭代器更方便\n",
    "# http://getlx.cn/2017/03/07/python_note_2/\n",
    "\n",
    "# 关于yield 的理解\n",
    "#每执行到一个 yield 语句就会中断，并返回一个迭代值，下次执行时从 yield 的下一个语句继续执行。\n",
    "#看起来就好像一个函数在正常执行的过程中被 yield 中断了数次，每次中断都会通过 yield 返回当前的迭代值。\n",
    "\n",
    "# yield 的好处是显而易见的，\n",
    "#把一个函数改写为一个 generator 就获得了迭代能力，\n",
    "#比起用类的实例保存状态来计算下一个 next() 的值，不仅代码简洁，而且执行流程异常清晰。\n",
    "# yield https://www.ibm.com/developerworks/cn/opensource/os-cn-python-yield/index.html\n"
   ]
  },
  {
   "cell_type": "code",
   "execution_count": 141,
   "metadata": {
    "collapsed": false
   },
   "outputs": [
    {
     "data": {
      "text/plain": [
       "123243"
      ]
     },
     "execution_count": 141,
     "metadata": {},
     "output_type": "execute_result"
    }
   ],
   "source": [
    "# 函数式编程 允许把函数本身作为参数传入另一个函数，还允许返回一个函数！\n",
    "\n",
    "# 高阶函数 既然变量可以指向函数，函数的参数能接收变量，那么一个函数就可以接收另一个函数作为参数，这种函数就称之为高阶函数。\n",
    "# 函数本身也可以赋值给变量，即：变量可以指向函数。\n",
    "def add(x, y, f):\n",
    "    return f(x) + f(y)\n",
    "add(-5, 6, abs)\n",
    "\n",
    "# map(func,Iterable) map将传入的函数依次作用到序列的每个元素，并把结果作为新的Iterator返回\n",
    "# reduce(func,Iterable)\n",
    "list(map(str, [1, 2, 3, 4, 5, 6, 7, 8, 9]))\n",
    "# reduce把一个函数作用在一个序列[x1, x2, x3, ...]上，这个函数必须接收两个参数，reduce把结果继续和序列的下一个元素做累积计算\n",
    "##  reduce(f, [x1, x2, x3, x4]) = f(f(f(x1, x2), x3), x4)\n",
    "from functools import reduce\n",
    "def add(x, y):\n",
    "    return x + y\n",
    "reduce(add, [1, 3, 5, 7, 9])\n",
    "\n",
    "from functools import reduce\n",
    "def fn(x, y):\n",
    "    return x * 10 + y\n",
    "\n",
    "reduce(fn, [1, 3, 5, 7, 9])\n",
    "\n",
    "# str 2 num\n",
    "from functools import reduce\n",
    "def fn(x, y):\n",
    "    return x * 10 + y\n",
    "def char2num(s):\n",
    "    return {'0': 0, '1': 1, '2': 2, '3': 3, '4': 4, '5': 5, '6': 6, '7': 7, '8': 8, '9': 9}[s]\n",
    "\n",
    "reduce(fn, map(char2num, '13579'))\n",
    "\n",
    "\n",
    "from functools import reduce\n",
    "def str2int(s):\n",
    "    def fn(x, y):\n",
    "        return x * 10 + y\n",
    "    def char2num(s):\n",
    "        return {'0': 0, '1': 1, '2': 2, '3': 3, '4': 4, '5': 5, '6': 6, '7': 7, '8': 8, '9': 9}[s]\n",
    "    return reduce(fn, map(char2num, s))\n",
    "\n",
    "str2int('1232435')\n",
    "\n",
    "# lambda版\n",
    "from functools import reduce\n",
    "\n",
    "def char2num(s):\n",
    "    return {'0': 0, '1': 1, '2': 2, '3': 3, '4': 4, '5': 5, '6': 6, '7': 7, '8': 8, '9': 9}[s]\n",
    "\n",
    "def str2int(s):\n",
    "    return reduce(lambda x, y: x * 10 + y, map(char2num, s))\n",
    "\n",
    "str2int('123243')"
   ]
  },
  {
   "cell_type": "code",
   "execution_count": 29,
   "metadata": {
    "collapsed": false
   },
   "outputs": [
    {
     "name": "stdout",
     "output_type": "stream",
     "text": [
      "['Adam', 'Lisa', 'Bart']\n",
      "[1, 4, 9, 16, 25, 36, 49, 64, 81]\n",
      "('3 * 5 * 7 * 9 =', 945)\n"
     ]
    }
   ],
   "source": [
    "# map练习 独立完成！ good job\n",
    "def normalize(name):\n",
    "    return name.title()\n",
    "\n",
    "L1 = ['adam', 'LISA', 'barT']\n",
    "L2 = map(normalize, L1)\n",
    "print(L2)\n",
    "type(L2)\n",
    "\n",
    "\n",
    "# reduce练习 参考了别人的答案\n",
    "from functools import reduce\n",
    "def prod(L):\n",
    "    return reduce(lambda x, y: x * y, L)\n",
    "print('3 * 5 * 7 * 9 =', prod([3, 5, 7, 9]))\n",
    "\n",
    "# map reduce \n"
   ]
  },
  {
   "cell_type": "code",
   "execution_count": null,
   "metadata": {
    "collapsed": false
   },
   "outputs": [],
   "source": [
    "# 不要运行这个cell\n",
    "\n",
    "# filter 内建的filter()函数用于过滤序列。\n",
    "# def is_odd(n):\n",
    "#     return n % 2 == 1\n",
    "\n",
    "# filter(is_odd, [1, 2, 4, 5, 6, 9, 10, 15])\n",
    "\n",
    "\n",
    "# def _iter_odd():\n",
    "#     n=1\n",
    "#     while True:\n",
    "#         n=n+2\n",
    "#         yield n\n",
    "    \n",
    "\n",
    "# def div_func(n):\n",
    "#     return lambda x:x%n > 0\n",
    "\n",
    "# def su():\n",
    "#     yield 2\n",
    "#     it = _iter_odd()\n",
    "#     n = next(it)\n",
    "#     while True:\n",
    "#         div_func(n)\n",
    "#         yield n\n",
    "#         it = filter(div_func(n),it)\n",
    "    \n",
    "# for n in su():\n",
    "#     if n < 100:\n",
    "#         print(n)\n",
    "#     else:\n",
    "#         break\n",
    "        \n",
    "def _odd_iter():\n",
    "    n = 1\n",
    "    while True:\n",
    "        n = n + 2\n",
    "        yield n\n",
    "\n",
    "def _not_divisible(n):\n",
    "    return lambda x: x % n > 0\n",
    "\n",
    "def primes():\n",
    "    yield 2\n",
    "    it = _odd_iter() # 初始序列\n",
    "    while True:\n",
    "        n = next(it) # 返回序列的第一个数\n",
    "        yield n\n",
    "        it = filter(_not_divisible(n), it) # 构造新序列\n",
    "        \n",
    "for n in primes():\n",
    "    if n < 10:\n",
    "        print(n)\n",
    "    else:\n",
    "        break"
   ]
  },
  {
   "cell_type": "code",
   "execution_count": 5,
   "metadata": {
    "collapsed": false
   },
   "outputs": [
    {
     "name": "stdout",
     "output_type": "stream",
     "text": [
      "None\n",
      "['c', 'b', 'a']\n"
     ]
    },
    {
     "data": {
      "text/plain": [
       "'gnirts'"
      ]
     },
     "execution_count": 5,
     "metadata": {},
     "output_type": "execute_result"
    }
   ],
   "source": [
    "# 为什么会出现这种结果？\n",
    "print ['a','b','c'].reverse()\n",
    "a = ['a','b','c']\n",
    "a.reverse()\n",
    "print a\n",
    "\n",
    "# Python将字符串逆序有个非常好的方法\n",
    "'string'[::-1]"
   ]
  },
  {
   "cell_type": "code",
   "execution_count": 6,
   "metadata": {
    "collapsed": false
   },
   "outputs": [
    {
     "name": "stdout",
     "output_type": "stream",
     "text": [
      "[1, 2, 3, 4, 5, 6, 7, 8, 9, 11, 22, 33, 44, 55, 66, 77, 88, 99, 101, 111, 121, 131, 141, 151, 161, 171, 181, 191, 202, 212, 222, 232, 242, 252, 262, 272, 282, 292, 303, 313, 323, 333, 343, 353, 363, 373, 383, 393, 404, 414, 424, 434, 444, 454, 464, 474, 484, 494, 505, 515, 525, 535, 545, 555, 565, 575, 585, 595, 606, 616, 626, 636, 646, 656, 666, 676, 686, 696, 707, 717, 727, 737, 747, 757, 767, 777, 787, 797, 808, 818, 828, 838, 848, 858, 868, 878, 888, 898, 909, 919, 929, 939, 949, 959, 969, 979, 989, 999]\n"
     ]
    }
   ],
   "source": [
    "# filter 测试\n",
    "def is_palindrome(n):\n",
    "\n",
    "    strA = str(n)   #将n转化为字符串\n",
    "    strB = strA[::-1]      #利用切片操作将字符串倒序\n",
    "    if strA == strB:\n",
    "        return True\n",
    "# 测试:\n",
    "output = filter(is_palindrome, range(1, 1000))\n",
    "print(list(output))"
   ]
  },
  {
   "cell_type": "code",
   "execution_count": 9,
   "metadata": {
    "collapsed": false
   },
   "outputs": [
    {
     "data": {
      "text/plain": [
       "['Zoo', 'Credit', 'bob', 'about']"
      ]
     },
     "execution_count": 9,
     "metadata": {},
     "output_type": "execute_result"
    }
   ],
   "source": [
    "# sorted函数 用sorted()排序的关键在于实现一个映射函数。\n",
    "# sorted()函数也是一个高阶函数，它还可以接收一个key函数来实现自定义的排序，例如按绝对值大小排序\n",
    "sorted([36, 5, -12, 9, -21], key=abs)\n",
    "sorted(['bob', 'about', 'Zoo', 'Credit'], key=str.lower)\n",
    "# 要进行反向排序，不必改动key函数，可以传入第三个参数reverse=True：\n",
    "sorted(['bob', 'about', 'Zoo', 'Credit'], key=str.lower, reverse=True)\n"
   ]
  },
  {
   "cell_type": "code",
   "execution_count": 11,
   "metadata": {
    "collapsed": false
   },
   "outputs": [
    {
     "name": "stdout",
     "output_type": "stream",
     "text": [
      "[('Bob', 75), ('Adam', 92), ('Bart', 66), ('Lisa', 88)]\n",
      "[('Adam', 92), ('Bart', 66), ('Bob', 75), ('Lisa', 88)]\n",
      "[('Adam', 92), ('Lisa', 88), ('Bob', 75), ('Bart', 66)]\n"
     ]
    }
   ],
   "source": [
    "# sorted练习\n",
    "L = [('Bob', 75), ('Adam', 92), ('Bart', 66), ('Lisa', 88)]\n",
    "def by_name(t):\n",
    "    sorted([key for key in t])\n",
    "L2 = sorted(L, key=by_name)\n",
    "print(L2)\n",
    "\n",
    "# 别人的答案\n",
    "def name(n):\n",
    "    return n[0]\n",
    "def score(n):\n",
    "    return n[1]\n",
    "L = [('Bob', 75), ('Adam', 92), ('Bart', 66), ('Lisa', 88)]\n",
    "L1 = sorted(L,key = name)\n",
    "L2 = sorted(L,key = score,reverse = True)\n",
    "print L1\n",
    "print L2"
   ]
  },
  {
   "cell_type": "markdown",
   "metadata": {},
   "source": [
    "## 返回函数\n",
    "**说明：**这个是理解后面的闭包、装饰器、property的基础，所以我又返回来重新梳理一遍。"
   ]
  },
  {
   "cell_type": "code",
   "execution_count": 2,
   "metadata": {
    "collapsed": false
   },
   "outputs": [
    {
     "name": "stdout",
     "output_type": "stream",
     "text": [
      "<function sum at 0x0000000003F02F98>\n"
     ]
    },
    {
     "data": {
      "text/plain": [
       "25"
      ]
     },
     "execution_count": 2,
     "metadata": {},
     "output_type": "execute_result"
    }
   ],
   "source": [
    "\n",
    "# （有参的闭包）如果不需要立刻求和，而是在后面的代码中，根据需要再计算怎么办？可以不返回求和的结果，而是返回求和的函数\n",
    "def lazy_sum(*args):\n",
    "    def sum():\n",
    "        ax = 0\n",
    "        for n in args:\n",
    "            ax = ax + n\n",
    "        return ax\n",
    "    return sum # sum是内部函数的名字\n",
    "f = lazy_sum(1, 3, 5, 7, 9)\n",
    "print f\n",
    "f()\n",
    "\n"
   ]
  },
  {
   "cell_type": "code",
   "execution_count": 41,
   "metadata": {
    "collapsed": false
   },
   "outputs": [
    {
     "name": "stdout",
     "output_type": "stream",
     "text": [
      "this is test1111\n",
      "<function fun1 at 0x0000000003F16908>\n",
      "<function fun11 at 0x0000000003F16AC8>\n",
      "15\n",
      "this is test22222\n",
      "<function fun1 at 0x0000000003F16AC8>\n",
      "this is test33333\n",
      "<function fun2 at 0x0000000003F16908>\n",
      "40\n"
     ]
    },
    {
     "ename": "TypeError",
     "evalue": "'int' object is not callable",
     "output_type": "error",
     "traceback": [
      "\u001b[1;31m---------------------------------------------------------------------------\u001b[0m",
      "\u001b[1;31mTypeError\u001b[0m                                 Traceback (most recent call last)",
      "\u001b[1;32m<ipython-input-41-5224d43c8b69>\u001b[0m in \u001b[0;36m<module>\u001b[1;34m()\u001b[0m\n\u001b[0;32m     30\u001b[0m \u001b[1;32mprint\u001b[0m \u001b[0mfun2\u001b[0m\u001b[1;33m\u001b[0m\u001b[0m\n\u001b[0;32m     31\u001b[0m \u001b[1;32mprint\u001b[0m \u001b[0mfun2\u001b[0m\u001b[1;33m(\u001b[0m\u001b[1;33m)\u001b[0m\u001b[1;33m\u001b[0m\u001b[0m\n\u001b[1;32m---> 32\u001b[1;33m \u001b[1;32mprint\u001b[0m \u001b[0mfun2\u001b[0m\u001b[1;33m(\u001b[0m\u001b[1;33m)\u001b[0m\u001b[1;33m(\u001b[0m\u001b[1;33m)\u001b[0m\u001b[1;33m\u001b[0m\u001b[0m\n\u001b[0m",
      "\u001b[1;31mTypeError\u001b[0m: 'int' object is not callable"
     ]
    }
   ],
   "source": [
    "# 返回函数 一定要注意函数 和函数调用的区别\n",
    "def fun1(x):\n",
    "    def fun11(y):\n",
    "        return x*y\n",
    "    return fun11\n",
    "    #return fun11(y)\n",
    "\n",
    "print 'this is test1111'\n",
    "print fun1 # 这个并没有调用函数，只是告诉你fun1在内存中的位置\n",
    "#print fun1() # 报错！\n",
    "print fun1(3) # 调用外层函数，返回内层函数fun11\n",
    "print fun1(3)(5) # 通过外层函数调用内层函数 返回15\n",
    "\n",
    "def fun1(x):\n",
    "    def fun11(y):\n",
    "        return x*y\n",
    "    #return fun11\n",
    "    return fun11() # 或者改成 return fun11(y) 均会报错 \n",
    "\n",
    "print 'this is test22222'\n",
    "print fun1\n",
    "#print fun1(3)\n",
    "\n",
    "\n",
    "def fun2(x = 8):\n",
    "    def fun22(y = 5):\n",
    "        return x*y\n",
    "    return fun22()    # fun22 相当于返回这个函数 fun22()相当于返回调用后的函数（这个调用都有默认值，所以不会报错）\n",
    "print 'this is test33333'\n",
    "print fun2\n",
    "print fun2()\n",
    "#print fun2()() 同样会报错 "
   ]
  },
  {
   "cell_type": "markdown",
   "metadata": {},
   "source": [
    "## 闭包  一个函数和它的环境变量合在一起，就构成了一个闭包(closure)。在Python中，所谓的闭包是一个包含有环境变量取值的函数对象\n",
    "在返回函数的例子中，在函数lazy_sum中又定义了函数sum，并且，内部函数sum可以引用外部函数lazy_sum的参数和局部变量（返回的函数在其定义内部引用了局部变量args），当lazy_sum返回函数sum时，相关参数和变量都保存在返回的函数中，这种称为“闭包（Closure）”的程序结构拥有极大的威力。注意到返回的函数在其定义内部引用了局部变量args，所以，当一个函数返回了一个函数后，其内部的局部变量还被新函数引用，所以，闭包用起来简单，实现起来可不容易。另一个需要注意的问题是，返回的函数并没有立刻执行，而是直到调用了f()才执行。我们来看一个例子\n",
    "\n",
    "### 闭包理解 函数对象的作用域\n",
    "```python\n",
    "def line_conf():\n",
    "    def line(x):\n",
    "        return 2*x+1\n",
    "    print(line(5))   # within the scope\n",
    "\n",
    "line_conf()\n",
    "print(line(5)) # out of the scope\n",
    "```\n",
    "\n",
    "\n",
    "[is == 区别](http://www.cnblogs.com/CheeseZH/p/5260560.html)"
   ]
  },
  {
   "cell_type": "code",
   "execution_count": 63,
   "metadata": {
    "collapsed": false
   },
   "outputs": [
    {
     "name": "stdout",
     "output_type": "stream",
     "text": [
      "<function f at 0x0000000003F16B38> <function f at 0x0000000003F16898> <function f at 0x0000000003F16358>\n",
      "9 9 9\n",
      "11\n",
      "11\n",
      "25\n",
      "(6, 25)\n"
     ]
    }
   ],
   "source": [
    "## 闭包0 无参数的闭包\n",
    "def count():\n",
    "    fs = []\n",
    "    for i in range(1, 4):\n",
    "        def f():\n",
    "             return i*i # i=1 i=2 并未执行，只执行了一个i=3  \n",
    "        fs.append(f)  # 其实fs是一个装了三个函数地址的list ，具象为[i*i,i*i,i*i] 但是在 i=1 i=2 函数只是被调用，并没有执行，在i=3函数才执行\n",
    "    return fs  \n",
    "f1, f2, f3 = count() \n",
    "print f1,f2,f3\n",
    "print f1(),f2(),f3()\n",
    "\n",
    "## 闭包1 有参数的闭包\n",
    "def line_conf():\n",
    "    def line(x):\n",
    "        return 2*x+1\n",
    "    return line       # return a function object\n",
    "\n",
    "my_line = line_conf()\n",
    "print(my_line(5)) \n",
    "\n",
    "print line_conf()(5) # 表示先调用line_conf()函数，返回line函数，然后将5传入line()函数\n",
    "\n",
    "## 闭包2 引用外部变量的闭包\n",
    "### line定义的隶属程序块中引用了高层级的变量b，但b信息存在于line的定义之外 (b的定义并不在line的隶属程序块中)。\n",
    "###我们称b为line的环境变量。事实上，line作为line_conf的返回值时，line中已经包括b的取值(尽管b并不隶属于line)。\n",
    "def line_conf():\n",
    "    b = 15\n",
    "    def line(x):\n",
    "        return 2*x+b\n",
    "    return line       # return a function object\n",
    "\n",
    "b = 5\n",
    "my_line = line_conf()\n",
    "print(my_line(5))     \n",
    "\n",
    "## 闭包3 外层函数有参数的闭包\n",
    "def line_conf(a, b):\n",
    "    def line(x):\n",
    "        return a*x + b\n",
    "    return line\n",
    "\n",
    "line1 = line_conf(1, 1)\n",
    "line2 = line_conf(4, 5)\n",
    "print(line1(5), line2(5))"
   ]
  },
  {
   "cell_type": "code",
   "execution_count": 59,
   "metadata": {
    "collapsed": false
   },
   "outputs": [
    {
     "name": "stdout",
     "output_type": "stream",
     "text": [
      "<function f at 0x0000000003F16DD8> <function f at 0x0000000003F16E48> <function f at 0x0000000003F16F28>\n",
      "9 9 9\n",
      "False\n",
      "True\n",
      "31228232\n",
      "31228232\n",
      "<type 'int'>\n",
      "[<function f at 0x0000000003F16B38>, <function f at 0x0000000003F16BA8>, <function f at 0x0000000003F16978>]\n",
      "9\n",
      "this is test 1\n",
      "[1, 4, 9]\n",
      "this is test 2\n",
      "[<function g at 0x0000000003F16BA8>, <function g at 0x0000000003F16978>, <function g at 0x0000000003F16F98>]\n",
      "<function g at 0x0000000003F16978> <function g at 0x0000000003F16F98> <function g at 0x0000000003F16CF8>\n",
      "1 4 9\n",
      "this is test 3\n",
      "[1, 4, 9]\n",
      "this is test 4\n",
      "[1, 4, 9]\n"
     ]
    }
   ],
   "source": [
    "def count():\n",
    "    fs = []\n",
    "    for i in range(1, 4):\n",
    "        def f():\n",
    "             return i*i # i=1 i=2 并未执行，只执行了一个i=3  \n",
    "        fs.append(f)  # 其实fs是一个装了三个函数地址的list ，具象为[i*i,i*i,i*i] 但是在 i=1 i=2 函数只是被调用，并没有执行，在i=3函数才执行\n",
    "    return fs        # 把这个改成f()就会执行\n",
    "\n",
    "f1, f2, f3 = count() \n",
    "print f1,f2,f3\n",
    "print f1(),f2(),f3()\n",
    "print f1 is f2  # 是false的解释 ：当我们调用count()时，每次调用都会返回一个新的函数，即使传入相同的参数\n",
    "print f1() is f2() # 这就表明，f1() f2()不仅值相等，而且id 也相同\n",
    "print id(f1())\n",
    "print id(f2())\n",
    "print type(f1()) # 为什么不是list？ 这个f1是代替def f()函数的，并不是def count()? 对，猜想完全正确\n",
    "\n",
    "print count()  # 那么如何返回fs这个list？其实已经返回了list 只是这个list中是三个函数[i*i,i*i,i*i]\n",
    "print count()[0]()\n",
    "## 原因就在于返回的函数引用了变量i，但它并非立刻执行（返回一个函数时，牢记该函数并未执行）。等到3个函数都返回时，\n",
    "## 它们所引用的变量i已经变成了3，因此最终结果为9。返回闭包时牢记的一点就是：返回函数不要引用任何循环变量\n",
    "##（否则由于闭包的特点，循环变量前的偶没有执行，当作用到最后一个循环变量时，才开始真正执行这个函数），或者后续会发生变化的变量。\n",
    "\n",
    "# test 1  感觉这个已经不是闭包了 并不是返回函数 而是返回调用后的函数\n",
    "def count():\n",
    "    fs = []\n",
    "    for i in range(1, 4):\n",
    "        def f():\n",
    "             return i*i   \n",
    "        fs.append(f())  \n",
    "    return fs \n",
    "\n",
    "print 'this is test 1'\n",
    "print count()  # 直接返回[1, 4, 9]\n",
    "\n",
    "\n",
    "## 如果一定要引用循环变量怎么办？\n",
    "##方法是再创建一个函数，用该函数的参数绑定循环变量当前的值，无论该循环变量后续如何更改，已绑定到函数参数的值不变\n",
    "# 利用有参闭包保存循环变量\n",
    "def count2():\n",
    "    def f(j): # 一个带参数的闭包？\n",
    "        def g():\n",
    "            return j*j\n",
    "        return g\n",
    "    fs = []\n",
    "    for i in range(1, 4):\n",
    "        fs.append(f(i)) # f(i)立刻被执行，因此i的当前值被传入f()\n",
    "    return fs\n",
    "\n",
    "print 'this is test 2'\n",
    "print count2()\n",
    "f1, f2, f3 = count2()\n",
    "print f1,f2,f3\n",
    "print f1(),f2(),f3()\n",
    "\n",
    "# lambda版\n",
    " \n",
    "def count_2():\n",
    "    # 返回函数的函数\n",
    "    def f(x):\n",
    "        return lambda: x*x\n",
    "    fs = []  # 获得一个元素为函数的list\n",
    "    for i in range(1,4):\n",
    "        fs.append(f(i))\n",
    "    return fs\n",
    "   \n",
    "# test 3\n",
    "def count3():\n",
    "    def f(j):  # 这只是一个函数的嵌套 不是闭包 注意区分\n",
    "        n = j * j\n",
    "        return n\n",
    "    fs = []\n",
    "    for i in range(1,4):\n",
    "        fs.append(f(i))\n",
    "    return fs   \n",
    "\n",
    "print 'this is test 3'\n",
    "print count3()\n",
    "\n",
    "\n",
    "\n",
    "\n",
    "# test 4  这是一个非严格的闭包 但返回的是调用后的函数\n",
    "def count4():\n",
    "    def f(j):\n",
    "        def g():\n",
    "            return j*j\n",
    "        return g()\n",
    "    fs = []\n",
    "    for i in range(1, 4):\n",
    "        fs.append(f(i)) # f(i)立刻被执行，因此i的当前值被传入f()\n",
    "    return fs\n",
    "print 'this is test 4'\n",
    "print count4()"
   ]
  },
  {
   "cell_type": "markdown",
   "metadata": {},
   "source": [
    "### 总结 无参数与有参数的闭包\n",
    "```python\n",
    "\n",
    "#不带参数的闭包函数f()    \n",
    "\n",
    "def count():\n",
    " fs = []\n",
    " for i in range(1, 4):\n",
    "     def f():\n",
    "          return i*i\n",
    "     fs.append(f) #注意到这里f是作为一个函数加入的\n",
    " return fs\n",
    "\n",
    "f1, f2, f3 = count()\n",
    "#如注释说明，此时fs.append(f)每次加进去的是一个函数。\n",
    "\n",
    "#带参数的f(i)\n",
    "\n",
    "def count():\n",
    " def f(j):\n",
    "     def g():\n",
    "         return j*j\n",
    "     return g\n",
    " fs = []\n",
    " for i in range(1, 4):\n",
    "     fs.append(f(i)) # f(i)立刻被执行，因此i的当前值被传入f()\n",
    " return fs\n",
    " #我的理解：此处，fs.append(f(i))传入的f(i)会首先被进行函数计算，然后f(i)的返回值，也就是函数g作为fs.append()的参数传入，所以最终传入的参数是函数g，仍是一个函数。\n",
    "\n",
    "#答主的写法\n",
    "\n",
    "def count():\n",
    " def f(j):\n",
    "     return j*j\n",
    " fs = []\n",
    " for i in range(1, 4):\n",
    "     fs.append(f(i)) #按照2的分析，此处传入的参数完全是一个数字\n",
    " return fs\n",
    "f1,f2,f3=count()\n",
    "print(f1)\n",
    "print(f2)\n",
    "print(f3)\n",
    " #如注释所分析的，按照2的分析进行展开，最终fs.append()接收到的参数是f(i)的返回值，也就是一个数字。所以答主下面的输出直接是print(f1)而不是print(f1())，表明这时f1完全是个数字。\n",
    "```\n"
   ]
  },
  {
   "cell_type": "code",
   "execution_count": 18,
   "metadata": {
    "collapsed": false
   },
   "outputs": [
    {
     "name": "stdout",
     "output_type": "stream",
     "text": [
      "11\n",
      "25\n",
      "(<cell at 0x0000000004173558: int object at 0x0000000001D380B8>,)\n",
      "15\n",
      "(6, 25)\n"
     ]
    }
   ],
   "source": [
    "## 闭包第一次的笔记\n",
    "def line_conf():\n",
    "    def line(x):\n",
    "        return 2*x+1\n",
    "    return line       # return a function object\n",
    "\n",
    "my_line = line_conf()\n",
    "print(my_line(5))  \n",
    "\n",
    "def line_conf():\n",
    "    b = 15\n",
    "    def line(x):\n",
    "        return 2*x+b\n",
    "    return line       # return a function object\n",
    "\n",
    "b = 5\n",
    "my_line = line_conf()\n",
    "print(my_line(5)) \n",
    "\n",
    "print(my_line.__closure__)\n",
    "print(my_line.__closure__[0].cell_contents)\n",
    "\n",
    "\n",
    "def line_conf(a, b):\n",
    "    def line(x):\n",
    "        return a*x + b\n",
    "    return line\n",
    "\n",
    "line1 = line_conf(1, 1) # 创建函数y=x+1\n",
    "line2 = line_conf(4, 5) # 创建函数y = 4x+5\n",
    "print(line1(5), line2(5)) # x=5\n",
    "\n",
    "# 闭包的理解\n",
    "#用途1，当闭包执行完后，仍然能够保持住当前的运行环境。\n",
    "#用途2，闭包可以根据外部作用域的局部变量来得到不同的结果，\n",
    "#这有点像一种类似配置功能的作用，我们可以修改外部的变量，闭包根据这个变量展现出不同的功能\n",
    "\n",
    "#这个例子中，函数line与环境变量a,b构成闭包。在创建闭包的时候，我们通过line_conf的参数a,b说明了这两个环境变量的取值，\n",
    "#这样，我们就确定了函数的最终形式(y = x + 1和y = 4x + 5)。我们只需要变换参数a,b，就可以获得不同的直线表达函数。\n",
    "#由此，我们可以看到，闭包也具有提高代码可复用性的作用。\n",
    "\n",
    "#如果没有闭包，我们需要每次创建直线函数的时候同时说明a,b,x。\n",
    "#这样，我们就需要更多的参数传递，也减少了代码的可移植性。利用闭包，我们实际上创建了泛函。\n",
    "#line函数定义一种广泛意义的函数。这个函数的一些方面已经确定(必须是直线)，但另一些方面(比如a和b参数待定)。\n",
    "#随后，我们根据line_conf传递来的参数，通过闭包的形式，将最终函数确定下来。"
   ]
  },
  {
   "cell_type": "code",
   "execution_count": 27,
   "metadata": {
    "collapsed": false
   },
   "outputs": [
    {
     "name": "stdout",
     "output_type": "stream",
     "text": [
      "beginman\n",
      "3\n",
      "3\n",
      "11\n",
      "101\n",
      "16\n"
     ]
    },
    {
     "data": {
      "text/plain": [
       "4"
      ]
     },
     "execution_count": 27,
     "metadata": {},
     "output_type": "execute_result"
    }
   ],
   "source": [
    "# 匿名函数\n",
    "# 关键字lambda表示匿名函数，冒号前面的x表示函数参数。后面相当于返回值\n",
    "# 匿名函数有个限制，就是只能有一个表达式，不用写return，返回值就是该表达式的结果。\n",
    "\n",
    "# 无参数的lambda表达式\n",
    "# 语法lambda [arg1[,arg2,arg3....argN]]:expression\n",
    "lambda:'beginman' \n",
    "# 保存并调用lambda表达式\n",
    "# lambda语句中，冒号前是参数，可以有多个，用逗号隔开，冒号右边的返回值。lambda语句构建的其实是一个函数对象\n",
    "bar = lambda:'beginman'\n",
    "print bar()\n",
    "\n",
    "# 有参数的lambda表达式\n",
    "def add(x,y):\n",
    "    return x+y\n",
    "print add(1,2)\n",
    "\n",
    "add2 = lambda x,y:x+y\n",
    "print add2(1,2)  \n",
    "\n",
    "def sum(x,y=10):\n",
    "    return x+y\n",
    "\n",
    "sum2 = lambda x,y=10:x+y\n",
    "print sum2(1)       #11\n",
    "print sum2(1,100)\n",
    "\n",
    "pairs = [(1, 'one'), (2, 'two'), (3, 'three'), (4, 'four')]\n",
    "pairs.sort(key=lambda pair: pair[1])# 这就是高级语言比较难理解的地方，感觉这里面也有闭包的概念\n",
    "pairs\n",
    "\n",
    "squares = []\n",
    "for x in range(5):\n",
    "    squares.append(lambda: x**2)\n",
    "print squares[2]()     \n",
    "\n",
    "squares = []\n",
    "for x in range(5):\n",
    "    squares.append(lambda n=x: n**2)\n",
    "print squares[2]()"
   ]
  },
  {
   "cell_type": "markdown",
   "metadata": {},
   "source": [
    "## 装饰器 (decorator)\n",
    "装饰器 decorator就是一个返回函数的高阶函数，装饰器可以对一个函数、方法或者类进行加工。在Python中，我们有多种方法对函数和类进行加工，比如在Python闭包中，我们见到函数对象作为某一个函数的返回结果。相对于其它方式，装饰器语法简单，代码可读性高。因此，装饰器在Python项目中有广泛的应用。decorator要接受一个函数作为参数，并返回一个函数\n",
    "**优点** Python中的变量名和对象是分离的。变量名可以指向任意一个对象。从本质上，装饰器起到的就是这样一个重新指向变量名的作用(name binding)，让同一个变量名指向一个新返回的可调用对象，从而达到修改可调用对象的目的，减少代码的重构。\n",
    "\n",
    " [讲的比较好的一个链接](http://www.cnblogs.com/vamei/archive/2013/02/16/2820212.html)\n",
    " \n"
   ]
  },
  {
   "cell_type": "code",
   "execution_count": 66,
   "metadata": {
    "collapsed": false
   },
   "outputs": [
    {
     "name": "stdout",
     "output_type": "stream",
     "text": [
      "this is version 1\n",
      "25\n",
      "-7\n",
      "this is version 2\n",
      "('intput:', 3, 4)\n",
      "25\n",
      "('input', 3, 4)\n",
      "-7\n",
      "this is version 3 for decorator\n",
      "('input', 3, 4)\n",
      "25\n",
      "('input', 3, 4)\n",
      "-7\n",
      "('^_^input', 3, 4)\n",
      "25\n",
      "('T_Tinput', 3, 4)\n",
      "-7\n"
     ]
    }
   ],
   "source": [
    "\n",
    "# 两个简单的函数\n",
    "def square_sum(a, b):\n",
    "    return a**2 + b**2\n",
    "\n",
    "# get square diff\n",
    "def square_diff(a, b):\n",
    "    return a**2 - b**2\n",
    "\n",
    "print 'this is version 1'\n",
    "print(square_sum(3, 4))\n",
    "print(square_diff(3, 4))\n",
    "\n",
    "\n",
    "# 给函数增加一个小功能\n",
    "# get square sum\n",
    "def square_sum(a, b):\n",
    "    print(\"intput:\", a, b)\n",
    "    return a**2 + b**2\n",
    "\n",
    "# get square diff\n",
    "def square_diff(a, b):\n",
    "    print(\"input\", a, b)\n",
    "    return a**2 - b**2\n",
    "\n",
    "print'this is version 2'\n",
    "print(square_sum(3, 4))\n",
    "print(square_diff(3, 4))\n",
    "\n",
    "# 无参装饰器\n",
    "## 装饰器接收一个可调用对象作为输入参数，并返回一个新的可调用对象。装饰器新建了一个可调用对象，\n",
    "##也就是上面的new_F。new_F中，我们增加了打印的功能，并通过调用F(a, b)来实现原有函数的功能。\n",
    "def decorator(F):\n",
    "    def new_F(a, b):\n",
    "        print(\"input\", a, b)\n",
    "        return F(a, b) # 将以前函数当做一个返回值返回\n",
    "    return new_F # 装饰器返回增加了新功能的函数 这个返回是返给传入的函数的\n",
    "\n",
    "# get square sum\n",
    "@decorator\n",
    "def square_sum(a, b):\n",
    "    return a**2 + b**2\n",
    "\n",
    "# get square diff\n",
    "@decorator\n",
    "def square_diff(a, b):\n",
    "    return a**2 - b**2\n",
    "print 'this is version 3 for decorator'\n",
    "print(square_sum(3, 4))\n",
    "print(square_diff(3, 4))\n",
    "\n",
    "## 定义好装饰器后，我们就可以通过@语法使用了。在函数square_sum和square_diff定义之前调用@decorator，\n",
    "## 我们实际上将square_sum或square_diff传递给decorator，并将decorator返回的新的可调用对象赋给原来的函数名(square_sum或square_diff)。\n",
    "\n",
    "\n",
    "# 有参装饰器\n",
    "## 在上面的装饰器调用中，比如@decorator，该装饰器默认它后面的函数是唯一的参数。\n",
    "## 装饰器的语法允许我们调用decorator时，提供其它参数，比如@decorator(a)。这样，就为装饰器的编写和使用提供了更大的灵活性。\n",
    "\n",
    "# a new wrapper layer\n",
    "def pre_str(pre=''):\n",
    "    # old decorator\n",
    "    def decorator(F):# 函数的入口地址？\n",
    "        def new_F(a, b):\n",
    "            print(pre + \"input\", a, b)\n",
    "            return F(a, b)\n",
    "        return new_F\n",
    "    return decorator\n",
    "\n",
    "# get square sum\n",
    "@pre_str('^_^')\n",
    "def square_sum(a, b):\n",
    "    return a**2 + b**2\n",
    "\n",
    "# get square diff\n",
    "@pre_str('T_T')\n",
    "def square_diff(a, b):\n",
    "    return a**2 - b**2\n",
    "\n",
    "print(square_sum(3, 4))\n",
    "print(square_diff(3, 4))\n"
   ]
  },
  {
   "cell_type": "markdown",
   "metadata": {},
   "source": []
  },
  {
   "cell_type": "code",
   "execution_count": 36,
   "metadata": {
    "collapsed": false
   },
   "outputs": [
    {
     "data": {
      "text/plain": [
       "109"
      ]
     },
     "execution_count": 36,
     "metadata": {},
     "output_type": "execute_result"
    }
   ],
   "source": [
    "## 偏函数\n",
    "# int函数的一个强大功能\n",
    "int('12345', base=8)# base表示将其转化为几进制\n",
    "# 如果有大量的数需要转化成8进制 怎么办？\n",
    "#定义一个函数\n",
    "def int8(x,base=8):\n",
    "    return int(x,base)\n",
    "int8('333')\n",
    "\n",
    "# 一个更便捷的方法 偏函数法\n",
    "import functools\n",
    "int88 = functools.partial(int, base=8)\n",
    "int88('3332')\n",
    "\n",
    "# 简单总结functools.partial的作用就是，把一个函数的某些参数给固定住（也就是设置默认值），返回一个新的函数，调用这个新函数会更简单。\n",
    "# 偏函数是将所要承载的函数作为partial()函数的第一个参数，原函数的各个参数依次作为partial()函数后续的参数，除非使用关键字参数\n",
    "from functools import partial\n",
    "def add2(a,b,c=2):\n",
    "    return a+b+c\n",
    "plus3 = partial(add,101)# 即将a的默认值设为101\n",
    "plus3(8) # 传入的8即为b\n",
    "\n",
    "    "
   ]
  },
  {
   "cell_type": "code",
   "execution_count": null,
   "metadata": {
    "collapsed": true
   },
   "outputs": [],
   "source": [
    "# 模块 \n",
    "# 在Python中，一个.py文件就称之为一个模块（Module）。为了避免模块名冲突，Python又引入了按目录来组织模块的方法，称为包（Package\n",
    "# 每一个包目录下面都会有一个__init__.py的文件，这个文件是必须存在的，\n",
    "# 模块的标准文档\n",
    "# 自定义模块找不到，一般都是路径的问题。\n",
    "\n",
    "import sys\n",
    "print(sys.path)\n",
    "#打印一下这个list，就会发现系统模块的路径都在这里。\n",
    "#如果想使用自定义模块：\n",
    "\n",
    "#方法.1. sys.path.append('自定义模块路径')\n",
    "#方法.2. 把自定义模块放到工作目录下，就可以直接在代码中导入了。\n",
    "#方法.3. 在python交互命令行下导入模块: 刚试了下，也是路径的问题。在自定义模块所在目录下进入交互命令行，就可以导入使用了。（我用的是 win7系统，linux 应该也是如此）\n",
    "\"\"\"#!/usr/bin/env python3\n",
    "# -*- coding: utf-8 -*-\n",
    "\n",
    "' a test module '\n",
    "\n",
    "__author__ = 'Michael Liao'\"\"\"\n",
    "\n",
    "def _private_1(name):\n",
    "    return 'Hello, %s' % name\n",
    "\n",
    "def _private_2(name):\n",
    "    return 'Hi, %s' % name\n",
    "\n",
    "def greeting(name):\n",
    "    if len(name) > 3:\n",
    "        return _private_1(name)\n",
    "    else:\n",
    "        return _private_2(name)\n",
    "    \n",
    "#我们在模块里公开greeting()函数，而把内部逻辑用private函数隐藏起来了，\n",
    "#这样，调用greeting()函数不用关心内部的private函数细节，这也是一种非常有用的代码封装和抽象的方法，即：\n",
    "#外部不需要引用的函数全部定义成private，只有外部需要引用的函数才定义为public。"
   ]
  },
  {
   "cell_type": "code",
   "execution_count": 37,
   "metadata": {
    "collapsed": false
   },
   "outputs": [
    {
     "name": "stdout",
     "output_type": "stream",
     "text": [
      "Bart Simpson: 59\n",
      "Lisa Simpson: 87\n"
     ]
    }
   ],
   "source": [
    "# 面向对象编程\n",
    "# 面向对象编程——Object Oriented Programming，简称OOP，是一种程序设计思想。OOP把对象作为程序的基本单元，\n",
    "#一个对象包含了数据和操作数据的函数。\n",
    "\n",
    "# 面相对像 面向过程直观理解\n",
    "# 面向过程\n",
    "std1 = { 'name': 'Michael', 'score': 98 }\n",
    "std2 = { 'name': 'Bob', 'score': 81 }\n",
    "def print_score(std):\n",
    "    print('%s: %s' % (std['name'], std['score']))\n",
    "\n",
    "# 面相对像 面向对象的抽象程度又比函数要高，因为一个Class既包含数据，又包含操作数据的方法。\n",
    "class Student(object):\n",
    "\n",
    "    def __init__(self, name, score):\n",
    "        self.name = name\n",
    "        self.score = score\n",
    "\n",
    "    def print_score(self):\n",
    "        print('%s: %s' % (self.name, self.score))\n",
    "\n",
    "# 给对象发消息实际上就是调用对象对应的关联函数，我们称之为对象的方法（Method）。面向对象的程序写出来就像这样\n",
    "bart = Student('Bart Simpson', 59)# 实例化一个对象\n",
    "lisa = Student('Lisa Simpson', 87)\n",
    "bart.print_score()# 对象的方法\n",
    "lisa.print_score()"
   ]
  },
  {
   "cell_type": "code",
   "execution_count": 43,
   "metadata": {
    "collapsed": false
   },
   "outputs": [
    {
     "name": "stdout",
     "output_type": "stream",
     "text": [
      "<__main__.Student object at 0x0000000004032518>\n",
      "Bart Simpson: 59\n"
     ]
    },
    {
     "ename": "AttributeError",
     "evalue": "'Student' object has no attribute 'age'",
     "output_type": "error",
     "traceback": [
      "\u001b[1;31m---------------------------------------------------------------------------\u001b[0m",
      "\u001b[1;31mAttributeError\u001b[0m                            Traceback (most recent call last)",
      "\u001b[1;32m<ipython-input-43-59521ae83d3d>\u001b[0m in \u001b[0;36m<module>\u001b[1;34m()\u001b[0m\n\u001b[0;32m     49\u001b[0m \u001b[0mbart\u001b[0m\u001b[1;33m.\u001b[0m\u001b[0mage\u001b[0m \u001b[1;33m=\u001b[0m \u001b[1;36m8\u001b[0m\u001b[1;33m\u001b[0m\u001b[0m\n\u001b[0;32m     50\u001b[0m \u001b[0mbart\u001b[0m\u001b[1;33m.\u001b[0m\u001b[0mage\u001b[0m\u001b[1;33m\u001b[0m\u001b[0m\n\u001b[1;32m---> 51\u001b[1;33m \u001b[0mlisa\u001b[0m\u001b[1;33m.\u001b[0m\u001b[0mage\u001b[0m\u001b[1;33m\u001b[0m\u001b[0m\n\u001b[0m",
      "\u001b[1;31mAttributeError\u001b[0m: 'Student' object has no attribute 'age'"
     ]
    }
   ],
   "source": [
    "# 类和实例\n",
    "# 必须牢记类是抽象的模板，比如Student类，而实例是根据类创建出来的一个个具体的“对象”，\n",
    "#每个对象都拥有相同的方法，但各自的数据可能不同。\n",
    "\n",
    "class Student(object):\n",
    "    pass\n",
    "# class后面紧接着是类名，即Student，类名通常是大写开头的单词，紧接着是(object)，表示该类是从哪个类继承下来的，\n",
    "#继承的概念我们后面再讲，通常，如果没有合适的继承类，就使用object类，这是所有类最终都会继承的类\n",
    "\n",
    "#定义好了Student类，就可以根据Student类创建出Student的实例，创建实例是通过类名+()实现的：\n",
    "bart = Student()\n",
    "print bart\n",
    "Student\n",
    "#可以看到，变量bart指向的就是一个Student的实例，后面的0x10a67a590是内存地址，每个object的地址都不一样，而Student本身则是一个类。\n",
    "\n",
    "# 可以自由地给一个实例变量绑定属性，比如，给实例bart绑定一个name属性：\n",
    "bart.name = 'Bart Simpson'\n",
    "bart.name\n",
    "\n",
    "## 为什么类中一般都会有__init__? http://www.cnblogs.com/linuxcat/archive/2011/10/22/2220997.html\n",
    "# 由于类可以起到模板的作用，因此，可以在创建实例的时候，把一些我们认为必须绑定的属性强制填写进去。\n",
    "#通过定义一个特殊的__init__方法，在创建实例的时候，就把name，score等属性绑上去：\n",
    "## 注意到__init__方法的第一个参数永远是self，表示创建的实例本身，因此，在__init__方法内部，就可以把各种属性绑定到self，因为self就指向创建的实例本身。\n",
    "##有了__init__方法，在创建实例的时候，就不能传入空的参数了，必须传入与__init__方法匹配的参数，但self不需要传，Python解释器自己会把实例变量传进去：\n",
    "\n",
    "class Student(object):\n",
    "    def __init__(self, name, score):\n",
    "        self.name = name\n",
    "        self.score = score\n",
    "    def print_score(self):\n",
    "        print('%s: %s' % (self.name, self.score))\n",
    "# self就指向创建的实例本身。在__init__方法内部，就可以把各种属性绑定到self\n",
    "# 有了__init__方法，在创建实例的时候，就不能传入空的参数了，必须传入与__init__方法匹配的参数，\n",
    "# 但self不需要传，Python解释器自己会把实例变量传进去\n",
    "bart = Student('Bart Simpson', 59)\n",
    "bart.name\n",
    "bart.score\n",
    "\n",
    "# 类中的函数和普通函数的区别\n",
    "# 和普通的函数相比，在类中定义的函数只有一点不同，就是第一个参数永远是实例变量self，并且，调用时，不用传递该参数。\n",
    "#除此之外，类的方法和普通函数没有什么区别，所以，你仍然可以用默认参数、可变参数、关键字参数和命名关键字参数。\n",
    "\n",
    "# 数据封装\n",
    "# 面向对象编程的一个重要特点就是数据封装。在上面的Student类中，每个实例就拥有各自的name和score这些数据。我们可以通过函数来访问这些数据\n",
    "bart.print_score()\n",
    "\n",
    "#和静态语言不同，Python允许对实例变量绑定任何数据，也就是说，对于两个实例变量，\n",
    "#虽然它们都是同一个类的不同实例，但拥有的变量名称都可能不同：\n",
    "\n",
    "\n",
    "# 小结\n",
    "# 类是创建实例的模板，而实例则是一个一个具体的对象，各个实例拥有的数据都互相独立，互不影响；\n",
    "\n",
    "# 方法就是与实例绑定的函数，和普通函数不同，方法可以直接访问实例的数据；\n",
    "\n",
    "# 通过在实例上调用方法，我们就直接操作了对象内部的数据，但无需知道方法内部的实现细节。\n",
    "\n",
    "bart = Student('Bart Simpson', 59)\n",
    "lisa = Student('Lisa Simpson', 87)\n",
    "bart.age = 8\n",
    "bart.age\n",
    "lisa.age\n"
   ]
  },
  {
   "cell_type": "code",
   "execution_count": 53,
   "metadata": {
    "collapsed": false
   },
   "outputs": [
    {
     "data": {
      "text/plain": [
       "'Bart Simpson'"
      ]
     },
     "execution_count": 53,
     "metadata": {},
     "output_type": "execute_result"
    }
   ],
   "source": [
    "# 访问限制\n",
    "class Student(object):\n",
    "    def __init__(self, name, score):\n",
    "        self.name = name\n",
    "        self.score = score\n",
    "    def print_score(self):\n",
    "        print('%s: %s' % (self.name, self.score))\n",
    "\n",
    "bart = Student('Bart Simpson', 98)\n",
    "bart.score\n",
    "bart.score = 56 # 这个决不能随便让外人改啊\n",
    "bart.score\n",
    "\n",
    "# 如果要让内部属性不被外部访问，可以把属性的名称前加上两个下划线__，\n",
    "#在Python中，实例的变量名如果以__开头，就变成了一个私有变量（private），\n",
    "#只有内部可以访问，外部不能访问，所以，我们把Student类改一改\n",
    "# 这样就确保了外部代码不能随意修改对象内部的状态，这样通过访问限制的保护，代码更加健壮。\n",
    "class Student(object):\n",
    "\n",
    "    def __init__(self, name, score):\n",
    "        self.__name = name # 属性的名称前加上了双下划线\n",
    "        self.__score = score\n",
    "\n",
    "    def print_score(self):\n",
    "        print('%s: %s' % (self.__name, self.__score))# 属性的名称前加上了双下划线\n",
    "        \n",
    "bart = Student('Bart Simpson', 98)\n",
    "#bart.name\n",
    "#bart.__name\n",
    "\n",
    "# 如果非要访问和修改带双下划线的的变量的？\n",
    "# 可以给Student类增加get_name和get_score这样的方法\n",
    "# 可以给Student类增加get_name和get_score这样的方法\n",
    "class Student(object):\n",
    "    def __init__(self, name, score):\n",
    "        self.__name = name # 属性的名称前加上了双下划线\n",
    "        self.__score = score\n",
    "\n",
    "    def print_score(self):\n",
    "        print('%s: %s' % (self.__name, self.__score))# 属性的名称前加上了双下划线\n",
    "\n",
    "    def get_name(self):\n",
    "        return self.__name\n",
    "\n",
    "    def get_score(self):\n",
    "        return self.__score\n",
    "    \n",
    "#     def set_score(self, score):\n",
    "#         self.__score = score\n",
    "    def set_score(self, score):\n",
    "        if 0 <= score <= 100:\n",
    "            self.__score = score\n",
    "        else:\n",
    "            raise ValueError('bad score')\n",
    "            \n",
    "# 先那种直接通过bart.score = 59也可以修改啊，为什么要定义一个方法大费周折？因为在方法中，\n",
    "# 可以对参数做检查，避免传入无效的参数\n",
    "\n",
    "# Python中特殊变量\n",
    "# 在Python中，变量名类似__xxx__的，也就是以双下划线开头，并且以双下划线结尾的，是特殊变量，\n",
    "#特殊变量是可以直接访问的，不是private变量，所以，不能用__name__、__score__这样的变量名\n",
    "# 有些时候，你会看到以一个下划线开头的实例变量名，比如_name，这样的实例变量外部是可以访问的，\n",
    "#但是，按照约定俗成的规定，当你看到这样的变量时，意思就是，“虽然我可以被访问，但是，请把我视为私有变量，不要随意访问”。\n",
    "\n",
    "# 特别有迷惑性的一个错误写法\n",
    "bart = Student('Bart Simpson', 98)\n",
    "bart.get_name()\n",
    "\n",
    "bart.__name = 'New Name'\n",
    "bart.__name = 'new name'\n",
    "bart.__name\n",
    "bart.get_name()\n",
    "# 表面上看，外部代码“成功”地设置了__name变量，\n",
    "#但实际上这个__name变量和class内部的__name变量不是一个变量！\n",
    "#内部的__name变量已经被Python解释器自动改成了_Student__name，而外部代码给bart新增了一个__name变量。"
   ]
  },
  {
   "cell_type": "code",
   "execution_count": 54,
   "metadata": {
    "collapsed": false
   },
   "outputs": [
    {
     "name": "stdout",
     "output_type": "stream",
     "text": [
      "Animal is running...\n"
     ]
    }
   ],
   "source": [
    "# 继承和多态\n",
    "##继承 最大的好处是子类获得了父类的全部功能。由于Animial实现了run()方法，因此，Dog和Cat作为它的子类，什么事也没干，就自动拥有了run()方法\n",
    "class Animal(object):\n",
    "    def run(self):\n",
    "        print('Animal is running...')\n",
    "        \n",
    "#当我们需要编写Dog和Cat类时，就可以直接从Animal类继承：\n",
    "class Dog(Animal):\n",
    "    pass\n",
    "\n",
    "class Cat(Animal):\n",
    "    pass\n",
    "\n",
    "dog = Dog()\n",
    "dog.run()\n",
    "\n",
    "# 对子类增加方法\n",
    "# 当子类和父类都存在相同的run()方法时，\n",
    "#我们说，子类的run()覆盖了父类的run()，在代码运行的时候，总是会调用子类的run()。这样，我们就获得了继承的另一个好处：多态。\n",
    "class Dog(Animal):\n",
    "\n",
    "    def run(self):# 子类方法覆盖了父类方法\n",
    "        print('Dog is running...')\n",
    "\n",
    "    def eat(self):\n",
    "        print('Eating meat...')\n",
    "        \n",
    "# 要理解什么是多态，我们首先要对数据类型再作一点说明。当我们定义一个class的时候，我们实际上就定义了一种数据类型。\n",
    "# 在继承关系中，如果一个实例的数据类型是某个子类，那它的数据类型也可以被看做是父类。但是，反过来就不行："
   ]
  },
  {
   "cell_type": "code",
   "execution_count": 65,
   "metadata": {
    "collapsed": false
   },
   "outputs": [
    {
     "name": "stdout",
     "output_type": "stream",
     "text": [
      "Animal is running...\n",
      "Animal is running...\n",
      "None\n",
      "Animal is running...\n",
      "Animal is running...\n",
      "None\n",
      "Animal is running...\n",
      "Animal is running...\n",
      "Tortoise is running slowly...\n",
      "Tortoise is running slowly...\n"
     ]
    }
   ],
   "source": [
    "# 多态好处\n",
    "class Animal(object):\n",
    "    def run(self): # 类中的一般方法\n",
    "        print('Animal is running...')\n",
    "        #return 'Animal is running...'  为什么返回的都是none\n",
    "        \n",
    "def run_twice(animal123):  # 这是依赖Animal类的函数\n",
    "    animal123.run()\n",
    "    animal123.run()\n",
    "    \n",
    "class Dog(Animal):\n",
    "    pass\n",
    "\n",
    "class Cat(Animal):\n",
    "    pass\n",
    "\n",
    "class Tortoise(Animal):\n",
    "    def run(self):\n",
    "        print('Tortoise is running slowly...')\n",
    "# 你会发现，新增一个Animal的子类，不必对run_twice()做任何修改，\n",
    "#实际上，任何依赖Animal作为参数的函数或者方法都可以不加修改地正常运行，原因就在于多态。以前的方法不用重新编写了啊 爽歪哇\n",
    "\n",
    "# 多态的好处就是，当我们需要传入Dog、Cat、Tortoise……时，我们只需要接收Animal类型就可以了，\n",
    "#因为Dog、Cat、Tortoise……都是Animal类型，然后，按照Animal类型进行操作即可。由于Animal类型有run()方法，\n",
    "#因此，传入的任意类型，只要是Animal类或者子类，就会自动调用实际类型的run()方法，这就是多态的意思： \n",
    "\n",
    "# 多态真正的威力\n",
    "#对于一个变量，我们只需要知道它是Animal类型，无需确切地知道它的子类型，就可以放心地调用run()方法，而具体调用的run()方法是作用在Animal、Dog、Cat还是Tortoise对象上，由运行时该对象的确切类型决定，这就是多态真正的威力：调用方只管调用，不管细节，而当我们新增一种Animal的子类时，只要确保run()方法编写正确，不用管原来的代码是如何调用的。这就是著名的“开闭”原则：\n",
    "\n",
    "#对扩展开放：允许新增Animal子类；\n",
    "\n",
    "#对修改封闭：不需要修改依赖Animal类型的run_twice()等函数。\n",
    "print run_twice(Animal())\n",
    "print run_twice(Dog())\n",
    "run_twice(Cat())\n",
    "run_twice(Tortoise())\n",
    "\n",
    "\n",
    "# 静态语言 vs 动态语言\n",
    "\n",
    "# 对于静态语言（例如Java）来说，如果需要传入Animal类型，则传入的对象必须是Animal类型或者它的子类，否则，将无法调用run()方法。\n",
    "# 对于Python这样的动态语言来说，则不一定需要传入Animal类型。我们只需要保证传入的对象有一个run()方法就可以了："
   ]
  },
  {
   "cell_type": "code",
   "execution_count": 86,
   "metadata": {
    "collapsed": false
   },
   "outputs": [
    {
     "name": "stdout",
     "output_type": "stream",
     "text": [
      "['__add__', '__class__', '__contains__', '__delattr__', '__doc__', '__eq__', '__format__', '__ge__', '__getattribute__', '__getitem__', '__getnewargs__', '__getslice__', '__gt__', '__hash__', '__init__', '__le__', '__len__', '__lt__', '__mod__', '__mul__', '__ne__', '__new__', '__reduce__', '__reduce_ex__', '__repr__', '__rmod__', '__rmul__', '__setattr__', '__sizeof__', '__str__', '__subclasshook__', '_formatter_field_name_split', '_formatter_parser', 'capitalize', 'center', 'count', 'decode', 'encode', 'endswith', 'expandtabs', 'find', 'format', 'index', 'isalnum', 'isalpha', 'isdigit', 'islower', 'isspace', 'istitle', 'isupper', 'join', 'ljust', 'lower', 'lstrip', 'partition', 'replace', 'rfind', 'rindex', 'rjust', 'rpartition', 'rsplit', 'rstrip', 'split', 'splitlines', 'startswith', 'strip', 'swapcase', 'title', 'translate', 'upper', 'zfill']\n",
      "True\n",
      "False\n",
      "True\n",
      "<bound method MyDog.power of <__main__.MyDog object at 0x00000000040B6DD8>>\n"
     ]
    },
    {
     "data": {
      "text/plain": [
       "81"
      ]
     },
     "execution_count": 86,
     "metadata": {},
     "output_type": "execute_result"
    }
   ],
   "source": [
    "# 获取对象信息\n",
    "\n",
    "## 使用type判断基本数据类型可以直接写int，str等，但如果要判断一个对象是否是函数怎么办？可以使用types模块中定义的常量\n",
    "import types\n",
    "def fn():\n",
    "    pass\n",
    "\n",
    "type(fn)==types.FunctionType\n",
    "type(abs)==types.BuiltinFunctionType\n",
    "type(lambda x: x)==types.LambdaType\n",
    "type((x for x in range(10)))==types.GeneratorType\n",
    "\n",
    "## 使用isinstance\n",
    "###能用type()判断的基本类型也可以用isinstance()判断：\n",
    "\n",
    "isinstance('a', str)\n",
    "isinstance(123, int)\n",
    "isinstance(b'a', bytes)\n",
    "isinstance([1, 2, 3], (list, tuple))\n",
    "d = Dog()\n",
    "isinstance(d, Dog) and isinstance(d, Animal)\n",
    "\n",
    "# 使用dir()\n",
    "\n",
    "#如果要获得一个对象的所有属性和方法，可以使用dir()函数，它返回一个包含字符串的list，\n",
    "#比如，获得一个str对象的所有属性和方法：\n",
    "print dir('ABC')\n",
    "\n",
    "# 类似__xxx__的属性和方法在Python中都是有特殊用途的，比如__len__方法返回长度。\n",
    "#在Python中，如果你调用len()函数试图获取一个对象的长度，实际上，在len()函数内部，\n",
    "#它自动去调用该对象的__len__()方法，所以，下面的代码是等价的：\n",
    "\n",
    "len('ABC')\n",
    "'ABC'.__len__()\n",
    "3\n",
    "#我们自己写的类，如果也想用len(myObj)的话，就自己写一个__len__()方法：\n",
    "\n",
    "class MyDog(object):\n",
    "    def __len__(self):\n",
    "        return 100\n",
    "    def __init__(self):\n",
    "        self.x = 9\n",
    "    def power(self):\n",
    "        return self.x * self.x\n",
    "dog = MyDog()\n",
    "len(dog)\n",
    "\n",
    "# 仅仅把属性和方法列出来是不够的，配合getattr()、setattr()以及hasattr()，我们可以直接操作一个对象的状态：\n",
    "\n",
    "obj = MyDog()\n",
    "print hasattr(obj, 'x') # 有属性'x'吗？\n",
    "print hasattr(obj, 'y') \n",
    "setattr(obj, 'y', 19) # 设置一个属性'y'\n",
    "print hasattr(obj, 'y') \n",
    "getattr(obj, 'y') # 获取属性'y'\n",
    "\n",
    "# 可以传入一个default参数，如果属性不存在，就返回默认值：\n",
    "getattr(obj, 'z', 404) # 获取属性'z'，如果不存在，返回默认值404\n",
    "\n",
    "hasattr(obj, 'power') # 有属性'power'吗？\n",
    "getattr(obj, 'power') # 获取属性'power'\n",
    "fn = getattr(obj, 'power') # 获取属性'power'并赋值到变量fn\n",
    "print fn\n",
    "fn()# 调用fn()与调用obj.power()是一样的\n"
   ]
  },
  {
   "cell_type": "markdown",
   "metadata": {},
   "source": [
    "## 类属性和实例属性\n",
    "+ **类属性**直接在class中定义\n",
    "```python\n",
    "class Student(object):\n",
    "    name = 'Student'\n",
    "```\n",
    "\n",
    "+ **实例属性**  给实例绑定属性的方法是通过实例变量，或者通过self变量\n",
    "\n",
    "```python\n",
    "#方法一\n",
    "class Student(object):\n",
    "    def __init__(self, name):\n",
    "        self.name = name\n",
    "\n",
    "s = Student('Bob')\n",
    "#方法二 直接通过实例变量\n",
    "s.score = 90 \n",
    "```\n"
   ]
  },
  {
   "cell_type": "code",
   "execution_count": null,
   "metadata": {
    "collapsed": true
   },
   "outputs": [],
   "source": [
    ">>> class Student(object):\n",
    "...     name = 'Student'\n",
    "...\n",
    ">>> s = Student() # 创建实例s\n",
    ">>> print(s.name) # 打印name属性，因为实例并没有name属性，所以会继续查找class的name属性\n",
    "Student\n",
    ">>> print(Student.name) # 打印类的name属性\n",
    "Student\n",
    ">>> s.name = 'Michael' # 给实例绑定name属性\n",
    ">>> print(s.name) # 由于实例属性优先级比类属性高，因此，它会屏蔽掉类的name属性\n",
    "Michael\n",
    ">>> print(Student.name) # 但是类属性并未消失，用Student.name仍然可以访问\n",
    "Student\n",
    ">>> del s.name # 如果删除实例的name属性\n",
    ">>> print(s.name) # 再次调用s.name，由于实例的name属性没有找到，类的name属性就显示出来了\n",
    "Student"
   ]
  },
  {
   "cell_type": "markdown",
   "metadata": {},
   "source": [
    "## 面向对象的高级编程\n",
    "### slots的使用 限制该class实例能添加的属性：\n",
    "#### 给实例绑定属性和方法\n",
    "给实例绑定属性和方法时，对另外一个实例是不起作用的\n",
    "\n",
    "```python\n",
    "class Student(object):\n",
    "    pass\n",
    "  \n",
    ">>> s = Student()\n",
    ">>> s.name = 'Michael' # 动态给实例绑定一个属性\n",
    ">>> print(s.name)\n",
    "Michael\n",
    "\n",
    ">>> def set_age(self, age): # 定义一个函数作为实例方法\n",
    "...     self.age = age\n",
    "...\n",
    ">>> from types import MethodType\n",
    ">>> s.set_age = MethodType(set_age, s) # 给实例绑定一个方法\n",
    ">>> s.set_age(25) # 调用实例方法\n",
    ">>> s.age # 测试结果\n",
    "25\n",
    "```\n",
    "#### 给所有实例绑定属性和方法\n",
    "```python\n",
    ">>> def set_score(self, score):\n",
    "...     self.score = score\n",
    "...\n",
    ">>> Student.set_score = set_score\n",
    ">>> s.set_score(100)\n",
    ">>> s.score\n",
    "100\n",
    ">>> s2.set_score(99)\n",
    ">>> s2.score\n",
    "99\n",
    "```\n",
    "#### 使用__slots__\n",
    "```python\n",
    "class Student(object):\n",
    "    __slots__ = ('name', 'age') # 用tuple定义允许绑定的属性名称\n",
    "    \n",
    ">>> s = Student() # 创建新的实例\n",
    ">>> s.name = 'Michael' # 绑定属性'name'\n",
    ">>> s.age = 25 # 绑定属性'age'\n",
    ">>> s.score = 99 # 绑定属性'score'\n",
    "Traceback (most recent call last):\n",
    "  File \"<stdin>\", line 1, in <module>\n",
    "AttributeError: 'Student' object has no attribute 'score'\n",
    "    \n",
    ">> class GraduateStudent(Student):\n",
    "...     pass\n",
    "...\n",
    ">>> g = GraduateStudent()\n",
    ">>> g.score = 9999\n",
    "```\n",
    "**注意** 使用__slots__要注意，__slots__定义的属性仅对当前类实例起作用，对继承的子类是不起作用的，除非在子类中也定义__slots__，这样，子类实例允许定义的属性就是自身的__slots__加上父类的__slots__。"
   ]
  },
  {
   "cell_type": "markdown",
   "metadata": {},
   "source": [
    "### @property 既能检查参数，又可以用类似属性这样简单的方式来访问类的变量\n",
    "#### 类中set和get的使用\n",
    "```python\n",
    "class Student(object):\n",
    "\n",
    "    def get_score(self):\n",
    "         return self._score\n",
    "\n",
    "    def set_score(self, value):\n",
    "        if not isinstance(value, int):\n",
    "            raise ValueError('score must be an integer!')\n",
    "        if value < 0 or value > 100:\n",
    "            raise ValueError('score must between 0 ~ 100!')\n",
    "        self._score = value\n",
    "        \n",
    ">>> s = Student()\n",
    ">>> s.set_score(60) # ok!\n",
    ">>> s.get_score()\n",
    "60\n",
    ">>> s.set_score(9999)\n",
    "Traceback (most recent call last):\n",
    "  ...\n",
    "ValueError: score must between 0 ~ 100!\n",
    "```\n",
    "#### 强大的@property  还没怎么搞明白，下次整理时还要再看一遍 虽然补了一天的基础知识 而且基础知识以前也差不多看了一下午\n",
    "[讲解property非常好的一个帖子](http://python.jobbole.com/81967/)\n",
    "\n",
    "pyton内置的装饰器，主要功能就是将一个方法变成属性调用的\n",
    "```python\n",
    "#将摄氏温度转为华氏温度的一个example\n",
    "\n",
    "##版本0 将摄氏温度转化为华氏温度\n",
    "class Celsius:\n",
    "    def __init__(self, temperature = 0):\n",
    "        self.temperature = temperature\n",
    "    def to_fahrenheit(self):\n",
    "        return (self.temperature * 1.8) + 32\n",
    "      \n",
    "##版本0 设置输入的摄氏温度的范围，这样会引起代码大范围内的重构\n",
    "class Celsius:\n",
    "    def __init__(self, temperature = 0):\n",
    "        self.set_temperature(temperature)\n",
    " \n",
    "    def to_fahrenheit(self):\n",
    "        return (self.get_temperature() * 1.8) + 32\n",
    " \n",
    "    # new update\n",
    "    def get_temperature(self):\n",
    "        return self._temperature\n",
    " \n",
    "    def set_temperature(self, value):\n",
    "        if value < -273:\n",
    "            raise ValueError(\"Temperature below -273 is not possible\")\n",
    "        self._temperature = value\n",
    "\n",
    "##版本2 使用property 让以前的代码仍然管用，不用重构代码      \n",
    "class Celsius:\n",
    "    def __init__(self, temperature = 0):# 类里面变量的定义方法\n",
    "        self.temperature = temperature\n",
    " \n",
    "    def to_fahrenheit(self):\n",
    "        return (self.temperature * 1.8) + 32\n",
    " \n",
    "    def get_temperature(self):\n",
    "        print(\"Getting value\")\n",
    "        return self._temperature\n",
    " \n",
    "    def set_temperature(self, value):\n",
    "        if value < -273:\n",
    "            raise ValueError(\"Temperature below -273 is not possible\")\n",
    "        print(\"Setting value\")\n",
    "        self._temperature = value\n",
    "     # property语法 property(fget=None, fset=None, fdel=None, doc=None)\n",
    "    temperature = property(get_temperature,set_temperature)\n",
    "\n",
    "#版本3 转化为可读性强的装饰器  \n",
    "class Celsius:\n",
    "    def __init__(self, temperature = 0):\n",
    "        self._temperature = temperature\n",
    " \n",
    "    def to_fahrenheit(self):\n",
    "        return (self.temperature * 1.8) + 32\n",
    " \n",
    "    @property\n",
    "    def temperature(self):\n",
    "        print(\"Getting value\")\n",
    "        return self._temperature\n",
    " \n",
    "    @temperature.setter\n",
    "    def temperature(self, value):\n",
    "        if value < -273:\n",
    "            raise ValueError(\"Temperature below -273 is not possible\")\n",
    "        print(\"Setting value\")\n",
    "        self._temperature = value\n",
    "        \n",
    "        \n",
    "class Student(object):\n",
    "\n",
    "    @property\n",
    "    def score(self):\n",
    "        return self._score\n",
    "\n",
    "    @score.setter\n",
    "    def score(self, value):\n",
    "        if not isinstance(value, int):\n",
    "            raise ValueError('score must be an integer!')\n",
    "        if value < 0 or value > 100:\n",
    "            raise ValueError('score must between 0 ~ 100!')\n",
    "        self._score = value\n",
    "```"
   ]
  },
  {
   "cell_type": "markdown",
   "metadata": {},
   "source": [
    "## 多重继承 通过多重继承，一个子类就可以同时获得多个父类的所有功能\n",
    "class Animal(object):\n",
    "    pass\n",
    "\n",
    "### 大类:\n",
    "class Mammal(Animal):\n",
    "    pass\n",
    "\n",
    "class Bird(Animal):\n",
    "    pass\n",
    "\n",
    "### 各种动物:\n",
    "class Dog(Mammal):\n",
    "    pass\n",
    "\n",
    "class Bat(Mammal):\n",
    "    pass\n",
    "\n",
    "class Parrot(Bird):\n",
    "    pass\n",
    "\n",
    "class Ostrich(Bird):\n",
    "    pass\n",
    "\n",
    "### 现在，我们要给动物再加上Runnable和Flyable的功能，只需要先定义好Runnable和Flyable的类：\n",
    "\n",
    "class Runnable(object):\n",
    "    def run(self):\n",
    "        print('Running...')\n",
    "\n",
    "class Flyable(object):\n",
    "    def fly(self):\n",
    "        print('Flying...')\n",
    "        \n",
    "### 对于需要Runnable功能的动物，就多继承一个Runnable，例如Dog：\n",
    "\n",
    "class Dog(Mammal, Runnable):# 这就是多重继承\n",
    "    pass\n",
    "\n",
    "### 对于需要Flyable功能的动物，就多继承一个Flyable，例如Bat：\n",
    "\n",
    "class Bat(Mammal, Flyable):\n",
    "    pass\n",
    "\n",
    "\n",
    "## Mixin设计\n",
    "通俗的讲就是同时继承多个类；目的就是给一个类增加多个功能，这样，在设计类的时候，我们优先考虑通过多重继承来组合多个MixIn的功能，而不是设计多层次的复杂的继承关系。这样一来，我们不需要复杂而庞大的继承链，只要选择组合不同的类的功能，就可以快速构造出所需的子类。"
   ]
  },
  {
   "cell_type": "markdown",
   "metadata": {},
   "source": [
    "## 说明 2017.4.19\n",
    "由于现阶段，面向对象用的比较少，定制类 枚举类 元类等章节暂时不看 。等看完整本Python 再回头或者整理笔记时，再看增强Python语言思想的理解\n"
   ]
  },
  {
   "cell_type": "markdown",
   "metadata": {},
   "source": [
    "## 错误\n",
    "+ **bug** 有的错误是程序编写有问题造成的，比如本来应该输出整数结果输出了字符串，这种错误我们通常称之为bug\n",
    "+ **输入判断** 有的错误是用户输入造成的，比如让用户输入email地址，结果得到一个空字符串，这种错误可以通过检查用户输入来做相应的处理\n",
    "+ **异常** 还有一类错误是完全无法在程序运行过程中预测的，比如写入文件的时候，磁盘满了，写不进去了，或者从网络抓取数据，网络突然断掉了。这类错误也称为异常，在程序中通常是必须处理的，否则，程序会因为各种问题终止并退出。\n",
    "\n",
    "## 调试\n",
    "跟踪程序的执行，查看变量的值是否正确，这个过程称为调试。Python的pdb可以让我们以单步方式执行代码\n",
    "\n",
    "## 测试\n",
    "，编写测试也很重要。有了良好的测试，就可以在程序修改后反复运行，确保程序输出符合我们编写的测试"
   ]
  },
  {
   "cell_type": "markdown",
   "metadata": {},
   "source": [
    "### 错误处理机制 try...except...finally...\n",
    "当我们认为某些代码可能会出错时，就可以用try来运行这段代码，如果执行出错，则后续代码不会继续执行，而是直接跳转至错误处理代码，即except语句块，执行完except后，如果有finally语句块，则执行finally语句块，至此，执行完毕。Python所有的错误都是从BaseException类派生的，常见的错误类型和继承关系看这里：\n",
    "\n",
    "https://docs.python.org/3/library/exceptions.html#exception-hierarchy\n",
    "\n",
    "\n"
   ]
  },
  {
   "cell_type": "code",
   "execution_count": 70,
   "metadata": {
    "collapsed": false
   },
   "outputs": [
    {
     "name": "stdout",
     "output_type": "stream",
     "text": [
      "try...\n",
      "result: 5\n",
      "finally...\n",
      "END\n"
     ]
    }
   ],
   "source": [
    "try:\n",
    "    print('try...')\n",
    "    r = 10 / 2\n",
    "    print 'result:', r\n",
    "except ZeroDivisionError as e:\n",
    "    print 'except:', e\n",
    "finally:\n",
    "    print 'finally...'\n",
    "print('END')"
   ]
  },
  {
   "cell_type": "code",
   "execution_count": 72,
   "metadata": {
    "collapsed": false
   },
   "outputs": [
    {
     "name": "stdout",
     "output_type": "stream",
     "text": [
      "try...\n",
      "ValueError: invalid literal for int() with base 10: 'a'\n",
      "finally...\n",
      "END\n"
     ]
    }
   ],
   "source": [
    "## 多个except\n",
    "try:\n",
    "    print('try...')\n",
    "    r = 10 / int('a')\n",
    "    print 'result:', r\n",
    "except ValueError as e:\n",
    "    print 'ValueError:', e\n",
    "except ZeroDivisionError as e:\n",
    "    print 'ZeroDivisionError:', e\n",
    "finally:\n",
    "    print('finally...')\n",
    "print('END')"
   ]
  },
  {
   "cell_type": "code",
   "execution_count": 74,
   "metadata": {
    "collapsed": false
   },
   "outputs": [
    {
     "name": "stdout",
     "output_type": "stream",
     "text": [
      "try...\n",
      "result: 5\n",
      "no error!\n",
      "finally...\n",
      "END\n"
     ]
    }
   ],
   "source": [
    "## except中的else\n",
    "try:\n",
    "    print('try...')\n",
    "    r = 10 / int('2')\n",
    "    print 'result:', r\n",
    "except ValueError as e:\n",
    "    print 'ValueError:', e\n",
    "except ZeroDivisionError as e:\n",
    "    print 'ZeroDivisionError:', e\n",
    "else:\n",
    "    print('no error!')\n",
    "finally:\n",
    "    print('finally...')\n",
    "print('END')"
   ]
  },
  {
   "cell_type": "code",
   "execution_count": 79,
   "metadata": {
    "collapsed": false
   },
   "outputs": [
    {
     "name": "stdout",
     "output_type": "stream",
     "text": [
      "('Error:', ZeroDivisionError('integer division or modulo by zero',))\n",
      "finally...\n"
     ]
    }
   ],
   "source": [
    "## try except 跨越多层调用 比如函数main()调用foo()，foo()调用bar()，结果bar()出错了，这时，只要main()捕获到了，就可以处理：\n",
    "def foo(s):\n",
    "    return 10 / int(s)\n",
    "\n",
    "def bar(s):\n",
    "    return foo(s) * 2\n",
    "\n",
    "def main():\n",
    "    try:\n",
    "        bar('0')\n",
    "    except Exception as e:  ## 感觉这个异常才是编程中常用的 因为你可能不知道具体发生什么异常 或者即使知道了 你也不知道用什么类的异常啊\n",
    "        print('Error:', e)  ## 加个括号竟然自动把ZeroDivisionError给补获出来了\n",
    "    finally:  \n",
    "        print('finally...')\n",
    "main()"
   ]
  },
  {
   "cell_type": "code",
   "execution_count": 80,
   "metadata": {
    "collapsed": false
   },
   "outputs": [
    {
     "ename": "ZeroDivisionError",
     "evalue": "integer division or modulo by zero",
     "output_type": "error",
     "traceback": [
      "\u001b[1;31m---------------------------------------------------------------------------\u001b[0m",
      "\u001b[1;31mZeroDivisionError\u001b[0m                         Traceback (most recent call last)",
      "\u001b[1;32m<ipython-input-80-89ebb83ccfc2>\u001b[0m in \u001b[0;36m<module>\u001b[1;34m()\u001b[0m\n\u001b[0;32m      8\u001b[0m     \u001b[0mbar\u001b[0m\u001b[1;33m(\u001b[0m\u001b[1;34m'0'\u001b[0m\u001b[1;33m)\u001b[0m\u001b[1;33m\u001b[0m\u001b[0m\n\u001b[0;32m      9\u001b[0m \u001b[1;33m\u001b[0m\u001b[0m\n\u001b[1;32m---> 10\u001b[1;33m \u001b[0mmain\u001b[0m\u001b[1;33m(\u001b[0m\u001b[1;33m)\u001b[0m\u001b[1;33m\u001b[0m\u001b[0m\n\u001b[0m",
      "\u001b[1;32m<ipython-input-80-89ebb83ccfc2>\u001b[0m in \u001b[0;36mmain\u001b[1;34m()\u001b[0m\n\u001b[0;32m      6\u001b[0m \u001b[1;33m\u001b[0m\u001b[0m\n\u001b[0;32m      7\u001b[0m \u001b[1;32mdef\u001b[0m \u001b[0mmain\u001b[0m\u001b[1;33m(\u001b[0m\u001b[1;33m)\u001b[0m\u001b[1;33m:\u001b[0m\u001b[1;33m\u001b[0m\u001b[0m\n\u001b[1;32m----> 8\u001b[1;33m     \u001b[0mbar\u001b[0m\u001b[1;33m(\u001b[0m\u001b[1;34m'0'\u001b[0m\u001b[1;33m)\u001b[0m\u001b[1;33m\u001b[0m\u001b[0m\n\u001b[0m\u001b[0;32m      9\u001b[0m \u001b[1;33m\u001b[0m\u001b[0m\n\u001b[0;32m     10\u001b[0m \u001b[0mmain\u001b[0m\u001b[1;33m(\u001b[0m\u001b[1;33m)\u001b[0m\u001b[1;33m\u001b[0m\u001b[0m\n",
      "\u001b[1;32m<ipython-input-80-89ebb83ccfc2>\u001b[0m in \u001b[0;36mbar\u001b[1;34m(s)\u001b[0m\n\u001b[0;32m      3\u001b[0m \u001b[1;33m\u001b[0m\u001b[0m\n\u001b[0;32m      4\u001b[0m \u001b[1;32mdef\u001b[0m \u001b[0mbar\u001b[0m\u001b[1;33m(\u001b[0m\u001b[0ms\u001b[0m\u001b[1;33m)\u001b[0m\u001b[1;33m:\u001b[0m\u001b[1;33m\u001b[0m\u001b[0m\n\u001b[1;32m----> 5\u001b[1;33m     \u001b[1;32mreturn\u001b[0m \u001b[0mfoo\u001b[0m\u001b[1;33m(\u001b[0m\u001b[0ms\u001b[0m\u001b[1;33m)\u001b[0m \u001b[1;33m*\u001b[0m \u001b[1;36m2\u001b[0m\u001b[1;33m\u001b[0m\u001b[0m\n\u001b[0m\u001b[0;32m      6\u001b[0m \u001b[1;33m\u001b[0m\u001b[0m\n\u001b[0;32m      7\u001b[0m \u001b[1;32mdef\u001b[0m \u001b[0mmain\u001b[0m\u001b[1;33m(\u001b[0m\u001b[1;33m)\u001b[0m\u001b[1;33m:\u001b[0m\u001b[1;33m\u001b[0m\u001b[0m\n",
      "\u001b[1;32m<ipython-input-80-89ebb83ccfc2>\u001b[0m in \u001b[0;36mfoo\u001b[1;34m(s)\u001b[0m\n\u001b[0;32m      1\u001b[0m \u001b[1;32mdef\u001b[0m \u001b[0mfoo\u001b[0m\u001b[1;33m(\u001b[0m\u001b[0ms\u001b[0m\u001b[1;33m)\u001b[0m\u001b[1;33m:\u001b[0m\u001b[1;33m\u001b[0m\u001b[0m\n\u001b[1;32m----> 2\u001b[1;33m     \u001b[1;32mreturn\u001b[0m \u001b[1;36m10\u001b[0m \u001b[1;33m/\u001b[0m \u001b[0mint\u001b[0m\u001b[1;33m(\u001b[0m\u001b[0ms\u001b[0m\u001b[1;33m)\u001b[0m\u001b[1;33m\u001b[0m\u001b[0m\n\u001b[0m\u001b[0;32m      3\u001b[0m \u001b[1;33m\u001b[0m\u001b[0m\n\u001b[0;32m      4\u001b[0m \u001b[1;32mdef\u001b[0m \u001b[0mbar\u001b[0m\u001b[1;33m(\u001b[0m\u001b[0ms\u001b[0m\u001b[1;33m)\u001b[0m\u001b[1;33m:\u001b[0m\u001b[1;33m\u001b[0m\u001b[0m\n\u001b[0;32m      5\u001b[0m     \u001b[1;32mreturn\u001b[0m \u001b[0mfoo\u001b[0m\u001b[1;33m(\u001b[0m\u001b[0ms\u001b[0m\u001b[1;33m)\u001b[0m \u001b[1;33m*\u001b[0m \u001b[1;36m2\u001b[0m\u001b[1;33m\u001b[0m\u001b[0m\n",
      "\u001b[1;31mZeroDivisionError\u001b[0m: integer division or modulo by zero"
     ]
    }
   ],
   "source": [
    "## 学会看错误堆栈！ 跟上一个cell对比 看看补获错误和不补获错误的对比\n",
    "def foo(s):\n",
    "    return 10 / int(s)\n",
    "\n",
    "def bar(s):\n",
    "    return foo(s) * 2\n",
    "\n",
    "def main():\n",
    "    bar('0')\n",
    "\n",
    "main()"
   ]
  },
  {
   "cell_type": "markdown",
   "metadata": {},
   "source": [
    "### 记录错误\n",
    "同样是出错，但程序打印完错误信息后会继续执行，并正常退出"
   ]
  },
  {
   "cell_type": "code",
   "execution_count": 81,
   "metadata": {
    "collapsed": false
   },
   "outputs": [
    {
     "name": "stderr",
     "output_type": "stream",
     "text": [
      "ERROR:root:integer division or modulo by zero\n",
      "Traceback (most recent call last):\n",
      "  File \"<ipython-input-81-374c0f1d61d0>\", line 11, in main\n",
      "    bar('0')\n",
      "  File \"<ipython-input-81-374c0f1d61d0>\", line 7, in bar\n",
      "    return foo(s) * 2\n",
      "  File \"<ipython-input-81-374c0f1d61d0>\", line 4, in foo\n",
      "    return 10 / int(s)\n",
      "ZeroDivisionError: integer division or modulo by zero\n"
     ]
    },
    {
     "name": "stdout",
     "output_type": "stream",
     "text": [
      "are you ok?\n",
      "END\n"
     ]
    }
   ],
   "source": [
    "import logging\n",
    "\n",
    "def foo(s):\n",
    "    return 10 / int(s)\n",
    "\n",
    "def bar(s):\n",
    "    return foo(s) * 2\n",
    "\n",
    "def main():\n",
    "    try:\n",
    "        bar('0')\n",
    "    except Exception as e:\n",
    "        logging.exception(e)\n",
    "    finally:\n",
    "        print 'are you ok?'\n",
    "\n",
    "main()\n",
    "print('END')\n",
    "\n",
    "# def foo(s):\n",
    "#     return 10 / int(s)\n",
    "\n",
    "# def bar(s):\n",
    "#     return foo(s) * 2\n",
    "\n",
    "# def main():\n",
    "#     try:\n",
    "#         bar('0')\n",
    "#     except Exception as e:  ## 感觉这个异常才是编程中常用的 因为你可能不知道具体发生什么异常 或者即使知道了 你也不知道用什么类的异常啊\n",
    "#         print('Error:', e)  ## 加个括号竟然自动把ZeroDivisionError给补获出来了\n",
    "#     finally:  \n",
    "#         print('finally...')\n",
    "# main()"
   ]
  },
  {
   "cell_type": "markdown",
   "metadata": {},
   "source": [
    "#### 如何理解抛出异常？\n",
    "其实这种错误处理方式不但没病，而且相当常见。捕获错误目的只是记录一下，便于后续追踪。但是，由于当前函数不知道应该怎么处理该错误，所以，最恰当的方式是继续往上抛，让顶层调用者去处理。好比一个员工处理不了一个问题时，就把问题抛给他的老板，如果他的老板也处理不了，就一直往上抛，最终会抛给CEO去处理。\n",
    "\n",
    "raise语句如果不带参数，就会把当前错误原样抛出\n"
   ]
  },
  {
   "cell_type": "code",
   "execution_count": 102,
   "metadata": {
    "collapsed": false
   },
   "outputs": [
    {
     "name": "stdout",
     "output_type": "stream",
     "text": [
      "invalid value: 0\n",
      "ValueError!\n"
     ]
    },
    {
     "ename": "Exception",
     "evalue": "invalid value: 0",
     "output_type": "error",
     "traceback": [
      "\u001b[1;31m---------------------------------------------------------------------------\u001b[0m",
      "\u001b[1;31mException\u001b[0m                                 Traceback (most recent call last)",
      "\u001b[1;32m<ipython-input-102-3574868b37a9>\u001b[0m in \u001b[0;36m<module>\u001b[1;34m()\u001b[0m\n\u001b[0;32m     13\u001b[0m         \u001b[1;32mraise\u001b[0m\u001b[1;33m\u001b[0m\u001b[0m\n\u001b[0;32m     14\u001b[0m \u001b[1;33m\u001b[0m\u001b[0m\n\u001b[1;32m---> 15\u001b[1;33m \u001b[0mbar\u001b[0m\u001b[1;33m(\u001b[0m\u001b[1;33m)\u001b[0m\u001b[1;33m\u001b[0m\u001b[0m\n\u001b[0m\u001b[0;32m     16\u001b[0m \u001b[1;31m#print (foo(0))\u001b[0m\u001b[1;33m\u001b[0m\u001b[1;33m\u001b[0m\u001b[0m\n",
      "\u001b[1;32m<ipython-input-102-3574868b37a9>\u001b[0m in \u001b[0;36mbar\u001b[1;34m()\u001b[0m\n\u001b[0;32m      7\u001b[0m \u001b[1;32mdef\u001b[0m \u001b[0mbar\u001b[0m\u001b[1;33m(\u001b[0m\u001b[1;33m)\u001b[0m\u001b[1;33m:\u001b[0m\u001b[1;33m\u001b[0m\u001b[0m\n\u001b[0;32m      8\u001b[0m     \u001b[1;32mtry\u001b[0m\u001b[1;33m:\u001b[0m\u001b[1;33m\u001b[0m\u001b[0m\n\u001b[1;32m----> 9\u001b[1;33m         \u001b[0mfoo\u001b[0m\u001b[1;33m(\u001b[0m\u001b[1;34m'0'\u001b[0m\u001b[1;33m)\u001b[0m\u001b[1;33m\u001b[0m\u001b[0m\n\u001b[0m\u001b[0;32m     10\u001b[0m     \u001b[1;32mexcept\u001b[0m \u001b[0mException\u001b[0m \u001b[1;32mas\u001b[0m \u001b[0me\u001b[0m\u001b[1;33m:\u001b[0m\u001b[1;33m\u001b[0m\u001b[0m\n\u001b[0;32m     11\u001b[0m         \u001b[1;32mprint\u001b[0m \u001b[0me\u001b[0m\u001b[1;33m\u001b[0m\u001b[0m\n",
      "\u001b[1;32m<ipython-input-102-3574868b37a9>\u001b[0m in \u001b[0;36mfoo\u001b[1;34m(s)\u001b[0m\n\u001b[0;32m      2\u001b[0m     \u001b[0mn\u001b[0m \u001b[1;33m=\u001b[0m \u001b[0mint\u001b[0m\u001b[1;33m(\u001b[0m\u001b[0ms\u001b[0m\u001b[1;33m)\u001b[0m\u001b[1;33m\u001b[0m\u001b[0m\n\u001b[0;32m      3\u001b[0m     \u001b[1;32mif\u001b[0m \u001b[0mn\u001b[0m\u001b[1;33m==\u001b[0m\u001b[1;36m0\u001b[0m\u001b[1;33m:\u001b[0m\u001b[1;33m\u001b[0m\u001b[0m\n\u001b[1;32m----> 4\u001b[1;33m         \u001b[1;32mraise\u001b[0m \u001b[0mException\u001b[0m\u001b[1;33m(\u001b[0m\u001b[1;34m'invalid value: %s'\u001b[0m \u001b[1;33m%\u001b[0m \u001b[0ms\u001b[0m\u001b[1;33m)\u001b[0m  \u001b[1;31m# 改成Exception试试\u001b[0m\u001b[1;33m\u001b[0m\u001b[0m\n\u001b[0m\u001b[0;32m      5\u001b[0m     \u001b[1;32mreturn\u001b[0m \u001b[1;36m10\u001b[0m \u001b[1;33m/\u001b[0m \u001b[0mn\u001b[0m\u001b[1;33m\u001b[0m\u001b[0m\n\u001b[0;32m      6\u001b[0m \u001b[1;33m\u001b[0m\u001b[0m\n",
      "\u001b[1;31mException\u001b[0m: invalid value: 0"
     ]
    }
   ],
   "source": [
    "def foo(s):\n",
    "    n = int(s)\n",
    "    if n==0:\n",
    "        raise Exception('invalid value: %s' % s)  # 改成Exception试试\n",
    "    return 10 / n\n",
    "\n",
    "def bar():\n",
    "    try:\n",
    "        foo('0')\n",
    "    except Exception as e:\n",
    "        print e\n",
    "        print('ValueError!')\n",
    "        raise\n",
    "\n",
    "bar()\n",
    "#print (foo(0))"
   ]
  },
  {
   "cell_type": "code",
   "execution_count": 95,
   "metadata": {
    "collapsed": false
   },
   "outputs": [
    {
     "name": "stdout",
     "output_type": "stream",
     "text": [
      "0\n",
      "1\n",
      "2\n",
      "3\n",
      "4\n"
     ]
    },
    {
     "ename": "StopIteration",
     "evalue": "",
     "output_type": "error",
     "traceback": [
      "\u001b[1;31m---------------------------------------------------------------------------\u001b[0m",
      "\u001b[1;31mStopIteration\u001b[0m                             Traceback (most recent call last)",
      "\u001b[1;32m<ipython-input-95-61c5903ac338>\u001b[0m in \u001b[0;36m<module>\u001b[1;34m()\u001b[0m\n\u001b[0;32m      2\u001b[0m \u001b[1;33m\u001b[0m\u001b[0m\n\u001b[0;32m      3\u001b[0m \u001b[1;32mfor\u001b[0m \u001b[0mi\u001b[0m \u001b[1;32min\u001b[0m \u001b[0mrange\u001b[0m\u001b[1;33m(\u001b[0m\u001b[1;36m100\u001b[0m\u001b[1;33m)\u001b[0m\u001b[1;33m:\u001b[0m\u001b[1;33m\u001b[0m\u001b[0m\n\u001b[1;32m----> 4\u001b[1;33m     \u001b[1;32mprint\u001b[0m \u001b[0mre\u001b[0m\u001b[1;33m.\u001b[0m\u001b[0mnext\u001b[0m\u001b[1;33m(\u001b[0m\u001b[1;33m)\u001b[0m\u001b[1;33m\u001b[0m\u001b[0m\n\u001b[0m\u001b[0;32m      5\u001b[0m \u001b[1;33m\u001b[0m\u001b[0m\n\u001b[0;32m      6\u001b[0m \u001b[1;32mprint\u001b[0m \u001b[1;34m'HaHaHaHa'\u001b[0m\u001b[1;33m\u001b[0m\u001b[0m\n",
      "\u001b[1;31mStopIteration\u001b[0m: "
     ]
    }
   ],
   "source": [
    "re = iter(range(5))\n",
    "\n",
    "for i in range(100):\n",
    "    print re.next()\n",
    "\n",
    "print 'HaHaHaHa'\n",
    "\n",
    "re = iter(range(5))\n",
    "\n",
    "try:\n",
    "    for i in range(100):\n",
    "        print re.next()\n",
    "except StopIteration:\n",
    "    print 'here is end ',i\n",
    "\n",
    "print 'HaHaHaHa'"
   ]
  },
  {
   "cell_type": "code",
   "execution_count": 98,
   "metadata": {
    "collapsed": false
   },
   "outputs": [
    {
     "name": "stdout",
     "output_type": "stream",
     "text": [
      "name 'a' is not defined\n"
     ]
    }
   ],
   "source": [
    "# 如果except后面没有任何参数，那么表示所有的exception都交给这段程序处理。\n",
    "try:\n",
    "    print(a*2)\n",
    "except TypeError:\n",
    "    print(\"TypeError\")\n",
    "except Exception as e:  # 注意有Exception和没有Exception的区别\n",
    "    print (e)\n",
    "except:\n",
    "    print(\"Not Type Error & Error noted\")"
   ]
  },
  {
   "cell_type": "code",
   "execution_count": 101,
   "metadata": {
    "collapsed": false
   },
   "outputs": [
    {
     "name": "stdout",
     "output_type": "stream",
     "text": [
      "Catch error in the main program\n"
     ]
    },
    {
     "ename": "ZeroDivisionError",
     "evalue": "integer division or modulo by zero",
     "output_type": "error",
     "traceback": [
      "\u001b[1;31m---------------------------------------------------------------------------\u001b[0m",
      "\u001b[1;31mZeroDivisionError\u001b[0m                         Traceback (most recent call last)",
      "\u001b[1;32m<ipython-input-101-14043affa1af>\u001b[0m in \u001b[0;36m<module>\u001b[1;34m()\u001b[0m\n\u001b[0;32m      6\u001b[0m \u001b[1;33m\u001b[0m\u001b[0m\n\u001b[0;32m      7\u001b[0m \u001b[1;32mtry\u001b[0m\u001b[1;33m:\u001b[0m\u001b[1;33m\u001b[0m\u001b[0m\n\u001b[1;32m----> 8\u001b[1;33m     \u001b[0mtest_func\u001b[0m\u001b[1;33m(\u001b[0m\u001b[1;33m)\u001b[0m\u001b[1;33m\u001b[0m\u001b[0m\n\u001b[0m\u001b[0;32m      9\u001b[0m \u001b[1;32mexcept\u001b[0m \u001b[0mZeroDivisionError\u001b[0m\u001b[1;33m:\u001b[0m\u001b[1;33m\u001b[0m\u001b[0m\n\u001b[0;32m     10\u001b[0m     \u001b[1;32mprint\u001b[0m\u001b[1;33m(\u001b[0m\u001b[1;34m\"Catch error in the main program\"\u001b[0m\u001b[1;33m)\u001b[0m\u001b[1;33m\u001b[0m\u001b[0m\n",
      "\u001b[1;32m<ipython-input-101-14043affa1af>\u001b[0m in \u001b[0;36mtest_func\u001b[1;34m()\u001b[0m\n\u001b[0;32m      1\u001b[0m \u001b[1;32mdef\u001b[0m \u001b[0mtest_func\u001b[0m\u001b[1;33m(\u001b[0m\u001b[1;33m)\u001b[0m\u001b[1;33m:\u001b[0m\u001b[1;33m\u001b[0m\u001b[0m\n\u001b[0;32m      2\u001b[0m     \u001b[1;32mtry\u001b[0m\u001b[1;33m:\u001b[0m\u001b[1;33m\u001b[0m\u001b[0m\n\u001b[1;32m----> 3\u001b[1;33m         \u001b[0mm\u001b[0m \u001b[1;33m=\u001b[0m \u001b[1;36m1\u001b[0m\u001b[1;33m/\u001b[0m\u001b[1;36m0\u001b[0m\u001b[1;33m\u001b[0m\u001b[0m\n\u001b[0m\u001b[0;32m      4\u001b[0m     \u001b[1;32mexcept\u001b[0m \u001b[0mNameError\u001b[0m\u001b[1;33m:\u001b[0m\u001b[1;33m\u001b[0m\u001b[0m\n\u001b[0;32m      5\u001b[0m         \u001b[1;32mprint\u001b[0m\u001b[1;33m(\u001b[0m\u001b[1;34m\"Catch NameError in the sub-function\"\u001b[0m\u001b[1;33m)\u001b[0m\u001b[1;33m\u001b[0m\u001b[0m\n",
      "\u001b[1;31mZeroDivisionError\u001b[0m: integer division or modulo by zero"
     ]
    }
   ],
   "source": [
    "def test_func():\n",
    "    try:\n",
    "        m = 1/0\n",
    "    except NameError:\n",
    "        print(\"Catch NameError in the sub-function\")\n",
    "\n",
    "try:\n",
    "    test_func()\n",
    "except ZeroDivisionError:\n",
    "    print(\"Catch error in the main program\")\n",
    "    raise # 这个抛出是不是就是程序继续执行，但是抛出异常错误给你看看，让你知道哪里出了异常 但这个的前提是你补获了异常"
   ]
  },
  {
   "cell_type": "markdown",
   "metadata": {},
   "source": [
    "###  调试\n",
    "\n",
    "#### 方法一：简单粗暴法 print语句\n",
    "#### 方法二：assert 凡是使用print的地方都可以使用assert\n",
    "#### 方法三：pdb 启动Python的调试器pdb，让程序以单步方式运行，可以随时查看运行状态。\n",
    "#### 方法四：还是IDE设置断点吧。。\n"
   ]
  },
  {
   "cell_type": "code",
   "execution_count": 104,
   "metadata": {
    "collapsed": false
   },
   "outputs": [
    {
     "ename": "AssertionError",
     "evalue": "n is zero!",
     "output_type": "error",
     "traceback": [
      "\u001b[1;31m---------------------------------------------------------------------------\u001b[0m",
      "\u001b[1;31mAssertionError\u001b[0m                            Traceback (most recent call last)",
      "\u001b[1;32m<ipython-input-104-7c8c70f24aa7>\u001b[0m in \u001b[0;36m<module>\u001b[1;34m()\u001b[0m\n\u001b[0;32m      7\u001b[0m     \u001b[0mfoo\u001b[0m\u001b[1;33m(\u001b[0m\u001b[1;34m'0'\u001b[0m\u001b[1;33m)\u001b[0m\u001b[1;33m\u001b[0m\u001b[0m\n\u001b[0;32m      8\u001b[0m \u001b[1;33m\u001b[0m\u001b[0m\n\u001b[1;32m----> 9\u001b[1;33m \u001b[0mmain\u001b[0m\u001b[1;33m(\u001b[0m\u001b[1;33m)\u001b[0m\u001b[1;33m\u001b[0m\u001b[0m\n\u001b[0m",
      "\u001b[1;32m<ipython-input-104-7c8c70f24aa7>\u001b[0m in \u001b[0;36mmain\u001b[1;34m()\u001b[0m\n\u001b[0;32m      5\u001b[0m \u001b[1;33m\u001b[0m\u001b[0m\n\u001b[0;32m      6\u001b[0m \u001b[1;32mdef\u001b[0m \u001b[0mmain\u001b[0m\u001b[1;33m(\u001b[0m\u001b[1;33m)\u001b[0m\u001b[1;33m:\u001b[0m\u001b[1;33m\u001b[0m\u001b[0m\n\u001b[1;32m----> 7\u001b[1;33m     \u001b[0mfoo\u001b[0m\u001b[1;33m(\u001b[0m\u001b[1;34m'0'\u001b[0m\u001b[1;33m)\u001b[0m\u001b[1;33m\u001b[0m\u001b[0m\n\u001b[0m\u001b[0;32m      8\u001b[0m \u001b[1;33m\u001b[0m\u001b[0m\n\u001b[0;32m      9\u001b[0m \u001b[0mmain\u001b[0m\u001b[1;33m(\u001b[0m\u001b[1;33m)\u001b[0m\u001b[1;33m\u001b[0m\u001b[0m\n",
      "\u001b[1;32m<ipython-input-104-7c8c70f24aa7>\u001b[0m in \u001b[0;36mfoo\u001b[1;34m(s)\u001b[0m\n\u001b[0;32m      1\u001b[0m \u001b[1;32mdef\u001b[0m \u001b[0mfoo\u001b[0m\u001b[1;33m(\u001b[0m\u001b[0ms\u001b[0m\u001b[1;33m)\u001b[0m\u001b[1;33m:\u001b[0m\u001b[1;33m\u001b[0m\u001b[0m\n\u001b[0;32m      2\u001b[0m     \u001b[0mn\u001b[0m \u001b[1;33m=\u001b[0m \u001b[0mint\u001b[0m\u001b[1;33m(\u001b[0m\u001b[0ms\u001b[0m\u001b[1;33m)\u001b[0m\u001b[1;33m\u001b[0m\u001b[0m\n\u001b[1;32m----> 3\u001b[1;33m     \u001b[1;32massert\u001b[0m \u001b[0mn\u001b[0m \u001b[1;33m!=\u001b[0m \u001b[1;36m0\u001b[0m\u001b[1;33m,\u001b[0m \u001b[1;34m'n is zero!'\u001b[0m\u001b[1;33m\u001b[0m\u001b[0m\n\u001b[0m\u001b[0;32m      4\u001b[0m     \u001b[1;32mreturn\u001b[0m \u001b[1;36m10\u001b[0m \u001b[1;33m/\u001b[0m \u001b[0mn\u001b[0m\u001b[1;33m\u001b[0m\u001b[0m\n\u001b[0;32m      5\u001b[0m \u001b[1;33m\u001b[0m\u001b[0m\n",
      "\u001b[1;31mAssertionError\u001b[0m: n is zero!"
     ]
    }
   ],
   "source": [
    "def foo(s):\n",
    "    n = int(s)\n",
    "    assert n != 0, 'n is zero!'\n",
    "    return 10 / n\n",
    "\n",
    "def main():\n",
    "    foo('0')\n",
    "\n",
    "main()"
   ]
  },
  {
   "cell_type": "code",
   "execution_count": 108,
   "metadata": {
    "collapsed": false
   },
   "outputs": [
    {
     "ename": "ZeroDivisionError",
     "evalue": "integer division or modulo by zero",
     "output_type": "error",
     "traceback": [
      "\u001b[1;31m---------------------------------------------------------------------------\u001b[0m",
      "\u001b[1;31mZeroDivisionError\u001b[0m                         Traceback (most recent call last)",
      "\u001b[1;32m<ipython-input-108-d7d902fc6f4c>\u001b[0m in \u001b[0;36m<module>\u001b[1;34m()\u001b[0m\n\u001b[0;32m      5\u001b[0m \u001b[0mn\u001b[0m \u001b[1;33m=\u001b[0m \u001b[0mint\u001b[0m\u001b[1;33m(\u001b[0m\u001b[0ms\u001b[0m\u001b[1;33m)\u001b[0m\u001b[1;33m\u001b[0m\u001b[0m\n\u001b[0;32m      6\u001b[0m \u001b[0mlogging\u001b[0m\u001b[1;33m.\u001b[0m\u001b[0minfo\u001b[0m\u001b[1;33m(\u001b[0m\u001b[1;34m'n = %d'\u001b[0m \u001b[1;33m%\u001b[0m \u001b[0mn\u001b[0m\u001b[1;33m)\u001b[0m\u001b[1;33m\u001b[0m\u001b[0m\n\u001b[1;32m----> 7\u001b[1;33m \u001b[1;32mprint\u001b[0m\u001b[1;33m(\u001b[0m\u001b[1;36m10\u001b[0m \u001b[1;33m/\u001b[0m \u001b[0mn\u001b[0m\u001b[1;33m)\u001b[0m\u001b[1;33m\u001b[0m\u001b[0m\n\u001b[0m\u001b[0;32m      8\u001b[0m \u001b[1;32mprint\u001b[0m \u001b[1;34m'areyouok'\u001b[0m\u001b[1;33m\u001b[0m\u001b[0m\n",
      "\u001b[1;31mZeroDivisionError\u001b[0m: integer division or modulo by zero"
     ]
    }
   ],
   "source": [
    "import logging\n",
    "logging.basicConfig(level=logging.INFO)\n",
    "\n",
    "s = '0'\n",
    "n = int(s)\n",
    "logging.info('n = %d' % n)\n",
    "print(10 / n)\n",
    "print 'areyouok'"
   ]
  },
  {
   "cell_type": "code",
   "execution_count": null,
   "metadata": {
    "collapsed": true
   },
   "outputs": [],
   "source": [
    "s = '0'\n",
    "n = int(s)\n",
    "print 10 / n"
   ]
  },
  {
   "cell_type": "markdown",
   "metadata": {},
   "source": [
    "## 单元测试 文档测试没看"
   ]
  },
  {
   "cell_type": "markdown",
   "metadata": {},
   "source": [
    "## 序列化\n",
    "我们把变量从内存中变成可存储或传输的过程称之为序列化，在Python中叫pickling，\n",
    "\n",
    "**定义**序列化 (Serialization)将对象的状态信息转换为可以存储或传输的形式的过程。在序列化期间，对象将其当前状态写入到临时或持久性存储区。以后，可以通过从存储区中读取或反序列化对象的状态，重新创建该对象。\n",
    "\n",
    "**优点** \n",
    "+ 序列化使得不同程序之间可以交互数据的读取；\n",
    "+ Pickle中的dump()只能将数据结构的序列化存储在磁盘中，然后load()再通过反序列化调用磁盘的相关文件；\n",
    "+ 使用Pickle的dumps()与loads()则可以直接在内存中操作：\n",
    "\n",
    "[云栖社区pickle](https://yq.aliyun.com/articles/40757)\n",
    "\n",
    "**简单介绍与说明**\n",
    "a.字典的数据结构在内存中存储，保存为文件无法识别,如果要保存，并在下一次打开时还能用，需要做Pickle序列化存储；\n",
    "\n",
    "b.读取时需要反序列化；\n",
    "\n",
    "c.pickle可以把程序的执行进度都保存下来；\n"
   ]
  },
  {
   "cell_type": "code",
   "execution_count": 125,
   "metadata": {
    "collapsed": false
   },
   "outputs": [
    {
     "data": {
      "text/plain": [
       "\"(dp0\\nS'age'\\np1\\nI20\\nsS'score'\\np2\\nI88\\nsS'name'\\np3\\nS'Bob'\\np4\\ns.\""
      ]
     },
     "execution_count": 125,
     "metadata": {},
     "output_type": "execute_result"
    }
   ],
   "source": [
    "# pickle.dumps()方法把任意对象序列化成一个bytes，然后，就可以把这个bytes写入文件\n",
    "import pickle\n",
    "d = dict(name='Bob', age=20, score=88)\n",
    "pickle.dumps(d)"
   ]
  },
  {
   "cell_type": "code",
   "execution_count": null,
   "metadata": {
    "collapsed": true
   },
   "outputs": [],
   "source": [
    "# 序列化与反序列化的一个简单实例\n",
    "## pickle.dump()直接把对象序列化后写入一个file-like Object\n",
    ">>> f = open('dump.txt', 'wb')\n",
    ">>> pickle.dump(d, f)\n",
    ">>> f.close()\n",
    "\n",
    "## pickle.load()方法从一个file-like Object中直接反序列化出对象\n",
    ">>> f = open('dump.txt', 'rb')\n",
    ">>> d = pickle.load(f)\n",
    ">>> f.close()\n",
    ">>> d\n",
    "{'age': 20, 'score': 88, 'name': 'Bob'}"
   ]
  },
  {
   "cell_type": "code",
   "execution_count": 116,
   "metadata": {
    "collapsed": false
   },
   "outputs": [
    {
     "name": "stdout",
     "output_type": "stream",
     "text": [
      "{'8908223631': ['rachel', 9000, 9000], '8906143632': ['alex3714', 15000, 15000]}\n"
     ]
    }
   ],
   "source": [
    "# a.存储序列化\n",
    "\n",
    "#!/usr/bin/env python\n",
    " \n",
    "import pickle\n",
    "account_info = {\n",
    "'8906143632':['alex3714', 15000, 15000],\n",
    "'8908223631':['rachel', 9000,9000]\n",
    "}\n",
    " \n",
    "f=file('F:\\\\account.pkl','wb')\n",
    "pickle.dump(account_info,f)\n",
    "f.close()\n",
    "\n",
    "# b.读取序列化\n",
    "\n",
    "#!/usr/bin/env python\n",
    " \n",
    "import pickle\n",
    "pkl_file = file('F:\\\\account.pkl','rb')\n",
    "account_list = pickle.load(pkl_file)\n",
    "pkl_file.close()\n",
    " \n",
    "print account_list\n"
   ]
  },
  {
   "cell_type": "code",
   "execution_count": 122,
   "metadata": {
    "collapsed": false
   },
   "outputs": [
    {
     "name": "stdout",
     "output_type": "stream",
     "text": [
      "{'8908223631': ['rachel', 9000, 9000], '8906143632': ['alex3714', 15000, 15000]}\n",
      "{'8908223631': ['xpleaf', 9000, 9000], '8906143632': ['alex3714', 15000, 15000]}\n"
     ]
    },
    {
     "ename": "EOFError",
     "evalue": "",
     "output_type": "error",
     "traceback": [
      "\u001b[1;31m---------------------------------------------------------------------------\u001b[0m",
      "\u001b[1;31mEOFError\u001b[0m                                  Traceback (most recent call last)",
      "\u001b[1;32m<ipython-input-122-d4fdebdc8737>\u001b[0m in \u001b[0;36m<module>\u001b[1;34m()\u001b[0m\n\u001b[0;32m     19\u001b[0m \u001b[0macc2\u001b[0m \u001b[1;33m=\u001b[0m \u001b[0mpickle\u001b[0m\u001b[1;33m.\u001b[0m\u001b[0mload\u001b[0m\u001b[1;33m(\u001b[0m\u001b[0mf\u001b[0m\u001b[1;33m)\u001b[0m    \u001b[1;31m#反序列化读取第二次状态的内容\u001b[0m\u001b[1;33m\u001b[0m\u001b[0m\n\u001b[0;32m     20\u001b[0m \u001b[1;32mprint\u001b[0m \u001b[0macc2\u001b[0m\u001b[1;33m\u001b[0m\u001b[0m\n\u001b[1;32m---> 21\u001b[1;33m \u001b[0macc3\u001b[0m \u001b[1;33m=\u001b[0m \u001b[0mpickle\u001b[0m\u001b[1;33m.\u001b[0m\u001b[0mload\u001b[0m\u001b[1;33m(\u001b[0m\u001b[0mf\u001b[0m\u001b[1;33m)\u001b[0m\u001b[1;33m\u001b[0m\u001b[0m\n\u001b[0m\u001b[0;32m     22\u001b[0m \u001b[1;32mprint\u001b[0m \u001b[0macc3\u001b[0m\u001b[1;33m\u001b[0m\u001b[0m\n",
      "\u001b[1;32mC:\\Anaconda2\\lib\\pickle.pyc\u001b[0m in \u001b[0;36mload\u001b[1;34m(file)\u001b[0m\n\u001b[0;32m   1382\u001b[0m \u001b[1;33m\u001b[0m\u001b[0m\n\u001b[0;32m   1383\u001b[0m \u001b[1;32mdef\u001b[0m \u001b[0mload\u001b[0m\u001b[1;33m(\u001b[0m\u001b[0mfile\u001b[0m\u001b[1;33m)\u001b[0m\u001b[1;33m:\u001b[0m\u001b[1;33m\u001b[0m\u001b[0m\n\u001b[1;32m-> 1384\u001b[1;33m     \u001b[1;32mreturn\u001b[0m \u001b[0mUnpickler\u001b[0m\u001b[1;33m(\u001b[0m\u001b[0mfile\u001b[0m\u001b[1;33m)\u001b[0m\u001b[1;33m.\u001b[0m\u001b[0mload\u001b[0m\u001b[1;33m(\u001b[0m\u001b[1;33m)\u001b[0m\u001b[1;33m\u001b[0m\u001b[0m\n\u001b[0m\u001b[0;32m   1385\u001b[0m \u001b[1;33m\u001b[0m\u001b[0m\n\u001b[0;32m   1386\u001b[0m \u001b[1;32mdef\u001b[0m \u001b[0mloads\u001b[0m\u001b[1;33m(\u001b[0m\u001b[0mstr\u001b[0m\u001b[1;33m)\u001b[0m\u001b[1;33m:\u001b[0m\u001b[1;33m\u001b[0m\u001b[0m\n",
      "\u001b[1;32mC:\\Anaconda2\\lib\\pickle.pyc\u001b[0m in \u001b[0;36mload\u001b[1;34m(self)\u001b[0m\n\u001b[0;32m    862\u001b[0m             \u001b[1;32mwhile\u001b[0m \u001b[1;36m1\u001b[0m\u001b[1;33m:\u001b[0m\u001b[1;33m\u001b[0m\u001b[0m\n\u001b[0;32m    863\u001b[0m                 \u001b[0mkey\u001b[0m \u001b[1;33m=\u001b[0m \u001b[0mread\u001b[0m\u001b[1;33m(\u001b[0m\u001b[1;36m1\u001b[0m\u001b[1;33m)\u001b[0m\u001b[1;33m\u001b[0m\u001b[0m\n\u001b[1;32m--> 864\u001b[1;33m                 \u001b[0mdispatch\u001b[0m\u001b[1;33m[\u001b[0m\u001b[0mkey\u001b[0m\u001b[1;33m]\u001b[0m\u001b[1;33m(\u001b[0m\u001b[0mself\u001b[0m\u001b[1;33m)\u001b[0m\u001b[1;33m\u001b[0m\u001b[0m\n\u001b[0m\u001b[0;32m    865\u001b[0m         \u001b[1;32mexcept\u001b[0m \u001b[0m_Stop\u001b[0m\u001b[1;33m,\u001b[0m \u001b[0mstopinst\u001b[0m\u001b[1;33m:\u001b[0m\u001b[1;33m\u001b[0m\u001b[0m\n\u001b[0;32m    866\u001b[0m             \u001b[1;32mreturn\u001b[0m \u001b[0mstopinst\u001b[0m\u001b[1;33m.\u001b[0m\u001b[0mvalue\u001b[0m\u001b[1;33m\u001b[0m\u001b[0m\n",
      "\u001b[1;32mC:\\Anaconda2\\lib\\pickle.pyc\u001b[0m in \u001b[0;36mload_eof\u001b[1;34m(self)\u001b[0m\n\u001b[0;32m    884\u001b[0m \u001b[1;33m\u001b[0m\u001b[0m\n\u001b[0;32m    885\u001b[0m     \u001b[1;32mdef\u001b[0m \u001b[0mload_eof\u001b[0m\u001b[1;33m(\u001b[0m\u001b[0mself\u001b[0m\u001b[1;33m)\u001b[0m\u001b[1;33m:\u001b[0m\u001b[1;33m\u001b[0m\u001b[0m\n\u001b[1;32m--> 886\u001b[1;33m         \u001b[1;32mraise\u001b[0m \u001b[0mEOFError\u001b[0m\u001b[1;33m\u001b[0m\u001b[0m\n\u001b[0m\u001b[0;32m    887\u001b[0m     \u001b[0mdispatch\u001b[0m\u001b[1;33m[\u001b[0m\u001b[1;34m''\u001b[0m\u001b[1;33m]\u001b[0m \u001b[1;33m=\u001b[0m \u001b[0mload_eof\u001b[0m\u001b[1;33m\u001b[0m\u001b[0m\n\u001b[0;32m    888\u001b[0m \u001b[1;33m\u001b[0m\u001b[0m\n",
      "\u001b[1;31mEOFError\u001b[0m: "
     ]
    }
   ],
   "source": [
    "# Pickle保存多种状态\n",
    " \n",
    "import pickle\n",
    "account_info = {\n",
    "'8906143632':['alex3714', 15000, 15000],\n",
    "'8908223631':['rachel', 9000,9000]\n",
    "}\n",
    " \n",
    "f=file('F:\\\\account_mult.pkl','wb')\n",
    "pickle.dump(account_info,f)    #第一次状态保存\n",
    "account_info['8908223631'][0] = 'xpleaf'    #修改字典中的某项内容\n",
    "pickle.dump(account_info,f)    #第二次状态保存\n",
    "f.close()\n",
    "\n",
    "\n",
    "f = file('F:\\\\account_mult.pkl')\n",
    "acc1 = pickle.load(f)    #反序列化读取第一次状态的内容\n",
    "print acc1\n",
    "acc2 = pickle.load(f)    #反序列化读取第二次状态的内容\n",
    "print acc2\n",
    "acc3 = pickle.load(f) \n",
    "print acc3"
   ]
  },
  {
   "cell_type": "markdown",
   "metadata": {},
   "source": [
    "## 强大的json\n",
    "如果我们要在不同的编程语言之间传递对象，就必须把对象序列化为标准格式，比如XML，但更好的方法是序列化为JSON，**因为JSON表示出来就是一个字符串，可以被所有语言读取，也可以方便地存储到磁盘或者通过网络传输**。JSON不仅是标准格式，并且比XML更快，而且可以直接在Web页面中读取，非常方便。"
   ]
  },
  {
   "cell_type": "code",
   "execution_count": 6,
   "metadata": {
    "collapsed": false
   },
   "outputs": [
    {
     "name": "stdout",
     "output_type": "stream",
     "text": [
      "{\"age\": 20, \"score\": 88, \"name\": \"Bob\"}\n"
     ]
    },
    {
     "data": {
      "text/plain": [
       "{u'age': 20, u'name': u'Bob', u'score': 88}"
      ]
     },
     "execution_count": 6,
     "metadata": {},
     "output_type": "execute_result"
    }
   ],
   "source": [
    "import json\n",
    "d = dict(name='Bob', age=20, score=88)\n",
    "json_str = json.dumps(d)                             #dumps()方法返回一个str，内容就是标准的JSON。\n",
    "print json_str\n",
    "\n",
    "# 类似的，dump()方法可以直接把JSON写入一个file-like Object。\n",
    "# 要把JSON反序列化为Python对象，用loads()或者对应的load()方法，\n",
    "# 前者把JSON的字符串反序列化，后者从file-like Object中读取字符串并反序列化：\n",
    "json.loads(json_str)\n"
   ]
  },
  {
   "cell_type": "code",
   "execution_count": 7,
   "metadata": {
    "collapsed": false
   },
   "outputs": [
    {
     "name": "stdout",
     "output_type": "stream",
     "text": [
      "{\"age\": 20, \"score\": 88, \"name\": \"Bob\"}\n"
     ]
    }
   ],
   "source": [
    "### json进阶\n",
    "#### Python的dict对象可以直接序列化为JSON的{}，不过，很多时候，我们更喜欢用class表示对象，比如定义Student类，然后序列化：\n",
    "\n",
    "import json\n",
    "\n",
    "class Student(object):\n",
    "    def __init__(self, name, age, score):\n",
    "        self.name = name\n",
    "        self.age = age\n",
    "        self.score = score\n",
    "\n",
    "s = Student('Bob', 20, 88)\n",
    "\n",
    "## method 1\n",
    "### 可选参数default就是把任意一个对象变成一个可序列为JSON的对象，我们只需要为Student专门写一个转换函数，再把函数传进去即可：\n",
    "\n",
    "def student2dict(std):\n",
    "    return {\n",
    "        'name': std.name,\n",
    "        'age': std.age,\n",
    "        'score': std.score\n",
    "    }\n",
    "### 这样，Student实例首先被student2dict()函数转换成dict，然后再被顺利序列化为JSON：\n",
    "\n",
    "print(json.dumps(s, default=student2dict))\n",
    "\n",
    "## method 2 一个偷懒的方法 因为通常class的实例都有一个__dict__属性，它就是一个dict，用来存储实例变量。\n",
    "# 也有少数例外，比如定义了__slots__的class。\n",
    "print(json.dumps(s, default=lambda obj: obj.__dict__))\n",
    "\n",
    "\n",
    "\n",
    "## 同样的道理，如果我们要把JSON反序列化为一个Student对象实例，loads()方法首先转换出一个dict对象，\n",
    "## 然后，我们传入的object_hook函数负责把dict转换为Student实例：\n",
    "\n",
    "def dict2student(d):\n",
    "    return Student(d['name'], d['age'], d['score'])\n",
    "\n",
    "## 运行结果如下：\n",
    "\n",
    ">>> json_str = '{\"age\": 20, \"score\": 88, \"name\": \"Bob\"}'\n",
    ">>> print(json.loads(json_str, object_hook=dict2student))\n",
    "<__main__.Student object at 0x10cd3c190>"
   ]
  },
  {
   "cell_type": "markdown",
   "metadata": {},
   "source": [
    "## 进程和线程　还是有时间整理的时候再来一遍吧\n",
    "线程是最小的执行单元，而进程由至少一个线程组成。如何调度进程和线程，完全由操作系统决定，程序自己不能决定什么时候执行，执行多长时间。\n",
    "多进程和多线程的程序涉及到同步、数据共享的问题，编写起来更复杂。\n",
    "总结一下就是，多任务的实现有3种方式：\n",
    "\n",
    "+ 多进程模式；\n",
    "+ 多线程模式；\n",
    "+　多进程+多线程模式。"
   ]
  },
  {
   "cell_type": "markdown",
   "metadata": {},
   "source": [
    "### 多进程"
   ]
  },
  {
   "cell_type": "code",
   "execution_count": 9,
   "metadata": {
    "collapsed": false
   },
   "outputs": [
    {
     "name": "stdout",
     "output_type": "stream",
     "text": [
      "Process (1400) start...\n",
      "I am child process (2605) and my parent is 1400.\n",
      "Process (1400) start...\n",
      "I (1400) just created a child process (2605).\n",
      "Parent process 1400.\n",
      "Child process will start.\n",
      "Child process will start.\n",
      "Parent process 2605.\n",
      "Run child process test (2629)...\n",
      "Child process end.\n",
      "Run child process test (2630)...\n",
      "Child process end.\n"
     ]
    }
   ],
   "source": [
    "# window下不可运行\n",
    "\n",
    "##　Unix/Linux操作系统提供了一个fork()系统调用，它非常特殊。普通的函数调用，调用一次，返回一次，但是fork()调用一次，返回两次，\n",
    "## 因为操作系统自动把当前进程（称为父进程）复制了一份（称为子进程），然后，分别在父进程和子进程内返回。\n",
    "##子进程永远返回0，而父进程返回子进程的ID。\n",
    "import os\n",
    "\n",
    "print('Process (%s) start...' % os.getpid())\n",
    "# Only works on Unix/Linux/Mac:\n",
    "pid = os.fork()\n",
    "if pid == 0:\n",
    "    print('I am child process (%s) and my parent is %s.' % (os.getpid(), os.getppid()))\n",
    "else:\n",
    "    print('I (%s) just created a child process (%s).' % (os.getpid(), pid))\n",
    "    \n",
    "## multiprocessing模块就是跨平台版本的多进程模块。\n",
    "\n",
    "## 启动一个子进程并等待结束\n",
    "from multiprocessing import Process\n",
    "import os\n",
    "\n",
    "# 子进程要执行的代码\n",
    "def run_proc(name):\n",
    "    print('Run child process %s (%s)...' % (name, os.getpid()))\n",
    "\n",
    "if __name__=='__main__':\n",
    "    print('Parent process %s.' % os.getpid())\n",
    "    p = Process(target=run_proc, args=('test',))\n",
    "    print('Child process will start.')\n",
    "    p.start()\n",
    "    p.join()\n",
    "    print('Child process end.')"
   ]
  },
  {
   "cell_type": "markdown",
   "metadata": {},
   "source": [
    "## 访问数据库\n",
    "只有把数据全部读到内存中才能自己遍历，但有时候数据的大小远远超过了内存（比如蓝光电影，40GB的数据），根本无法全部读入内存。\n",
    "为了便于程序保存和读取数据，而且，能直接通过条件快速查询到指定的数据，就出现了数据库（Database）这种专门用于集中存储和查询的软件。\n",
    "\n",
    "### SQLite\n",
    "SQLite是一种嵌入式数据库，它的数据库就是一个文件。暂时感觉用处不大，没认真看\n"
   ]
  },
  {
   "cell_type": "code",
   "execution_count": 17,
   "metadata": {
    "collapsed": false
   },
   "outputs": [
    {
     "ename": "OperationalError",
     "evalue": "table user already exists",
     "output_type": "error",
     "traceback": [
      "\u001b[0;31m---------------------------------------------------------------------------\u001b[0m",
      "\u001b[0;31mOperationalError\u001b[0m                          Traceback (most recent call last)",
      "\u001b[0;32m<ipython-input-17-99fc1ed1b5ef>\u001b[0m in \u001b[0;36m<module>\u001b[0;34m()\u001b[0m\n\u001b[1;32m      2\u001b[0m \u001b[0mconn\u001b[0m \u001b[0;34m=\u001b[0m \u001b[0msqlite3\u001b[0m\u001b[0;34m.\u001b[0m\u001b[0mconnect\u001b[0m\u001b[0;34m(\u001b[0m\u001b[0;34m'test.db'\u001b[0m\u001b[0;34m)\u001b[0m\u001b[0;34m\u001b[0m\u001b[0m\n\u001b[1;32m      3\u001b[0m \u001b[0mcursor\u001b[0m \u001b[0;34m=\u001b[0m \u001b[0mconn\u001b[0m\u001b[0;34m.\u001b[0m\u001b[0mcursor\u001b[0m\u001b[0;34m(\u001b[0m\u001b[0;34m)\u001b[0m\u001b[0;34m\u001b[0m\u001b[0m\n\u001b[0;32m----> 4\u001b[0;31m \u001b[0mcursor\u001b[0m\u001b[0;34m.\u001b[0m\u001b[0mexecute\u001b[0m\u001b[0;34m(\u001b[0m\u001b[0;34m'create table user (id varchar(20) primary key, name varchar(20))'\u001b[0m\u001b[0;34m)\u001b[0m\u001b[0;34m\u001b[0m\u001b[0m\n\u001b[0m\u001b[1;32m      5\u001b[0m \u001b[0mcursor\u001b[0m\u001b[0;34m.\u001b[0m\u001b[0mexecute\u001b[0m\u001b[0;34m(\u001b[0m\u001b[0;34m'insert into user (id, name) values (\\'1\\', \\'Michael\\')'\u001b[0m\u001b[0;34m)\u001b[0m\u001b[0;34m\u001b[0m\u001b[0m\n",
      "\u001b[0;31mOperationalError\u001b[0m: table user already exists"
     ]
    }
   ],
   "source": [
    "import sqlite3\n",
    "conn = sqlite3.connect('test.db')\n",
    "cursor = conn.cursor()\n",
    "cursor.execute('create table user (id varchar(20) primary key, name varchar(20))')\n",
    "cursor.execute('insert into user (id, name) values (\\'1\\', \\'Michael\\')')\n"
   ]
  },
  {
   "cell_type": "code",
   "execution_count": 18,
   "metadata": {
    "collapsed": false
   },
   "outputs": [
    {
     "data": {
      "text/plain": [
       "-1"
      ]
     },
     "execution_count": 18,
     "metadata": {},
     "output_type": "execute_result"
    }
   ],
   "source": [
    "cursor.rowcount"
   ]
  },
  {
   "cell_type": "markdown",
   "metadata": {},
   "source": [
    "## mysql\n",
    "MySQL是Web世界中使用最广泛的数据库服务器。SQLite的特点是轻量级、可嵌入，但不能承受高并发访问，适合桌面和移动应用。而MySQL是为服务器端设计的数据库，能承受高并发访问，同时占用的内存也远远大于SQLite。"
   ]
  }
 ],
 "metadata": {
  "anaconda-cloud": {},
  "kernelspec": {
   "display_name": "Python 2",
   "language": "python",
   "name": "python2"
  },
  "language_info": {
   "codemirror_mode": {
    "name": "ipython",
    "version": 2
   },
   "file_extension": ".py",
   "mimetype": "text/x-python",
   "name": "python",
   "nbconvert_exporter": "python",
   "pygments_lexer": "ipython2",
   "version": "2.7.12"
  }
 },
 "nbformat": 4,
 "nbformat_minor": 0
}
